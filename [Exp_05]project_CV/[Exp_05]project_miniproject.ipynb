{
 "cells": [
  {
   "cell_type": "markdown",
   "id": "934176a2",
   "metadata": {},
   "source": [
    "# 가위바위보 분류기 만들기"
   ]
  },
  {
   "cell_type": "code",
   "execution_count": 1,
   "id": "227c4d26",
   "metadata": {},
   "outputs": [
    {
     "name": "stdout",
     "output_type": "stream",
     "text": [
      "2.6.0\n",
      "1.21.4\n"
     ]
    }
   ],
   "source": [
    "# 라이브러리 체크\n",
    "import tensorflow as tf\n",
    "import numpy as np\n",
    "import matplotlib.pyplot as plt\n",
    "\n",
    "print(tf.__version__)\n",
    "print(np.__version__)"
   ]
  },
  {
   "cell_type": "code",
   "execution_count": 2,
   "id": "4c7ad49d",
   "metadata": {},
   "outputs": [],
   "source": [
    "# # 디렉토리 만들기\n",
    "# ! mkdir -p ~/aiffel/rock_scissor_paper/scissor\n",
    "# ! mkdir -p ~/aiffel/rock_scissor_paper/rock\n",
    "# ! mkdir -p ~/aiffel/rock_scissor_paper/paper\n",
    "\n",
    "# ! ls -l ~/aiffel/rock_scissor_paper"
   ]
  },
  {
   "cell_type": "code",
   "execution_count": 3,
   "id": "3f6d6700",
   "metadata": {},
   "outputs": [],
   "source": [
    "# # 터미널에서 직접 실행 필요\n",
    "\n",
    "# # 원하는 디렉토리로 이동 =3\n",
    "# ! cd  ~/aiffel/rock_scissor_paper/rock\n",
    "\n",
    "# # 압축 해제 명령어 : unzip <파일명>.zip\n",
    "# ! unzip rock-samples.zip\n",
    "\n",
    "# # 가위, 보에 대해서도 똑같이 실행!\n",
    "# ! cd  ~/aiffel/rock_scissor_paper/scissor\n",
    "# ! unzip scissor-samples.zip\n",
    "\n",
    "# ! cd  ~/aiffel/rock_scissor_paper/paper\n",
    "# ! unzip paper-samples.zip"
   ]
  },
  {
   "cell_type": "markdown",
   "id": "8e69a5d7",
   "metadata": {},
   "source": [
    "__데이터 벌러오기+Resize하기__\n",
    "- 우리가 학습한 이미지 크기가 28x28이기 때문에 가져온 데이터도 바꿔줘야 한다.  "
   ]
  },
  {
   "cell_type": "code",
   "execution_count": 4,
   "id": "3d80081b",
   "metadata": {},
   "outputs": [
    {
     "name": "stdout",
     "output_type": "stream",
     "text": [
      "PIL 라이브러리 import 완료!\n"
     ]
    }
   ],
   "source": [
    "from PIL import Image\n",
    "import glob\n",
    "import os\n",
    "\n",
    "print(\"PIL 라이브러리 import 완료!\")"
   ]
  },
  {
   "cell_type": "code",
   "execution_count": 5,
   "id": "a8c3da1b",
   "metadata": {},
   "outputs": [
    {
     "name": "stdout",
     "output_type": "stream",
     "text": [
      "3488  images to be resized.\n",
      "3488  images resized.\n",
      "가위 이미지 resize 완료!\n"
     ]
    }
   ],
   "source": [
    "def resize_images(img_path):\n",
    "    images=glob.glob(img_path + \"/*.jpg\")  \n",
    "    \n",
    "    print(len(images), \" images to be resized.\")\n",
    "\n",
    "    # 파일마다 모두 28x28 사이즈로 바꾸어 저장합니다.\n",
    "    target_size=(28,28)\n",
    "    for img in images:\n",
    "        old_img=Image.open(img)\n",
    "        new_img=old_img.resize(target_size,Image.ANTIALIAS)\n",
    "        new_img.save(img, \"JPEG\")\n",
    "    \n",
    "    print(len(images), \" images resized.\")\n",
    "\n",
    "# 가위 이미지가 저장된 디렉토리 아래의 모든 jpg 파일을 읽어들여서\n",
    "image_dir_path = \"data/train/scissor\"\n",
    "resize_images(image_dir_path)\n",
    "\n",
    "print(\"가위 이미지 resize 완료!\")"
   ]
  },
  {
   "cell_type": "code",
   "execution_count": 6,
   "id": "3ccd2e34",
   "metadata": {},
   "outputs": [
    {
     "name": "stdout",
     "output_type": "stream",
     "text": [
      "3278  images to be resized.\n",
      "3278  images resized.\n"
     ]
    }
   ],
   "source": [
    "# 바위 이미지가 저장된 디렉토리 아래의 모든 jpg 파일을 읽어들여서\n",
    "image_dir_path = \"data/train/rock\"\n",
    "\n",
    "\n",
    "# 파일마다 모두 28x28 사이즈로 바꾸어 저장합니다.\n",
    "resize_images(image_dir_path)"
   ]
  },
  {
   "cell_type": "code",
   "execution_count": 7,
   "id": "a7f1d35a",
   "metadata": {},
   "outputs": [
    {
     "name": "stdout",
     "output_type": "stream",
     "text": [
      "3730  images to be resized.\n",
      "3730  images resized.\n"
     ]
    }
   ],
   "source": [
    "# 보 이미지가 저장된 디렉토리 아래의 모든 jpg 파일을 읽어들여서\n",
    "image_dir_path = \"data/train/paper\"\n",
    "\n",
    "# 파일마다 모두 28x28 사이즈로 바꾸어 저장합니다.\n",
    "resize_images(image_dir_path)"
   ]
  },
  {
   "cell_type": "markdown",
   "id": "1a683d5d",
   "metadata": {},
   "source": [
    ">load_data() 함수는 입력으로 이미지가 있는 폴더 위치를 받습니다. 여기서는 rock_scissor_paper 폴더 위치를 적어주면 됩니다. 숫자 손글씨는 0~9 까지의 클래스가 있었던 것 기억하시죠? 가위바위보의 경우 3개의 클래스 즉, 가위: 0, 바위: 1, 보: 2 로 라벨링이 될 것입니다."
   ]
  },
  {
   "cell_type": "code",
   "execution_count": 8,
   "id": "230f385d",
   "metadata": {},
   "outputs": [
    {
     "name": "stdout",
     "output_type": "stream",
     "text": [
      "학습데이터(x_train)의 이미지 개수는 10496 입니다.\n",
      "x_train shape: (10496, 28, 28, 3)\n",
      "y_train shape: (10496,)\n"
     ]
    }
   ],
   "source": [
    "import numpy as np\n",
    "\n",
    "def load_data(img_path, number_of_data=10496):  # 가위바위보 이미지 개수 총합에 주의하세요.\n",
    "    # 가위 : 0, 바위 : 1, 보 : 2\n",
    "    img_size=28\n",
    "    color=3\n",
    "    #이미지 데이터와 라벨(가위 : 0, 바위 : 1, 보 : 2) 데이터를 담을 행렬(matrix) 영역을 생성합니다.\n",
    "    imgs=np.zeros(number_of_data*img_size*img_size*color,dtype=np.int32).reshape(number_of_data,img_size,img_size,color)\n",
    "    labels=np.zeros(number_of_data,dtype=np.int32)\n",
    "\n",
    "    idx=0\n",
    "    for file in glob.iglob(img_path+'/scissor/*.jpg'):\n",
    "        img = np.array(Image.open(file),dtype=np.int32)\n",
    "        imgs[idx,:,:,:]=img    # 데이터 영역에 이미지 행렬을 복사\n",
    "        labels[idx]=0   # 가위 : 0\n",
    "        idx=idx+1\n",
    "\n",
    "    for file in glob.iglob(img_path+'/rock/*.jpg'):\n",
    "        img = np.array(Image.open(file),dtype=np.int32)\n",
    "        imgs[idx,:,:,:]=img    # 데이터 영역에 이미지 행렬을 복사\n",
    "        labels[idx]=1   # 바위 : 1\n",
    "        idx=idx+1  \n",
    "    \n",
    "    for file in glob.iglob(img_path+'/paper/*.jpg'):\n",
    "        img = np.array(Image.open(file),dtype=np.int32)\n",
    "        imgs[idx,:,:,:]=img    # 데이터 영역에 이미지 행렬을 복사\n",
    "        labels[idx]=2   # 보 : 2\n",
    "        idx=idx+1\n",
    "        \n",
    "    print(\"학습데이터(x_train)의 이미지 개수는\", idx,\"입니다.\")\n",
    "    return imgs, labels\n",
    "\n",
    "image_dir_path = \"data/train/\"\n",
    "(x_train, y_train)=load_data(image_dir_path)\n",
    "\n",
    "\n",
    "print(\"x_train shape: {}\".format(x_train.shape))\n",
    "print(\"y_train shape: {}\".format(y_train.shape))"
   ]
  },
  {
   "cell_type": "code",
   "execution_count": 10,
   "id": "f3b32690",
   "metadata": {},
   "outputs": [],
   "source": [
    "x_train_norm = x_train/255.0   # 입력은 0~1 사이의 값으로 정규화"
   ]
  },
  {
   "cell_type": "code",
   "execution_count": 11,
   "id": "d6806fca",
   "metadata": {},
   "outputs": [
    {
     "name": "stdout",
     "output_type": "stream",
     "text": [
      "라벨:  0\n"
     ]
    },
    {
     "data": {
      "image/png": "[encoded data removed]",
      "text/plain": [
       "<Figure size 432x288 with 1 Axes>"
      ]
     },
     "metadata": {
      "needs_background": "light"
     },
     "output_type": "display_data"
    }
   ],
   "source": [
    "plt.imshow(x_train[0])\n",
    "print('라벨: ', y_train[0])"
   ]
  },
  {
   "cell_type": "markdown",
   "id": "fe89e88f",
   "metadata": {},
   "source": [
    "### 1차 학습\n",
    "> model1\n",
    "- epoch = 10\n",
    "- convolution layer 추가"
   ]
  },
  {
   "cell_type": "code",
   "execution_count": 89,
   "id": "db077c96",
   "metadata": {},
   "outputs": [
    {
     "name": "stdout",
     "output_type": "stream",
     "text": [
      "Model에 추가된 Layer 개수:  9\n",
      "Model: \"sequential_9\"\n",
      "_________________________________________________________________\n",
      "Layer (type)                 Output Shape              Param #   \n",
      "=================================================================\n",
      "conv2d_25 (Conv2D)           (None, 26, 26, 16)        448       \n",
      "_________________________________________________________________\n",
      "max_pooling2d_25 (MaxPooling (None, 13, 13, 16)        0         \n",
      "_________________________________________________________________\n",
      "conv2d_26 (Conv2D)           (None, 11, 11, 32)        4640      \n",
      "_________________________________________________________________\n",
      "max_pooling2d_26 (MaxPooling (None, 5, 5, 32)          0         \n",
      "_________________________________________________________________\n",
      "conv2d_27 (Conv2D)           (None, 3, 3, 64)          18496     \n",
      "_________________________________________________________________\n",
      "max_pooling2d_27 (MaxPooling (None, 1, 1, 64)          0         \n",
      "_________________________________________________________________\n",
      "flatten_9 (Flatten)          (None, 64)                0         \n",
      "_________________________________________________________________\n",
      "dense_18 (Dense)             (None, 16)                1040      \n",
      "_________________________________________________________________\n",
      "dense_19 (Dense)             (None, 3)                 51        \n",
      "=================================================================\n",
      "Total params: 24,675\n",
      "Trainable params: 24,675\n",
      "Non-trainable params: 0\n",
      "_________________________________________________________________\n"
     ]
    }
   ],
   "source": [
    "import tensorflow as tf\n",
    "from tensorflow import keras\n",
    "import numpy as np\n",
    "\n",
    "# model을 직접 만들어 보세요.\n",
    "# Hint! model의 입력/출력부에 특히 유의해 주세요. 가위바위보 데이터셋은 MNIST 데이터셋과 어떤 점이 달라졌나요?\n",
    "model1=keras.models.Sequential()\n",
    "model1.add(keras.layers.Conv2D(16, (3,3), activation='relu', input_shape=(28,28,3)))\n",
    "model1.add(keras.layers.MaxPool2D(2,2))\n",
    "model1.add(keras.layers.Conv2D(32, (3,3), activation='relu'))\n",
    "model1.add(keras.layers.MaxPooling2D((2,2)))\n",
    "# convolution 층 추가\n",
    "model1.add(keras.layers.Conv2D(64, (3,3), activation='relu'))\n",
    "model1.add(keras.layers.MaxPooling2D((2,2)))\n",
    "model1.add(keras.layers.Flatten())\n",
    "model1.add(keras.layers.Dense(16, activation='relu'))\n",
    "model1.add(keras.layers.Dense(3, activation='softmax'))\n",
    "\n",
    "print('Model에 추가된 Layer 개수: ', len(model1.layers))\n",
    "model1.summary()"
   ]
  },
  {
   "cell_type": "code",
   "execution_count": 90,
   "id": "54a1131c",
   "metadata": {
    "scrolled": false
   },
   "outputs": [
    {
     "name": "stdout",
     "output_type": "stream",
     "text": [
      "Epoch 1/10\n",
      "246/246 [==============================] - 1s 5ms/step - loss: 0.9784 - accuracy: 0.5011 - val_loss: 2.3286 - val_accuracy: 0.0000e+00\n",
      "Epoch 2/10\n",
      "246/246 [==============================] - 1s 4ms/step - loss: 0.6866 - accuracy: 0.7229 - val_loss: 1.4763 - val_accuracy: 0.2412\n",
      "Epoch 3/10\n",
      "246/246 [==============================] - 1s 4ms/step - loss: 0.4669 - accuracy: 0.8291 - val_loss: 1.0563 - val_accuracy: 0.5255\n",
      "Epoch 4/10\n",
      "246/246 [==============================] - 1s 4ms/step - loss: 0.3590 - accuracy: 0.8742 - val_loss: 0.8742 - val_accuracy: 0.6353\n",
      "Epoch 5/10\n",
      "246/246 [==============================] - 1s 4ms/step - loss: 0.2755 - accuracy: 0.9118 - val_loss: 0.5618 - val_accuracy: 0.7889\n",
      "Epoch 6/10\n",
      "246/246 [==============================] - 1s 4ms/step - loss: 0.2140 - accuracy: 0.9328 - val_loss: 0.3454 - val_accuracy: 0.8754\n",
      "Epoch 7/10\n",
      "246/246 [==============================] - 1s 4ms/step - loss: 0.1770 - accuracy: 0.9451 - val_loss: 0.8932 - val_accuracy: 0.7058\n",
      "Epoch 8/10\n",
      "246/246 [==============================] - 1s 4ms/step - loss: 0.1529 - accuracy: 0.9496 - val_loss: 0.4036 - val_accuracy: 0.8533\n",
      "Epoch 9/10\n",
      "246/246 [==============================] - 1s 4ms/step - loss: 0.1180 - accuracy: 0.9635 - val_loss: 0.3938 - val_accuracy: 0.8670\n",
      "Epoch 10/10\n",
      "246/246 [==============================] - 1s 4ms/step - loss: 0.1104 - accuracy: 0.9638 - val_loss: 0.4743 - val_accuracy: 0.8369\n"
     ]
    }
   ],
   "source": [
    "# model을 학습시키는 코드를 직접 작성해 보세요.\n",
    "# Hint! model.compile()과 model.fit()을 사용해 봅시다.\n",
    "model1.compile(optimizer = \"adam\", \n",
    "              loss = \"sparse_categorical_crossentropy\",\n",
    "              metrics = [\"accuracy\"])\n",
    "\n",
    "history = model1.fit(x_train_norm, y_train, validation_split=0.25, epochs = 10)"
   ]
  },
  {
   "cell_type": "markdown",
   "id": "65300276",
   "metadata": {},
   "source": [
    "__학습 결과 시각화__"
   ]
  },
  {
   "cell_type": "code",
   "execution_count": 91,
   "id": "43fd349c",
   "metadata": {},
   "outputs": [
    {
     "data": {
      "image/png": "[encoded data removed]",
      "text/plain": [
       "<Figure size 432x288 with 1 Axes>"
      ]
     },
     "metadata": {
      "needs_background": "light"
     },
     "output_type": "display_data"
    }
   ],
   "source": [
    "plt.plot(history.history['accuracy'])\n",
    "plt.plot(history.history['val_accuracy'])\n",
    "plt.title('model1 accuracy')\n",
    "plt.ylabel('accuracy')\n",
    "plt.xlabel('epoch')\n",
    "plt.legend(['train', 'Validation'], loc='upper left')\n",
    "plt.show()"
   ]
  },
  {
   "cell_type": "code",
   "execution_count": 92,
   "id": "7d1d7d68",
   "metadata": {},
   "outputs": [
    {
     "data": {
      "image/png": "[encoded data removed]",
      "text/plain": [
       "<Figure size 432x288 with 1 Axes>"
      ]
     },
     "metadata": {
      "needs_background": "light"
     },
     "output_type": "display_data"
    }
   ],
   "source": [
    "# 7 훈련 과정 시각화 (손실)\n",
    "plt.plot(history.history['loss'])\n",
    "plt.plot(history.history['val_loss'])\n",
    "plt.title('Model1 loss')\n",
    "plt.xlabel('Epoch')\n",
    "plt.ylabel('Loss')\n",
    "plt.legend(['Train', 'Validation'], loc='upper left')\n",
    "plt.show()"
   ]
  },
  {
   "cell_type": "markdown",
   "id": "ac4ab0b1",
   "metadata": {},
   "source": [
    "### 1차 테스트"
   ]
  },
  {
   "cell_type": "code",
   "execution_count": 93,
   "id": "9b9c052a",
   "metadata": {},
   "outputs": [
    {
     "name": "stdout",
     "output_type": "stream",
     "text": [
      "212  images to be resized.\n",
      "212  images resized.\n",
      "246  images to be resized.\n",
      "246  images resized.\n",
      "214  images to be resized.\n",
      "214  images resized.\n"
     ]
    }
   ],
   "source": [
    "# 테스트 파일 읽고 resize\n",
    "image_dir_path = \"data/test/rock/rock\"\n",
    "resize_images(image_dir_path)\n",
    "# 테스트 파일 읽고 resize\n",
    "image_dir_path = \"data/test/paper/paper\"\n",
    "resize_images(image_dir_path)\n",
    "# 테스트 파일 읽고 resize\n",
    "image_dir_path = \"data/test/scissor/scissor\"\n",
    "resize_images(image_dir_path)"
   ]
  },
  {
   "cell_type": "code",
   "execution_count": 94,
   "id": "ae1d3ceb",
   "metadata": {},
   "outputs": [
    {
     "name": "stdout",
     "output_type": "stream",
     "text": [
      "테스트데이터(x_test)의 이미지 개수는 672 입니다.\n",
      "x_test shape: (672, 28, 28, 3)\n",
      "y_test shape: (672,)\n"
     ]
    }
   ],
   "source": [
    "import numpy as np\n",
    "\n",
    "def load_data(img_path, number_of_data=672):  # 가위바위보 이미지 개수 총합에 주의하세요.\n",
    "    # 가위 : 0, 바위 : 1, 보 : 2\n",
    "    img_size=28\n",
    "    color=3\n",
    "    #이미지 데이터와 라벨(가위 : 0, 바위 : 1, 보 : 2) 데이터를 담을 행렬(matrix) 영역을 생성합니다.\n",
    "    imgs=np.zeros(number_of_data*img_size*img_size*color,dtype=np.int32).reshape(number_of_data,img_size,img_size,color)\n",
    "    labels=np.zeros(number_of_data,dtype=np.int32)\n",
    "\n",
    "    idx=0\n",
    "    for file in glob.iglob(img_path+'/scissor/scissor/*.jpg'):\n",
    "        img = np.array(Image.open(file),dtype=np.int32)\n",
    "        imgs[idx,:,:,:]=img    # 데이터 영역에 이미지 행렬을 복사\n",
    "        labels[idx]=0   # 가위 : 0\n",
    "        idx=idx+1\n",
    "\n",
    "    for file in glob.iglob(img_path+'/rock/rock/*.jpg'):\n",
    "        img = np.array(Image.open(file),dtype=np.int32)\n",
    "        imgs[idx,:,:,:]=img    # 데이터 영역에 이미지 행렬을 복사\n",
    "        labels[idx]=1   # 바위 : 1\n",
    "        idx=idx+1  \n",
    "    \n",
    "    for file in glob.iglob(img_path+'/paper/paper/*.jpg'):\n",
    "        img = np.array(Image.open(file),dtype=np.int32)\n",
    "        imgs[idx,:,:,:]=img    # 데이터 영역에 이미지 행렬을 복사\n",
    "        labels[idx]=2   # 보 : 2\n",
    "        idx=idx+1\n",
    "        \n",
    "    print(\"테스트데이터(x_test)의 이미지 개수는\", idx,\"입니다.\")\n",
    "    return imgs, labels\n",
    "\n",
    "image_dir_path = \"data/test\"\n",
    "(x_test, y_test)=load_data(image_dir_path, )\n",
    "x_test_norm = x_test/255.0   # 입력은 0~1 사이의 값으로 정규화\n",
    "\n",
    "print(\"x_test shape: {}\".format(x_test.shape))\n",
    "print(\"y_test shape: {}\".format(y_test.shape))"
   ]
  },
  {
   "cell_type": "code",
   "execution_count": 95,
   "id": "d682fad2",
   "metadata": {},
   "outputs": [
    {
     "name": "stdout",
     "output_type": "stream",
     "text": [
      "21/21 - 0s - loss: 1.3522 - accuracy: 0.6622\n",
      "test_loss: 1.352210521697998 \n",
      "test_accuracy: 0.6622023582458496\n"
     ]
    }
   ],
   "source": [
    "# 모델 시험\n",
    "test_loss, test_accuracy = model1.evaluate(x_test_norm, y_test, verbose=2)\n",
    "print(f\"test_loss: {test_loss} \")\n",
    "print(f\"test_accuracy: {test_accuracy}\")"
   ]
  },
  {
   "cell_type": "markdown",
   "id": "85f8daa6",
   "metadata": {},
   "source": [
    "__평가__\n",
    "1. epoch = 7일때 최저점을 찍고 이후에 loss와 accuracy가 상승한다."
   ]
  },
  {
   "cell_type": "markdown",
   "id": "4fd9ddc7",
   "metadata": {},
   "source": [
    "### 2차 학습\n",
    "> model2\n",
    "- epoch값 7로 변경"
   ]
  },
  {
   "cell_type": "code",
   "execution_count": 73,
   "id": "851e8496",
   "metadata": {},
   "outputs": [
    {
     "name": "stdout",
     "output_type": "stream",
     "text": [
      "Model2에 추가된 Layer 개수:  7\n",
      "Model: \"sequential_7\"\n",
      "_________________________________________________________________\n",
      "Layer (type)                 Output Shape              Param #   \n",
      "=================================================================\n",
      "conv2d_20 (Conv2D)           (None, 26, 26, 16)        448       \n",
      "_________________________________________________________________\n",
      "max_pooling2d_20 (MaxPooling (None, 13, 13, 16)        0         \n",
      "_________________________________________________________________\n",
      "conv2d_21 (Conv2D)           (None, 11, 11, 32)        4640      \n",
      "_________________________________________________________________\n",
      "max_pooling2d_21 (MaxPooling (None, 5, 5, 32)          0         \n",
      "_________________________________________________________________\n",
      "conv2d_22 (Conv2D)           (None, 3, 3, 64)          18496     \n",
      "_________________________________________________________________\n",
      "max_pooling2d_22 (MaxPooling (None, 1, 1, 64)          0         \n",
      "_________________________________________________________________\n",
      "flatten_7 (Flatten)          (None, 64)                0         \n",
      "_________________________________________________________________\n",
      "dense_14 (Dense)             (None, 16)                1040      \n",
      "_________________________________________________________________\n",
      "dense_15 (Dense)             (None, 3)                 51        \n",
      "=================================================================\n",
      "Total params: 24,675\n",
      "Trainable params: 24,675\n",
      "Non-trainable params: 0\n",
      "_________________________________________________________________\n"
     ]
    }
   ],
   "source": [
    "# model을 직접 만들어 보세요.\n",
    "# Hint! model의 입력/출력부에 특히 유의해 주세요. 가위바위보 데이터셋은 MNIST 데이터셋과 어떤 점이 달라졌나요?\n",
    "model2=keras.models.Sequential()\n",
    "model2.add(keras.layers.Conv2D(16, (3,3), activation='relu', input_shape=(28,28,3)))\n",
    "model2.add(keras.layers.MaxPool2D(2,2))\n",
    "model2.add(keras.layers.Conv2D(32, (3,3), activation='relu'))\n",
    "model2.add(keras.layers.MaxPooling2D((2,2)))\n",
    "# convolution 층 추가\n",
    "model2.add(keras.layers.Conv2D(64, (3,3), activation='relu'))\n",
    "model2.add(keras.layers.MaxPooling2D((2,2)))\n",
    "model2.add(keras.layers.Flatten())\n",
    "model2.add(keras.layers.Dense(16, activation='relu'))\n",
    "model2.add(keras.layers.Dense(3, activation='softmax'))\n",
    "\n",
    "print('Model2에 추가된 Layer 개수: ', len(model.layers))\n",
    "model2.summary()"
   ]
  },
  {
   "cell_type": "code",
   "execution_count": 74,
   "id": "1d957722",
   "metadata": {},
   "outputs": [
    {
     "name": "stdout",
     "output_type": "stream",
     "text": [
      "Epoch 1/7\n",
      "246/246 [==============================] - 1s 4ms/step - loss: 0.9866 - accuracy: 0.4968 - val_loss: 2.0792 - val_accuracy: 0.0000e+00\n",
      "Epoch 2/7\n",
      "246/246 [==============================] - 1s 4ms/step - loss: 0.6987 - accuracy: 0.7232 - val_loss: 1.4807 - val_accuracy: 0.1402\n",
      "Epoch 3/7\n",
      "246/246 [==============================] - 1s 4ms/step - loss: 0.4767 - accuracy: 0.8214 - val_loss: 0.7745 - val_accuracy: 0.6357\n",
      "Epoch 4/7\n",
      "246/246 [==============================] - 1s 4ms/step - loss: 0.3627 - accuracy: 0.8709 - val_loss: 1.4055 - val_accuracy: 0.3876\n",
      "Epoch 5/7\n",
      "246/246 [==============================] - 1s 4ms/step - loss: 0.2786 - accuracy: 0.9061 - val_loss: 0.7780 - val_accuracy: 0.6757\n",
      "Epoch 6/7\n",
      "246/246 [==============================] - 1s 4ms/step - loss: 0.2167 - accuracy: 0.9253 - val_loss: 0.4737 - val_accuracy: 0.8319\n",
      "Epoch 7/7\n",
      "246/246 [==============================] - 1s 4ms/step - loss: 0.1805 - accuracy: 0.9390 - val_loss: 0.5801 - val_accuracy: 0.7786\n"
     ]
    }
   ],
   "source": [
    "# model2을 학습시키는 코드를 직접 작성해 보세요.\n",
    "# Hint! model2.compile()과 model2.fit()을 사용해 봅시다.\n",
    "model2.compile(optimizer = \"adam\", \n",
    "              loss = \"sparse_categorical_crossentropy\",\n",
    "              metrics = [\"accuracy\"])\n",
    "\n",
    "history = model2.fit(x_train_norm, y_train, validation_split=0.25, epochs = 7)"
   ]
  },
  {
   "cell_type": "code",
   "execution_count": 75,
   "id": "1efa9242",
   "metadata": {},
   "outputs": [
    {
     "data": {
      "image/png": "[encoded data removed]",
      "text/plain": [
       "<Figure size 432x288 with 1 Axes>"
      ]
     },
     "metadata": {
      "needs_background": "light"
     },
     "output_type": "display_data"
    }
   ],
   "source": [
    "plt.plot(history.history['accuracy'])\n",
    "plt.plot(history.history['val_accuracy'])\n",
    "plt.title('model2 accuracy')\n",
    "plt.ylabel('accuracy')\n",
    "plt.xlabel('epoch')\n",
    "plt.legend(['train', 'Validation'], loc='upper left')\n",
    "plt.show()"
   ]
  },
  {
   "cell_type": "code",
   "execution_count": 76,
   "id": "e9247b43",
   "metadata": {},
   "outputs": [
    {
     "data": {
      "image/png": "[encoded data removed]",
      "text/plain": [
       "<Figure size 432x288 with 1 Axes>"
      ]
     },
     "metadata": {
      "needs_background": "light"
     },
     "output_type": "display_data"
    }
   ],
   "source": [
    "# 7 훈련 과정 시각화 (손실)\n",
    "plt.plot(history.history['loss'])\n",
    "plt.plot(history.history['val_loss'])\n",
    "plt.title('Model2 loss')\n",
    "plt.xlabel('Epoch')\n",
    "plt.ylabel('Loss')\n",
    "plt.legend(['Train', 'Validation'], loc='upper left')\n",
    "plt.show()"
   ]
  },
  {
   "cell_type": "markdown",
   "id": "98a09924",
   "metadata": {},
   "source": [
    "### 2차 테스트"
   ]
  },
  {
   "cell_type": "code",
   "execution_count": 77,
   "id": "49a5a541",
   "metadata": {},
   "outputs": [
    {
     "name": "stdout",
     "output_type": "stream",
     "text": [
      "212  images to be resized.\n",
      "212  images resized.\n",
      "246  images to be resized.\n",
      "246  images resized.\n",
      "214  images to be resized.\n",
      "214  images resized.\n"
     ]
    }
   ],
   "source": [
    "# 테스트 파일 읽고 resize\n",
    "image_dir_path = \"data/test/rock/rock\"\n",
    "resize_images(image_dir_path)\n",
    "# 테스트 파일 읽고 resize\n",
    "image_dir_path = \"data/test/paper/paper\"\n",
    "resize_images(image_dir_path)\n",
    "# 테스트 파일 읽고 resize\n",
    "image_dir_path = \"data/test/scissor/scissor\"\n",
    "resize_images(image_dir_path)"
   ]
  },
  {
   "cell_type": "code",
   "execution_count": 78,
   "id": "0b314b76",
   "metadata": {},
   "outputs": [
    {
     "name": "stdout",
     "output_type": "stream",
     "text": [
      "테스트데이터(x_test)의 이미지 개수는 672 입니다.\n",
      "x_test shape: (672, 28, 28, 3)\n",
      "y_test shape: (672,)\n"
     ]
    }
   ],
   "source": [
    "import numpy as np\n",
    "\n",
    "def load_data(img_path, number_of_data=672):  # 가위바위보 이미지 개수 총합에 주의하세요.\n",
    "    # 가위 : 0, 바위 : 1, 보 : 2\n",
    "    img_size=28\n",
    "    color=3\n",
    "    #이미지 데이터와 라벨(가위 : 0, 바위 : 1, 보 : 2) 데이터를 담을 행렬(matrix) 영역을 생성합니다.\n",
    "    imgs=np.zeros(number_of_data*img_size*img_size*color,dtype=np.int32).reshape(number_of_data,img_size,img_size,color)\n",
    "    labels=np.zeros(number_of_data,dtype=np.int32)\n",
    "\n",
    "    idx=0\n",
    "    for file in glob.iglob(img_path+'/scissor/scissor/*.jpg'):\n",
    "        img = np.array(Image.open(file),dtype=np.int32)\n",
    "        imgs[idx,:,:,:]=img    # 데이터 영역에 이미지 행렬을 복사\n",
    "        labels[idx]=0   # 가위 : 0\n",
    "        idx=idx+1\n",
    "\n",
    "    for file in glob.iglob(img_path+'/rock/rock/*.jpg'):\n",
    "        img = np.array(Image.open(file),dtype=np.int32)\n",
    "        imgs[idx,:,:,:]=img    # 데이터 영역에 이미지 행렬을 복사\n",
    "        labels[idx]=1   # 바위 : 1\n",
    "        idx=idx+1  \n",
    "    \n",
    "    for file in glob.iglob(img_path+'/paper/paper/*.jpg'):\n",
    "        img = np.array(Image.open(file),dtype=np.int32)\n",
    "        imgs[idx,:,:,:]=img    # 데이터 영역에 이미지 행렬을 복사\n",
    "        labels[idx]=2   # 보 : 2\n",
    "        idx=idx+1\n",
    "        \n",
    "    print(\"테스트데이터(x_test)의 이미지 개수는\", idx,\"입니다.\")\n",
    "    return imgs, labels\n",
    "\n",
    "image_dir_path = \"data/test\"\n",
    "(x_test, y_test)=load_data(image_dir_path, )\n",
    "x_test_norm = x_test/255.0   # 입력은 0~1 사이의 값으로 정규화\n",
    "\n",
    "print(\"x_test shape: {}\".format(x_test.shape))\n",
    "print(\"y_test shape: {}\".format(y_test.shape))"
   ]
  },
  {
   "cell_type": "code",
   "execution_count": 79,
   "id": "49d45260",
   "metadata": {},
   "outputs": [
    {
     "name": "stdout",
     "output_type": "stream",
     "text": [
      "21/21 - 0s - loss: 1.5100 - accuracy: 0.6577\n",
      "test_loss: 1.5099782943725586 \n",
      "test_accuracy: 0.6577380895614624\n"
     ]
    }
   ],
   "source": [
    "# 모델 시험\n",
    "test_loss, test_accuracy = model2.evaluate(x_test_norm, y_test, verbose=2)\n",
    "print(f\"test_loss: {test_loss} \")\n",
    "print(f\"test_accuracy: {test_accuracy}\")"
   ]
  },
  {
   "cell_type": "markdown",
   "id": "e1148a53",
   "metadata": {},
   "source": [
    "### 3차 학습\n",
    "> model3\n",
    "- convolution layer 하나 삭제"
   ]
  },
  {
   "cell_type": "code",
   "execution_count": 80,
   "id": "2f02d9b5",
   "metadata": {},
   "outputs": [
    {
     "name": "stdout",
     "output_type": "stream",
     "text": [
      "Model에 추가된 Layer 개수:  7\n",
      "Model: \"sequential_8\"\n",
      "_________________________________________________________________\n",
      "Layer (type)                 Output Shape              Param #   \n",
      "=================================================================\n",
      "conv2d_23 (Conv2D)           (None, 26, 26, 16)        448       \n",
      "_________________________________________________________________\n",
      "max_pooling2d_23 (MaxPooling (None, 13, 13, 16)        0         \n",
      "_________________________________________________________________\n",
      "conv2d_24 (Conv2D)           (None, 11, 11, 32)        4640      \n",
      "_________________________________________________________________\n",
      "max_pooling2d_24 (MaxPooling (None, 5, 5, 32)          0         \n",
      "_________________________________________________________________\n",
      "flatten_8 (Flatten)          (None, 800)               0         \n",
      "_________________________________________________________________\n",
      "dense_16 (Dense)             (None, 16)                12816     \n",
      "_________________________________________________________________\n",
      "dense_17 (Dense)             (None, 3)                 51        \n",
      "=================================================================\n",
      "Total params: 17,955\n",
      "Trainable params: 17,955\n",
      "Non-trainable params: 0\n",
      "_________________________________________________________________\n"
     ]
    }
   ],
   "source": [
    "model3=keras.models.Sequential()\n",
    "model3.add(keras.layers.Conv2D(16, (3,3), activation='relu', input_shape=(28,28,3)))\n",
    "model3.add(keras.layers.MaxPool2D(2,2))\n",
    "model3.add(keras.layers.Conv2D(32, (3,3), activation='relu'))\n",
    "model3.add(keras.layers.MaxPooling2D((2,2)))\n",
    "model3.add(keras.layers.Flatten())\n",
    "model3.add(keras.layers.Dense(16, activation='relu'))\n",
    "model3.add(keras.layers.Dense(3, activation='softmax'))\n",
    "\n",
    "print('Model에 추가된 Layer 개수: ', len(model.layers))\n",
    "model3.summary()"
   ]
  },
  {
   "cell_type": "code",
   "execution_count": 81,
   "id": "8b04dad6",
   "metadata": {},
   "outputs": [
    {
     "name": "stdout",
     "output_type": "stream",
     "text": [
      "Epoch 1/7\n",
      "246/246 [==============================] - 1s 4ms/step - loss: 0.8029 - accuracy: 0.6439 - val_loss: 1.4897 - val_accuracy: 0.0511\n",
      "Epoch 2/7\n",
      "246/246 [==============================] - 1s 3ms/step - loss: 0.4733 - accuracy: 0.8211 - val_loss: 1.2330 - val_accuracy: 0.3590\n",
      "Epoch 3/7\n",
      "246/246 [==============================] - 1s 3ms/step - loss: 0.3179 - accuracy: 0.8864 - val_loss: 0.7281 - val_accuracy: 0.6684\n",
      "Epoch 4/7\n",
      "246/246 [==============================] - 1s 3ms/step - loss: 0.2273 - accuracy: 0.9239 - val_loss: 0.4991 - val_accuracy: 0.7744\n",
      "Epoch 5/7\n",
      "246/246 [==============================] - 1s 3ms/step - loss: 0.1730 - accuracy: 0.9450 - val_loss: 0.4162 - val_accuracy: 0.8331\n",
      "Epoch 6/7\n",
      "246/246 [==============================] - 1s 3ms/step - loss: 0.1361 - accuracy: 0.9574 - val_loss: 0.3511 - val_accuracy: 0.8628\n",
      "Epoch 7/7\n",
      "246/246 [==============================] - 1s 3ms/step - loss: 0.1085 - accuracy: 0.9658 - val_loss: 0.1929 - val_accuracy: 0.9245\n"
     ]
    }
   ],
   "source": [
    "# model3을 학습시키는 코드를 직접 작성해 보세요.\n",
    "# Hint! model3.compile()과 model3.fit()을 사용해 봅시다.\n",
    "model3.compile(optimizer = \"adam\", \n",
    "              loss = \"sparse_categorical_crossentropy\",\n",
    "              metrics = [\"accuracy\"])\n",
    "\n",
    "history = model3.fit(x_train_norm, y_train, validation_split=0.25, epochs = 7)"
   ]
  },
  {
   "cell_type": "code",
   "execution_count": 82,
   "id": "cb9c02c7",
   "metadata": {},
   "outputs": [
    {
     "data": {
      "image/png": "[encoded data removed]",
      "text/plain": [
       "<Figure size 432x288 with 1 Axes>"
      ]
     },
     "metadata": {
      "needs_background": "light"
     },
     "output_type": "display_data"
    }
   ],
   "source": [
    "plt.plot(history.history['accuracy'])\n",
    "plt.plot(history.history['val_accuracy'])\n",
    "plt.title('model3 accuracy')\n",
    "plt.ylabel('accuracy')\n",
    "plt.xlabel('epoch')\n",
    "plt.legend(['train', 'Validation'], loc='upper left')\n",
    "plt.show()"
   ]
  },
  {
   "cell_type": "code",
   "execution_count": 83,
   "id": "1a7a3b4b",
   "metadata": {},
   "outputs": [
    {
     "data": {
      "image/png": "[encoded data removed]",
      "text/plain": [
       "<Figure size 432x288 with 1 Axes>"
      ]
     },
     "metadata": {
      "needs_background": "light"
     },
     "output_type": "display_data"
    }
   ],
   "source": [
    "# 7 훈련 과정 시각화 (손실)\n",
    "plt.plot(history.history['loss'])\n",
    "plt.plot(history.history['val_loss'])\n",
    "plt.title('Model3 loss')\n",
    "plt.xlabel('Epoch')\n",
    "plt.ylabel('Loss')\n",
    "plt.legend(['Train', 'Validation'], loc='upper left')\n",
    "plt.show()"
   ]
  },
  {
   "cell_type": "markdown",
   "id": "c4b6edc2",
   "metadata": {},
   "source": [
    "### 3차 테스트"
   ]
  },
  {
   "cell_type": "code",
   "execution_count": 84,
   "id": "9d291a1f",
   "metadata": {},
   "outputs": [
    {
     "name": "stdout",
     "output_type": "stream",
     "text": [
      "212  images to be resized.\n",
      "212  images resized.\n",
      "246  images to be resized.\n",
      "246  images resized.\n",
      "214  images to be resized.\n",
      "214  images resized.\n"
     ]
    }
   ],
   "source": [
    "# 테스트 파일 읽고 resize\n",
    "image_dir_path = \"data/test/rock/rock\"\n",
    "resize_images(image_dir_path)\n",
    "# 테스트 파일 읽고 resize\n",
    "image_dir_path = \"data/test/paper/paper\"\n",
    "resize_images(image_dir_path)\n",
    "# 테스트 파일 읽고 resize\n",
    "image_dir_path = \"data/test/scissor/scissor\"\n",
    "resize_images(image_dir_path)"
   ]
  },
  {
   "cell_type": "code",
   "execution_count": 85,
   "id": "c07cfd33",
   "metadata": {},
   "outputs": [
    {
     "name": "stdout",
     "output_type": "stream",
     "text": [
      "테스트데이터(x_test)의 이미지 개수는 672 입니다.\n",
      "x_test shape: (672, 28, 28, 3)\n",
      "y_test shape: (672,)\n"
     ]
    }
   ],
   "source": [
    "import numpy as np\n",
    "\n",
    "def load_data(img_path, number_of_data=672):  # 가위바위보 이미지 개수 총합에 주의하세요.\n",
    "    # 가위 : 0, 바위 : 1, 보 : 2\n",
    "    img_size=28\n",
    "    color=3\n",
    "    #이미지 데이터와 라벨(가위 : 0, 바위 : 1, 보 : 2) 데이터를 담을 행렬(matrix) 영역을 생성합니다.\n",
    "    imgs=np.zeros(number_of_data*img_size*img_size*color,dtype=np.int32).reshape(number_of_data,img_size,img_size,color)\n",
    "    labels=np.zeros(number_of_data,dtype=np.int32)\n",
    "\n",
    "    idx=0\n",
    "    for file in glob.iglob(img_path+'/scissor/scissor/*.jpg'):\n",
    "        img = np.array(Image.open(file),dtype=np.int32)\n",
    "        imgs[idx,:,:,:]=img    # 데이터 영역에 이미지 행렬을 복사\n",
    "        labels[idx]=0   # 가위 : 0\n",
    "        idx=idx+1\n",
    "\n",
    "    for file in glob.iglob(img_path+'/rock/rock/*.jpg'):\n",
    "        img = np.array(Image.open(file),dtype=np.int32)\n",
    "        imgs[idx,:,:,:]=img    # 데이터 영역에 이미지 행렬을 복사\n",
    "        labels[idx]=1   # 바위 : 1\n",
    "        idx=idx+1  \n",
    "    \n",
    "    for file in glob.iglob(img_path+'/paper/paper/*.jpg'):\n",
    "        img = np.array(Image.open(file),dtype=np.int32)\n",
    "        imgs[idx,:,:,:]=img    # 데이터 영역에 이미지 행렬을 복사\n",
    "        labels[idx]=2   # 보 : 2\n",
    "        idx=idx+1\n",
    "        \n",
    "    print(\"테스트데이터(x_test)의 이미지 개수는\", idx,\"입니다.\")\n",
    "    return imgs, labels\n",
    "\n",
    "image_dir_path = \"data/test\"\n",
    "(x_test, y_test)=load_data(image_dir_path, )\n",
    "x_test_norm = x_test/255.0   # 입력은 0~1 사이의 값으로 정규화\n",
    "\n",
    "print(\"x_test shape: {}\".format(x_test.shape))\n",
    "print(\"y_test shape: {}\".format(y_test.shape))"
   ]
  },
  {
   "cell_type": "code",
   "execution_count": 86,
   "id": "b0ccc687",
   "metadata": {},
   "outputs": [
    {
     "name": "stdout",
     "output_type": "stream",
     "text": [
      "21/21 - 0s - loss: 2.5915 - accuracy: 0.5104\n",
      "test_loss: 2.591477155685425 \n",
      "test_accuracy: 0.5104166865348816\n"
     ]
    }
   ],
   "source": [
    "# 모델 시험\n",
    "test_loss, test_accuracy = model3.evaluate(x_test_norm, y_test, verbose=2)\n",
    "print(f\"test_loss: {test_loss} \")\n",
    "print(f\"test_accuracy: {test_accuracy}\")"
   ]
  },
  {
   "cell_type": "markdown",
   "id": "e1b46bd7",
   "metadata": {},
   "source": [
    "__평가__\n",
    "- 오히려 정확도가 더 떨어짐\n",
    "- 결과적으로 model1의 성능이 가장 좋음"
   ]
  },
  {
   "cell_type": "markdown",
   "id": "a84b62ef",
   "metadata": {},
   "source": [
    "### 결과 분석"
   ]
  },
  {
   "cell_type": "code",
   "execution_count": 87,
   "id": "ba416ca5",
   "metadata": {},
   "outputs": [],
   "source": [
    "predicted_result = model1.predict(x_test_norm)  # model1이 추론한 확률값. \n",
    "predicted_labels = np.argmax(predicted_result, axis=1)"
   ]
  },
  {
   "cell_type": "code",
   "execution_count": 88,
   "id": "0f4e782a",
   "metadata": {},
   "outputs": [
    {
     "name": "stdout",
     "output_type": "stream",
     "text": [
      "예측확률분포: [0.9753566  0.00999152 0.01465188]\n",
      "라벨: 2, 예측결과: 0\n"
     ]
    },
    {
     "data": {
      "image/png": "[encoded data removed]",
      "text/plain": [
       "<Figure size 432x288 with 1 Axes>"
      ]
     },
     "metadata": {
      "needs_background": "light"
     },
     "output_type": "display_data"
    },
    {
     "name": "stdout",
     "output_type": "stream",
     "text": [
      "예측확률분포: [9.9851555e-01 9.0056631e-07 1.4835431e-03]\n",
      "라벨: 2, 예측결과: 0\n"
     ]
    },
    {
     "data": {
      "image/png": "[encoded data removed]",
      "text/plain": [
       "<Figure size 432x288 with 1 Axes>"
      ]
     },
     "metadata": {
      "needs_background": "light"
     },
     "output_type": "display_data"
    },
    {
     "name": "stdout",
     "output_type": "stream",
     "text": [
      "예측확률분포: [0.3177242  0.6740613  0.00821447]\n",
      "라벨: 2, 예측결과: 1\n"
     ]
    },
    {
     "data": {
      "image/png": "[encoded data removed]",
      "text/plain": [
       "<Figure size 432x288 with 1 Axes>"
      ]
     },
     "metadata": {
      "needs_background": "light"
     },
     "output_type": "display_data"
    },
    {
     "name": "stdout",
     "output_type": "stream",
     "text": [
      "예측확률분포: [0.02583047 0.00713533 0.9670342 ]\n",
      "라벨: 0, 예측결과: 2\n"
     ]
    },
    {
     "data": {
      "image/png": "[encoded data removed]",
      "text/plain": [
       "<Figure size 432x288 with 1 Axes>"
      ]
     },
     "metadata": {
      "needs_background": "light"
     },
     "output_type": "display_data"
    },
    {
     "name": "stdout",
     "output_type": "stream",
     "text": [
      "예측확률분포: [0.03526479 0.00447859 0.96025664]\n",
      "라벨: 0, 예측결과: 2\n"
     ]
    },
    {
     "data": {
      "image/png": "[encoded data removed]",
      "text/plain": [
       "<Figure size 432x288 with 1 Axes>"
      ]
     },
     "metadata": {
      "needs_background": "light"
     },
     "output_type": "display_data"
    }
   ],
   "source": [
    "import random\n",
    "wrong_predict_list=[]\n",
    "for i, _ in enumerate(predicted_labels):\n",
    "    # i번째 test_labels과 y_test이 다른 경우만 모아 봅시다. \n",
    "    if predicted_labels[i] != y_test[i]:\n",
    "        wrong_predict_list.append(i)\n",
    "\n",
    "# wrong_predict_list 에서 랜덤하게 5개만 뽑아봅시다.\n",
    "samples = random.choices(population=wrong_predict_list, k=5)\n",
    "\n",
    "for n in samples:\n",
    "    print(\"예측확률분포: \" + str(predicted_result[n]))\n",
    "    print(\"라벨: \" + str(y_test[n]) + \", 예측결과: \" + str(predicted_labels[n]))\n",
    "    plt.imshow(x_test[n], cmap=plt.cm.binary)\n",
    "    plt.show()"
   ]
  },
  {
   "cell_type": "markdown",
   "id": "afc0dc88",
   "metadata": {},
   "source": [
    "## 회고\n",
    "\n",
    "1. 처음에 학습데이터에 정확하게 찍힌 사진이 많은것이 좋다고 생각했다. \n",
    "1. 그래서 너무 많은 데이터를 학습시키기 보다는 정확하게 찍힌 소수의 사진을 넣으면 정확도가 올라갈줄 알았는데 결과는 그렇지가 않았다. \n",
    "1. 그래서 이미지를 많이 추가하니까 정확도가 올라갔다.\n",
    "1. 또한 레이어를 하나 추가하니까 정확도가 또 올라갔다. 다만 시간은 늘어났다. \n",
    "1. 레이어도 줄여보고 epoch도 줄여보고 정규화도 시켜보는 등 다양한 시도를 했지만, 결과적으로는 model1의 성능이 가장 좋았다. "
   ]
  }
 ],
 "metadata": {
  "kernelspec": {
   "display_name": "Python 3 (ipykernel)",
   "language": "python",
   "name": "python3"
  },
  "language_info": {
   "codemirror_mode": {
    "name": "ipython",
    "version": 3
   },
   "file_extension": ".py",
   "mimetype": "text/x-python",
   "name": "python",
   "nbconvert_exporter": "python",
   "pygments_lexer": "ipython3",
   "version": "3.9.7"
  }
 },
 "nbformat": 4,
 "nbformat_minor": 5
}

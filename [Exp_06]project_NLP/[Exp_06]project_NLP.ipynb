{
 "cells": [
  {
   "cell_type": "code",
   "execution_count": null,
   "id": "Ekv81mt0txNO",
   "metadata": {
    "colab": {
     "base_uri": "https://localhost:8080/"
    },
    "executionInfo": {
     "elapsed": 2715,
     "status": "ok",
     "timestamp": 1665457026910,
     "user": {
      "displayName": "김태종",
      "userId": "09259876720802222860"
     },
     "user_tz": -540
    },
    "id": "Ekv81mt0txNO",
    "outputId": "695b7278-926f-4bfe-d159-c64ec95a3997"
   },
   "outputs": [
    {
     "name": "stdout",
     "output_type": "stream",
     "text": [
      "Drive already mounted at /content/drive; to attempt to forcibly remount, call drive.mount(\"/content/drive\", force_remount=True).\n"
     ]
    }
   ],
   "source": [
    "# 구글 드라이브 연결\n",
    "from google.colab import drive\n",
    "drive.mount('/content/drive')"
   ]
  },
  {
   "cell_type": "markdown",
   "id": "1918cbe3",
   "metadata": {
    "id": "1918cbe3"
   },
   "source": [
    "# Project : 멋진 작사가 만들기"
   ]
  },
  {
   "cell_type": "markdown",
   "id": "2414d745",
   "metadata": {
    "id": "2414d745"
   },
   "source": [
    "### 라이브러리 버전 확인"
   ]
  },
  {
   "cell_type": "code",
   "execution_count": null,
   "id": "4124ad49",
   "metadata": {
    "colab": {
     "base_uri": "https://localhost:8080/"
    },
    "executionInfo": {
     "elapsed": 2882,
     "status": "ok",
     "timestamp": 1665457029790,
     "user": {
      "displayName": "김태종",
      "userId": "09259876720802222860"
     },
     "user_tz": -540
    },
    "id": "4124ad49",
    "outputId": "b670d11f-7dc5-45bf-ba4b-7739518a5d7c"
   },
   "outputs": [
    {
     "name": "stdout",
     "output_type": "stream",
     "text": [
      "2.8.2\n"
     ]
    }
   ],
   "source": [
    "import glob  #glob 모듈의 glob 함수는 사용자가 제시한 조건에 맞는 파일명을 리스트 형식으로 반환한다\n",
    "import tensorflow as tf\n",
    "import numpy as np\n",
    "\n",
    "print(tf.__version__)"
   ]
  },
  {
   "cell_type": "markdown",
   "id": "ad82a5a3",
   "metadata": {
    "id": "ad82a5a3"
   },
   "source": [
    "### Step 1. 데이터 다운로드\n",
    "\n",
    "이미 실습(1) 데이터 다듬기에서 Cloud shell에 심볼릭 링크로 ~/aiffel/lyricist/data를 생성하셨다면, ~/aiffel/lyricist/data/lyrics에 데이터가 있습니다."
   ]
  },
  {
   "cell_type": "markdown",
   "id": "460d7fe5",
   "metadata": {
    "id": "460d7fe5"
   },
   "source": [
    "### Step 2. 데이터 읽어오기\n",
    "glob 모듈을 사용하면 파일을 읽어오는 작업을 하기가 아주 용이함.  \n",
    "glob을 활용하여 모든 txt 파일을 읽어온 후, raw_corpus리스트 문장 단위로 저장하도록 함.  "
   ]
  },
  {
   "cell_type": "code",
   "execution_count": null,
   "id": "0672ea68",
   "metadata": {
    "colab": {
     "base_uri": "https://localhost:8080/"
    },
    "executionInfo": {
     "elapsed": 4,
     "status": "ok",
     "timestamp": 1665457029790,
     "user": {
      "displayName": "김태종",
      "userId": "09259876720802222860"
     },
     "user_tz": -540
    },
    "id": "0672ea68",
    "outputId": "17fc561f-057d-4168-9801-c81cf43c476a"
   },
   "outputs": [
    {
     "name": "stdout",
     "output_type": "stream",
     "text": [
      "데이터 크기: 187088\n",
      "Examples:\n",
      " ['Looking for some education', 'Made my way into the night', 'All that bullshit conversation']\n"
     ]
    }
   ],
   "source": [
    "import glob\n",
    "import os\n",
    "\n",
    "# txt_file_path = os.getenv('HOME')+'/content/drive/MyDrive/01.개인폴더/01. study/02. AIFFEL/03.Explore/[Exp_06]project_NLP_lyricistmaker/data/*' #os.getenv(x)함수는 환경 변수x의 값을 포함하는 문자열 변수를 반환합니다. txt_file_path 에 \"/root/aiffel/lyricist/data/lyrics/*\" 저장\n",
    "txt_file_path = \"/content/drive/MyDrive/data/*\"\n",
    "txt_list = glob.glob(txt_file_path) #txt_file_path 경로에 있는 모든 파일명을 리스트 형식으로 txt_list 에 할당\n",
    "\n",
    "raw_corpus = [] \n",
    "\n",
    "# 여러개의 txt 파일을 모두 읽어서 raw_corpus 에 담습니다.\n",
    "for txt_file in txt_list:\n",
    "    with open(txt_file, \"r\") as f:\n",
    "        raw = f.read().splitlines() #read() : 파일 전체의 내용을 하나의 문자열로 읽어온다. , splitlines()  : 여러라인으로 구분되어 있는 문자열을 한라인씩 분리하여 리스트로 반환\n",
    "        raw_corpus.extend(raw) # extend() : 리스트함수로 추가적인 내용을 연장 한다.\n",
    "\n",
    "print(\"데이터 크기:\", len(raw_corpus))\n",
    "print(\"Examples:\\n\", raw_corpus[:3])"
   ]
  },
  {
   "cell_type": "markdown",
   "id": "c301eb2a",
   "metadata": {
    "id": "c301eb2a"
   },
   "source": [
    "### Step 3. 데이터 정제\n",
    "\n",
    "- preprocess_sentence() 활용\n",
    "- 지나치게 긴문장은 과도한 padding을 갖게하고, 노래 가사 작사에도 어울리지 않음\n",
    "- 그러므로 토큰 수가 15개를 넘어가는 문장을 학습 데이터에서 제외"
   ]
  },
  {
   "cell_type": "code",
   "execution_count": null,
   "id": "23e02c9d",
   "metadata": {
    "id": "23e02c9d"
   },
   "outputs": [],
   "source": [
    "import re\n",
    "# 입력된 문장을\n",
    "#     1. 소문자로 바꾸고, 양쪽 공백을 지웁니다\n",
    "#     2. 특수문자 양쪽에 공백을 넣고\n",
    "#     3. 여러개의 공백은 하나의 공백으로 바꿉니다\n",
    "#     4. a-zA-Z?.!,¿가 아닌 모든 문자를 하나의 공백으로 바꿉니다\n",
    "#     5. 다시 양쪽 공백을 지웁니다\n",
    "#     6. 문장 시작에는 <start>, 끝에는 <end>를 추가합니다\n",
    "# 이 순서로 처리해주면 문제가 되는 상황을 방지할 수 있겠네요!\n",
    "def preprocess_sentence(sentence):\n",
    "    sentence = sentence.lower().strip() # 1\n",
    "    sentence = re.sub(r'[.]+', \".\" , sentence) # 2 마침표가 여러개인것을 하나로\n",
    "    sentence = re.sub(r\"([?.!,¿])\", r\" \\1 \", sentence) # 3\n",
    "    sentence = re.sub(r'[\" \"]+', \" \", sentence) # 4\n",
    "    sentence = re.sub(r\"[^a-zA-Z?.!,¿']+\", \" \", sentence) # 5\n",
    "    sentence = sentence.strip() # 6\n",
    "    sentence = '<start> ' + sentence + ' <end>' # 7\n",
    "    return sentence\n",
    "# print(preprocess_sentence(\"sdjf  dsf ...................\"))"
   ]
  },
  {
   "cell_type": "code",
   "execution_count": null,
   "id": "b1e1deb6",
   "metadata": {
    "colab": {
     "base_uri": "https://localhost:8080/"
    },
    "executionInfo": {
     "elapsed": 2477,
     "status": "ok",
     "timestamp": 1665457032265,
     "user": {
      "displayName": "김태종",
      "userId": "09259876720802222860"
     },
     "user_tz": -540
    },
    "id": "b1e1deb6",
    "outputId": "c3e64f2b-221a-4014-e1fd-b6c440e43847",
    "scrolled": true
   },
   "outputs": [
    {
     "data": {
      "text/plain": [
       "['<start> looking for some education <end>',\n",
       " '<start> made my way into the night <end>',\n",
       " '<start> all that bullshit conversation <end>',\n",
       " \"<start> i don't even wanna waste your time <end>\",\n",
       " \"<start> let's just say that maybe <end>\",\n",
       " '<start> you could help me ease my mind <end>',\n",
       " \"<start> i ain't mr . right but if you're looking for fast love <end>\",\n",
       " \"<start> if that's love in your eyes <end>\",\n",
       " \"<start> it's more than enough <end>\",\n",
       " '<start> had some bad love <end>']"
      ]
     },
     "execution_count": 5,
     "metadata": {},
     "output_type": "execute_result"
    }
   ],
   "source": [
    "# 여기에 정제된 문장을 모을겁니다\n",
    "corpus = []\n",
    "\n",
    "# raw_corpus list에 저장된 문장들을 순서대로 반환하여 sentence에 저장\n",
    "for sentence in raw_corpus:\n",
    "    # 우리가 원하지 않는 문장은 건너뜁니다\n",
    "    if len(sentence) == 0: continue\n",
    "    if sentence[-1] == \":\": continue\n",
    "    \n",
    "    # 앞서 구현한 preprocess_sentence() 함수를 이용하여 문장을 정제를 하고 담아주세요\n",
    "    preprocessed_sentence = preprocess_sentence(sentence)\n",
    "    if len(preprocessed_sentence.split()) > 15: continue # 길이가 15초과인 문장 제외\n",
    "    corpus.append(preprocessed_sentence)\n",
    "    \n",
    "        \n",
    "# 정제된 결과를 10개만 확인해보죠\n",
    "corpus[:10]"
   ]
  },
  {
   "cell_type": "code",
   "execution_count": null,
   "id": "9d67f5f0",
   "metadata": {
    "id": "9d67f5f0"
   },
   "outputs": [],
   "source": [
    "for i in corpus:\n",
    "    if len(i.split()) > 15:\n",
    "        print(i)"
   ]
  },
  {
   "cell_type": "code",
   "execution_count": null,
   "id": "c423d6b8",
   "metadata": {
    "colab": {
     "base_uri": "https://localhost:8080/"
    },
    "executionInfo": {
     "elapsed": 3326,
     "status": "ok",
     "timestamp": 1665457035589,
     "user": {
      "displayName": "김태종",
      "userId": "09259876720802222860"
     },
     "user_tz": -540
    },
    "id": "c423d6b8",
    "outputId": "09966f50-e5eb-4e8c-c8af-1608f4a5ef3c"
   },
   "outputs": [
    {
     "name": "stdout",
     "output_type": "stream",
     "text": [
      "[[  2 294  26 ...   0   0   0]\n",
      " [  2 223  12 ...   0   0   0]\n",
      " [  2  22  15 ...   0   0   0]\n",
      " ...\n",
      " [  2  24  71 ...   0   0   0]\n",
      " [  2  37  21 ...   0   0   0]\n",
      " [  2  24  71 ...   0   0   0]] <keras_preprocessing.text.Tokenizer object at 0x7fb6d249f290>\n"
     ]
    }
   ],
   "source": [
    "# 토큰화 할 때 텐서플로우의 Tokenizer와 pad_sequences를 사용합니다\n",
    "# 더 잘 알기 위해 아래 문서들을 참고하면 좋습니다\n",
    "# https://www.tensorflow.org/api_docs/python/tf/keras/preprocessing/text/Tokenizer\n",
    "# https://www.tensorflow.org/api_docs/python/tf/keras/preprocessing/sequence/pad_sequences\n",
    "def tokenize(corpus):\n",
    "    tokenizer = tf.keras.preprocessing.text.Tokenizer(\n",
    "        num_words=12000, \n",
    "        filters=' ',\n",
    "        oov_token=\"<unk>\"\n",
    "    )\n",
    "    # corpus를 이용해 tokenizer 내부의 단어장을 완성합니다\n",
    "    # tokenizer.fit_on_texts(texts): 문자 데이터를 입력받아 리스트의 형태로 변환하는 메서드\n",
    "    tokenizer.fit_on_texts(corpus)\n",
    "    # 준비한 tokenizer를 이용해 corpus를 Tensor로 변환합니다\n",
    "    # tokenizer.texts_to_sequences(texts): 텍스트 안의 단어들을 숫자의 시퀀스 형태로 변환하는 메서드\n",
    "    tensor = tokenizer.texts_to_sequences(corpus)   \n",
    "    # 입력 데이터의 시퀀스 길이를 일정하게 맞춰줍니다\n",
    "    # 만약 시퀀스가 짧다면 문장 뒤에 패딩을 붙여 길이를 맞춰줍니다.\n",
    "    # 문장 앞에 패딩을 붙여 길이를 맞추고 싶다면 padding='pre'를 사용합니다\n",
    "    tensor = tf.keras.preprocessing.sequence.pad_sequences(tensor, padding='post')  \n",
    "    \n",
    "    print(tensor,tokenizer)\n",
    "    return tensor, tokenizer\n",
    "\n",
    "tensor, tokenizer = tokenize(corpus)"
   ]
  },
  {
   "cell_type": "code",
   "execution_count": null,
   "id": "30ff3569",
   "metadata": {
    "colab": {
     "base_uri": "https://localhost:8080/"
    },
    "executionInfo": {
     "elapsed": 7,
     "status": "ok",
     "timestamp": 1665457035590,
     "user": {
      "displayName": "김태종",
      "userId": "09259876720802222860"
     },
     "user_tz": -540
    },
    "id": "30ff3569",
    "outputId": "494cca14-20e8-4946-e4ea-878e419b22c0"
   },
   "outputs": [
    {
     "data": {
      "text/plain": [
       "(158745, 15)"
      ]
     },
     "execution_count": 8,
     "metadata": {},
     "output_type": "execute_result"
    }
   ],
   "source": [
    "tensor.shape"
   ]
  },
  {
   "cell_type": "code",
   "execution_count": null,
   "id": "6ce04105",
   "metadata": {
    "colab": {
     "base_uri": "https://localhost:8080/"
    },
    "executionInfo": {
     "elapsed": 5,
     "status": "ok",
     "timestamp": 1665457035590,
     "user": {
      "displayName": "김태종",
      "userId": "09259876720802222860"
     },
     "user_tz": -540
    },
    "id": "6ce04105",
    "outputId": "68d6c207-c0d8-4d15-bb69-a7fd94a3fc54"
   },
   "outputs": [
    {
     "name": "stdout",
     "output_type": "stream",
     "text": [
      "1 : <unk>\n",
      "2 : <start>\n",
      "3 : <end>\n",
      "4 : ,\n",
      "5 : the\n",
      "6 : i\n",
      "7 : you\n",
      "8 : and\n",
      "9 : a\n",
      "10 : to\n"
     ]
    }
   ],
   "source": [
    "# tokenizer.index_word: 현재 계산된 단어의 인덱스와 인덱스에 해당하는 단어를 dictionary 형대로 반환 (Ex. {index: '~~', index: '~~', ...})\n",
    "for idx in tokenizer.index_word:\n",
    "    print(idx, \":\", tokenizer.index_word[idx])\n",
    "\n",
    "    if idx >= 10: break"
   ]
  },
  {
   "cell_type": "markdown",
   "id": "47b72b4b",
   "metadata": {
    "id": "47b72b4b"
   },
   "source": [
    "### Step 4. 평가 데이터셋 분리\n",
    "\n",
    "훈련데이터와 평가 데이터를 분리하세요\n",
    "\n",
    "- tokenize() 함수로 데이터를 Tensor로 변환한 후, sklearn 모듈의 train_test_spit() 함수를 사용해 훈련 데이털와 평가 데이터를 분리\n",
    "- 단어장의 크기는 12,000 이상으로 설정하세요.\n",
    "- 총 데이터의 20%를 평가 데이터셋으로 사용해주세요."
   ]
  },
  {
   "cell_type": "code",
   "execution_count": null,
   "id": "aecfa949",
   "metadata": {
    "colab": {
     "base_uri": "https://localhost:8080/"
    },
    "executionInfo": {
     "elapsed": 4,
     "status": "ok",
     "timestamp": 1665457035590,
     "user": {
      "displayName": "김태종",
      "userId": "09259876720802222860"
     },
     "user_tz": -540
    },
    "id": "aecfa949",
    "outputId": "bad6043b-ad4c-43af-815b-c406fae6cc41"
   },
   "outputs": [
    {
     "name": "stdout",
     "output_type": "stream",
     "text": [
      "[   2  294   26   91 4638    3    0    0    0    0    0    0    0    0]\n",
      "[ 294   26   91 4638    3    0    0    0    0    0    0    0    0    0]\n"
     ]
    }
   ],
   "source": [
    "src_input = tensor[:,:-1]\n",
    "tgt_input = tensor[:,1:]\n",
    "print(src_input[0])\n",
    "print(tgt_input[0])"
   ]
  },
  {
   "cell_type": "code",
   "execution_count": null,
   "id": "9c862918",
   "metadata": {
    "id": "9c862918"
   },
   "outputs": [],
   "source": [
    "from sklearn.model_selection import train_test_split\n",
    "enc_train, enc_val, dec_train, dec_val = train_test_split(src_input,\n",
    "                                                          tgt_input,\n",
    "                                                          random_state = 42,\n",
    "                                                          test_size = 0.2)"
   ]
  },
  {
   "cell_type": "markdown",
   "id": "859f244a",
   "metadata": {
    "id": "859f244a"
   },
   "source": [
    "### Step 5. 인공지능 만들기"
   ]
  },
  {
   "cell_type": "code",
   "execution_count": null,
   "id": "63f8ae72",
   "metadata": {
    "id": "63f8ae72"
   },
   "outputs": [],
   "source": [
    "BUFFER_SIZE = len(enc_train)\n",
    "BATCH_SIZE = 256\n",
    "steps_per_epoch = len(enc_train) // BATCH_SIZE\n",
    "\n",
    "VOCAB_SIZE = len(tokenizer.index_word) + 1   \n",
    "\n",
    "# 준비한 데이터 소스로부터 데이터셋을 만듭니다\n",
    "# 데이터셋에 대해서는 아래 문서를 참고하세요\n",
    "# 자세히 알아둘수록 도움이 많이 되는 중요한 문서입니다\n",
    "# https://www.tensorflow.org/api_docs/python/tf/data/Dataset\n",
    "dataset_train = tf.data.Dataset.from_tensor_slices((enc_train, dec_train))\n",
    "dataset_train = dataset_train.shuffle(BUFFER_SIZE)\n",
    "dataset_train = dataset_train.batch(BATCH_SIZE, drop_remainder=True)\n",
    "\n",
    "dataset_val = tf.data.Dataset.from_tensor_slices((enc_val, dec_val))\n",
    "dataset_val = dataset_val.shuffle(BUFFER_SIZE)\n",
    "dataset_val = dataset_val.batch(BATCH_SIZE, drop_remainder=True)"
   ]
  },
  {
   "cell_type": "markdown",
   "id": "d331717a",
   "metadata": {
    "id": "d331717a"
   },
   "source": [
    "__LSTM 모델 사용__"
   ]
  },
  {
   "cell_type": "code",
   "execution_count": null,
   "id": "870b1864",
   "metadata": {
    "id": "870b1864"
   },
   "outputs": [],
   "source": [
    "# \n",
    "class TextGenerator(tf.keras.Model):\n",
    "    def __init__(self, vocab_size, embedding_size, hidden_size):\n",
    "        super().__init__()\n",
    "        # Embedding 레이어, 2개의 LSTM 레이어, 1개의 Dense 레이어로 구성되어 있다.\n",
    "        # Embedding 레이어는 단어 사전의 인덱스 값을 해당 인덱스 번째의 워드 벡터로 바꿔준다.\n",
    "        # 이 워드 벡터는 의미 벡터 공간에서 단어의 추상적 표현으로 사용된다. \n",
    "        self.embedding = tf.keras.layers.Embedding(vocab_size, embedding_size) \n",
    "        self.rnn_1 = tf.keras.layers.LSTM(hidden_size, return_sequences=True)  \n",
    "        self.rnn_2 = tf.keras.layers.LSTM(hidden_size, return_sequences=True)\n",
    "#         self.rnn_3 = tf.keras.layers.LSTM(hidden_size, return_sequences=True)  # 모델층을 하나 더 쌓아보자\n",
    "        self.linear = tf.keras.layers.Dense(vocab_size)\n",
    "        \n",
    "    def call(self, x):\n",
    "        out = self.embedding(x)\n",
    "        out = self.rnn_1(out)\n",
    "        out = self.rnn_2(out)\n",
    "        out = self.linear(out)\n",
    "        \n",
    "        return out\n",
    "# embedding size 값이 커질수록 단어의 추상적인 특징들을 더 잡아낼 수 있지만\n",
    "# 그만큼 충분한 데이터가 없으면 안좋은 결과 값을 가져옵니다!   \n",
    "embedding_size = 512 # 워드 벡터의 차원수를 말하며 단어가 추상적으로 표현되는 크기입니다.\n",
    "hidden_size = 2048 # 모델에 얼마나 많은 일꾼을 둘 것인가? 정도로 이해하면 좋다.\n",
    "model = TextGenerator(len(tokenizer.index_word) + 1, embedding_size , hidden_size) # tokenizer.num_words에 +1인 이유는 문장에 없는 pad가 사용되었기 때문이다."
   ]
  },
  {
   "cell_type": "code",
   "execution_count": null,
   "id": "d1a68c97",
   "metadata": {
    "colab": {
     "base_uri": "https://localhost:8080/"
    },
    "executionInfo": {
     "elapsed": 17203,
     "status": "ok",
     "timestamp": 1665457053817,
     "user": {
      "displayName": "김태종",
      "userId": "09259876720802222860"
     },
     "user_tz": -540
    },
    "id": "d1a68c97",
    "outputId": "291ea44f-4ba4-41c7-c063-6766f217cd8b"
   },
   "outputs": [
    {
     "data": {
      "text/plain": [
       "<tf.Tensor: shape=(256, 14, 27536), dtype=float32, numpy=\n",
       "array([[[-2.25353542e-05,  1.80994335e-04,  8.87418937e-05, ...,\n",
       "          9.92607384e-05, -1.67836581e-04, -2.55011197e-04],\n",
       "        [-4.76857531e-05,  3.67293047e-04,  2.24057876e-04, ...,\n",
       "          1.60270502e-04, -1.80182687e-04, -4.18146083e-04],\n",
       "        [-3.84911073e-05,  5.24488278e-04,  2.73107231e-04, ...,\n",
       "          2.42258029e-04, -1.35404684e-04, -7.78851856e-04],\n",
       "        ...,\n",
       "        [ 1.96668785e-03,  1.10680994e-03, -1.01561437e-03, ...,\n",
       "          2.29861098e-03,  1.51817792e-03, -2.65723756e-05],\n",
       "        [ 2.35786452e-03,  1.21477433e-03, -1.14767184e-03, ...,\n",
       "          2.58746487e-03,  1.97544927e-03,  1.81161682e-04],\n",
       "        [ 2.69098813e-03,  1.30149967e-03, -1.25661283e-03, ...,\n",
       "          2.81376159e-03,  2.34799692e-03,  3.52883304e-04]],\n",
       "\n",
       "       [[-2.25353542e-05,  1.80994335e-04,  8.87418937e-05, ...,\n",
       "          9.92607384e-05, -1.67836581e-04, -2.55011197e-04],\n",
       "        [-2.89755524e-04,  2.67671712e-04,  1.03730463e-05, ...,\n",
       "          2.46692362e-04, -2.74778809e-04, -3.98362899e-04],\n",
       "        [-6.53093215e-04,  2.45046598e-04,  1.89626138e-04, ...,\n",
       "          1.15061972e-04, -4.53490298e-04, -4.49810235e-04],\n",
       "        ...,\n",
       "        [-2.09938400e-04,  1.05860573e-03,  3.58073186e-04, ...,\n",
       "          1.41415501e-03, -4.59885690e-04,  2.32795734e-04],\n",
       "        [ 2.82499852e-04,  1.12430798e-03,  1.18144613e-04, ...,\n",
       "          1.86746370e-03,  1.88811988e-04,  4.41872864e-04],\n",
       "        [ 8.01561167e-04,  1.15350075e-03, -1.13751041e-04, ...,\n",
       "          2.26610806e-03,  8.11700476e-04,  6.32036361e-04]],\n",
       "\n",
       "       [[-2.25353542e-05,  1.80994335e-04,  8.87418937e-05, ...,\n",
       "          9.92607384e-05, -1.67836581e-04, -2.55011197e-04],\n",
       "        [-6.79008590e-05,  7.16788694e-04,  1.83410681e-04, ...,\n",
       "         -4.96984831e-05, -1.89015554e-04, -1.92403837e-04],\n",
       "        [ 1.06193453e-04,  1.03811524e-03,  1.49136205e-04, ...,\n",
       "         -1.92886990e-04, -2.84822367e-04,  2.03088548e-05],\n",
       "        ...,\n",
       "        [-6.41604478e-04,  2.01848405e-03, -6.23358646e-05, ...,\n",
       "          8.76793696e-04, -1.45732053e-03, -2.21838360e-04],\n",
       "        [-3.97110300e-04,  2.15145713e-03, -2.41874877e-04, ...,\n",
       "          1.21686282e-03, -1.37184677e-03, -1.74135232e-04],\n",
       "        [ 3.23815693e-05,  2.21014256e-03, -4.58704133e-04, ...,\n",
       "          1.64839474e-03, -8.70135205e-04, -1.22369311e-04]],\n",
       "\n",
       "       ...,\n",
       "\n",
       "       [[-2.25353542e-05,  1.80994335e-04,  8.87418937e-05, ...,\n",
       "          9.92607384e-05, -1.67836581e-04, -2.55011197e-04],\n",
       "        [-2.00081864e-04,  3.56499018e-04,  2.42279217e-04, ...,\n",
       "          1.99179442e-04, -2.70149292e-04, -2.91213248e-04],\n",
       "        [-2.58716143e-04,  4.74901259e-04,  4.09868051e-04, ...,\n",
       "          2.46546988e-04, -4.73591033e-04, -5.61058579e-04],\n",
       "        ...,\n",
       "        [ 2.19778088e-03,  6.31044270e-04, -8.30595847e-04, ...,\n",
       "          1.02838001e-03,  8.29689438e-04,  4.63446631e-04],\n",
       "        [ 2.55375914e-03,  6.96779112e-04, -1.04579690e-03, ...,\n",
       "          1.53709762e-03,  1.46305107e-03,  6.27297559e-04],\n",
       "        [ 2.87125004e-03,  7.63277814e-04, -1.21343520e-03, ...,\n",
       "          1.98628311e-03,  2.00865720e-03,  7.63569435e-04]],\n",
       "\n",
       "       [[-2.25353542e-05,  1.80994335e-04,  8.87418937e-05, ...,\n",
       "          9.92607384e-05, -1.67836581e-04, -2.55011197e-04],\n",
       "        [ 1.72785323e-04,  2.06689932e-04,  1.88817648e-05, ...,\n",
       "          3.30084789e-04, -2.79868196e-04, -3.89564870e-04],\n",
       "        [ 2.53385107e-04,  3.47971509e-04, -1.18202675e-04, ...,\n",
       "          5.34301798e-04, -3.99067678e-04, -5.78297884e-04],\n",
       "        ...,\n",
       "        [ 1.31348078e-03,  3.92221380e-04, -1.54823007e-03, ...,\n",
       "          2.07579485e-03,  9.63566126e-04,  2.03086543e-04],\n",
       "        [ 1.65763590e-03,  5.50093013e-04, -1.58417656e-03, ...,\n",
       "          2.32929899e-03,  1.47517875e-03,  3.52072326e-04],\n",
       "        [ 1.99749134e-03,  6.94086833e-04, -1.60390534e-03, ...,\n",
       "          2.54770159e-03,  1.91966677e-03,  4.83089418e-04]],\n",
       "\n",
       "       [[-2.25353542e-05,  1.80994335e-04,  8.87418937e-05, ...,\n",
       "          9.92607384e-05, -1.67836581e-04, -2.55011197e-04],\n",
       "        [ 4.83506628e-05,  2.68981443e-04,  1.46515566e-04, ...,\n",
       "          4.29649750e-04, -3.75179836e-04, -5.77665865e-04],\n",
       "        [ 1.40913588e-04,  5.02889976e-04,  5.52235520e-04, ...,\n",
       "          8.67509749e-04, -4.83949552e-04, -7.92605220e-04],\n",
       "        ...,\n",
       "        [ 2.55199056e-03,  8.33649421e-04, -8.34602339e-04, ...,\n",
       "          2.84683425e-03,  2.46565067e-03,  1.46012477e-04],\n",
       "        [ 2.86593055e-03,  9.05652007e-04, -9.87959444e-04, ...,\n",
       "          3.01121734e-03,  2.76908535e-03,  3.18994105e-04],\n",
       "        [ 3.12821358e-03,  9.81584773e-04, -1.11619744e-03, ...,\n",
       "          3.12970858e-03,  3.00238398e-03,  4.58850525e-04]]],\n",
       "      dtype=float32)>"
      ]
     },
     "execution_count": 14,
     "metadata": {},
     "output_type": "execute_result"
    }
   ],
   "source": [
    "# 데이터셋에서 데이터 한 배치만 불러오는 방법입니다.\n",
    "# 지금은 동작 원리에 너무 빠져들지 마세요~\n",
    "for src_sample, tgt_sample in dataset_train.take(1): \n",
    "#     print(src_sample, tgt_sample)\n",
    "    break\n",
    "\n",
    "# 한 배치만 불러온 데이터를 모델에 넣어봅니다\n",
    "model(src_sample)"
   ]
  },
  {
   "cell_type": "code",
   "execution_count": null,
   "id": "52a8e4bb",
   "metadata": {
    "colab": {
     "base_uri": "https://localhost:8080/"
    },
    "executionInfo": {
     "elapsed": 10,
     "status": "ok",
     "timestamp": 1665457053817,
     "user": {
      "displayName": "김태종",
      "userId": "09259876720802222860"
     },
     "user_tz": -540
    },
    "id": "52a8e4bb",
    "outputId": "293b1f9f-ecff-4043-d94c-d693e740d6d3"
   },
   "outputs": [
    {
     "name": "stdout",
     "output_type": "stream",
     "text": [
      "Model: \"text_generator\"\n",
      "_________________________________________________________________\n",
      " Layer (type)                Output Shape              Param #   \n",
      "=================================================================\n",
      " embedding (Embedding)       multiple                  14098432  \n",
      "                                                                 \n",
      " lstm (LSTM)                 multiple                  20979712  \n",
      "                                                                 \n",
      " lstm_1 (LSTM)               multiple                  33562624  \n",
      "                                                                 \n",
      " dense (Dense)               multiple                  56421264  \n",
      "                                                                 \n",
      "=================================================================\n",
      "Total params: 125,062,032\n",
      "Trainable params: 125,062,032\n",
      "Non-trainable params: 0\n",
      "_________________________________________________________________\n"
     ]
    }
   ],
   "source": [
    "model.summary()"
   ]
  },
  {
   "cell_type": "code",
   "execution_count": null,
   "id": "5b954fa8",
   "metadata": {
    "colab": {
     "background_save": true,
     "base_uri": "https://localhost:8080/"
    },
    "executionInfo": {
     "elapsed": 217435,
     "status": "ok",
     "timestamp": 1665457271249,
     "user": {
      "displayName": "김태종",
      "userId": "09259876720802222860"
     },
     "user_tz": -540
    },
    "id": "5b954fa8",
    "outputId": "de1d6ca0-3382-4c80-dbd4-63758cc07887"
   },
   "outputs": [
    {
     "name": "stdout",
     "output_type": "stream",
     "text": [
      "Epoch 1/10\n",
      "210/487 [===========>..................] - ETA: 3:57:13 - loss: 3.7829"
     ]
    }
   ],
   "source": [
    "optimizer = tf.keras.optimizers.Adam() # Adam은 현재 가장 많이 사용하는 옵티마이저이다. 자세한 내용은 차차 배운다.\n",
    "loss = tf.keras.losses.SparseCategoricalCrossentropy( # 훈련 데이터의 라벨이 정수의 형태로 제공될 때 사용하는 손실함수이다.\n",
    "    from_logits=True, # 기본값은 False이다. 모델에 의해 생성된 출력 값이 정규화되지 않았음을 손실 함수에 알려준다. 즉 softmax함수가 적용되지 않았다는걸 의미한다. \n",
    "    reduction='none'  # 기본값은 SUM이다. 각자 나오는 값의 반환 원할 때 None을 사용한다.\n",
    ")\n",
    "# 모델을 학습시키키 위한 학습과정을 설정하는 단계이다.\n",
    "model.compile(loss=loss, optimizer=optimizer) # 손실함수와 훈련과정을 설정했다.\n",
    "history = model.fit(dataset_train, epochs=10, validation_data = dataset_val) # 만들어둔 데이터셋으로 모델을 학습한다. 30번 학습을 반복하겠다는 의미다."
   ]
  },
  {
   "cell_type": "markdown",
   "id": "ace363c2",
   "metadata": {
    "id": "ace363c2"
   },
   "source": [
    "__LSTM 학습 결과 시각화__"
   ]
  },
  {
   "cell_type": "code",
   "execution_count": null,
   "id": "5613b39e",
   "metadata": {
    "id": "5613b39e"
   },
   "outputs": [],
   "source": [
    "import matplotlib.pyplot as plt"
   ]
  },
  {
   "cell_type": "code",
   "execution_count": null,
   "id": "ecceb770",
   "metadata": {
    "colab": {
     "base_uri": "https://localhost:8080/",
     "height": 295
    },
    "executionInfo": {
     "elapsed": 6,
     "status": "ok",
     "timestamp": 1665457271250,
     "user": {
      "displayName": "김태종",
      "userId": "09259876720802222860"
     },
     "user_tz": -540
    },
    "id": "ecceb770",
    "outputId": "1378e127-36c7-458b-b29e-922fe4e985f4"
   },
   "outputs": [
    {
     "data": {
      "image/png": "[encoded data removed]",
      "text/plain": [
       "<Figure size 432x288 with 1 Axes>"
      ]
     },
     "metadata": {},
     "output_type": "display_data"
    }
   ],
   "source": [
    "# 7 훈련 과정 시각화 (손실)\n",
    "plt.plot(history.history['loss'])\n",
    "plt.plot(history.history['val_loss'])\n",
    "plt.title('Model loss')\n",
    "plt.xlabel('Epoch')\n",
    "plt.ylabel('Loss')\n",
    "plt.legend(['Train', 'Validation'], loc='upper left')\n",
    "plt.show()"
   ]
  },
  {
   "cell_type": "markdown",
   "id": "1fd440f6",
   "metadata": {
    "id": "1fd440f6"
   },
   "source": [
    "__GRU 모델 사용__"
   ]
  },
  {
   "cell_type": "code",
   "execution_count": null,
   "id": "a016be3d",
   "metadata": {
    "id": "a016be3d"
   },
   "outputs": [],
   "source": [
    "# 파라미터 \n",
    "BUFFER_SIZE = len(enc_train)\n",
    "BATCH_SIZE = 256\n",
    "steps_per_epoch = len(enc_train) // BATCH_SIZE\n",
    "\n",
    "VOCAB_SIZE = len(tokenizer.index_word) + 1  \n",
    "\n",
    "dataset_train = tf.data.Dataset.from_tensor_slices((enc_train, dec_train))\n",
    "dataset_train = dataset_train.shuffle(BUFFER_SIZE)\n",
    "dataset_train = dataset_train.batch(BATCH_SIZE, drop_remainder=True)\n",
    "\n",
    "dataset_val = tf.data.Dataset.from_tensor_slices((enc_val, dec_val))\n",
    "dataset_val = dataset_val.shuffle(BUFFER_SIZE)\n",
    "dataset_val = dataset_val.batch(BATCH_SIZE, drop_remainder=True)"
   ]
  },
  {
   "cell_type": "code",
   "execution_count": null,
   "id": "84349e29",
   "metadata": {
    "id": "84349e29"
   },
   "outputs": [],
   "source": [
    "class TextGenerator(tf.keras.Model):\n",
    "    def __init__(self, vocab_size, embedding_size, hidden_size):\n",
    "        super().__init__()\n",
    "        self.embedding = tf.keras.layers.Embedding(vocab_size, embedding_size) \n",
    "        self.rnn_1 = tf.keras.layers.GRU(hidden_size, return_sequences=True)  \n",
    "        self.rnn_2 = tf.keras.layers.GRU(hidden_size, return_sequences=True)\n",
    "#         self.rnn_3 = tf.keras.layers.GRU(hidden_size, return_sequences=True)\n",
    "#         self.rnn_4 = tf.keras.layers.GRU(hidden_size, return_sequences=True)\n",
    "        self.linear = tf.keras.layers.Dense(vocab_size)\n",
    "        \n",
    "    def call(self, x):\n",
    "        out = self.embedding(x)\n",
    "        out = self.rnn_1(out)\n",
    "        out = self.rnn_2(out)\n",
    "        out = self.linear(out)\n",
    "        \n",
    "        return out\n",
    "\n",
    "    \n",
    "embedding_size = 512 # 워드 벡터의 차원수를 말하며 단어가 추상적으로 표현되는 크기입니다.\n",
    "hidden_size = 2048 # 모델에 얼마나 많은 일꾼을 둘 것인가? 정도로 이해하면 좋다.\n",
    "model = TextGenerator(len(tokenizer.index_word) + 1, embedding_size , hidden_size) # tokenizer.num_words에 +1인 이유는 문장에 없는 pad가 사용되었기 때문이다."
   ]
  },
  {
   "cell_type": "code",
   "execution_count": null,
   "id": "46aa3984",
   "metadata": {
    "colab": {
     "base_uri": "https://localhost:8080/"
    },
    "executionInfo": {
     "elapsed": 9098,
     "status": "ok",
     "timestamp": 1665457280344,
     "user": {
      "displayName": "김태종",
      "userId": "09259876720802222860"
     },
     "user_tz": -540
    },
    "id": "46aa3984",
    "outputId": "da36dd59-5ce8-4a40-f20a-4c0edf1bf287"
   },
   "outputs": [
    {
     "data": {
      "text/plain": [
       "<tf.Tensor: shape=(256, 14, 27536), dtype=float32, numpy=\n",
       "array([[[ 7.48785096e-04, -8.19858396e-04, -4.57908085e-04, ...,\n",
       "          9.37801815e-05, -1.13919936e-03, -8.60390777e-04],\n",
       "        [ 2.49136100e-03, -4.33925277e-04,  1.36024362e-04, ...,\n",
       "          1.33601238e-03,  5.28023927e-04, -7.87298311e-04],\n",
       "        [ 1.79858669e-03,  5.38861059e-05,  2.76111619e-04, ...,\n",
       "          9.37702658e-04,  9.66013118e-04,  3.25022847e-04],\n",
       "        ...,\n",
       "        [ 4.31915076e-04,  3.28789232e-03,  2.27747741e-03, ...,\n",
       "          1.16935757e-03,  4.94826119e-03, -2.95590446e-03],\n",
       "        [ 3.46528919e-04,  3.44574172e-03,  2.33696122e-03, ...,\n",
       "          1.04629912e-03,  5.18256752e-03, -2.90284795e-03],\n",
       "        [ 2.68768519e-04,  3.55206290e-03,  2.35326239e-03, ...,\n",
       "          9.42386221e-04,  5.32901427e-03, -2.81405752e-03]],\n",
       "\n",
       "       [[ 7.48785096e-04, -8.19858396e-04, -4.57908085e-04, ...,\n",
       "          9.37801815e-05, -1.13919936e-03, -8.60390777e-04],\n",
       "        [-5.57079678e-04,  1.13220257e-03, -4.19041200e-04, ...,\n",
       "          1.02807907e-03, -1.79625535e-03, -2.23039300e-03],\n",
       "        [-3.86912987e-04,  2.43258593e-03,  1.94640394e-04, ...,\n",
       "          1.66748511e-03, -1.84204231e-03, -1.50360086e-03],\n",
       "        ...,\n",
       "        [ 3.39047256e-04,  3.10843554e-03,  2.07673572e-03, ...,\n",
       "          8.21482972e-04,  4.72568441e-03, -3.15985619e-03],\n",
       "        [ 2.58236716e-04,  3.34838522e-03,  2.20048358e-03, ...,\n",
       "          7.91776751e-04,  5.03298594e-03, -3.01448838e-03],\n",
       "        [ 2.00687107e-04,  3.49996937e-03,  2.26453110e-03, ...,\n",
       "          7.60085997e-04,  5.23108291e-03, -2.87599536e-03]],\n",
       "\n",
       "       [[ 7.48785096e-04, -8.19858396e-04, -4.57908085e-04, ...,\n",
       "          9.37801815e-05, -1.13919936e-03, -8.60390777e-04],\n",
       "        [ 1.10862998e-03,  4.33635985e-04, -3.05286303e-05, ...,\n",
       "          9.25034634e-04, -1.25057017e-03, -3.39498714e-04],\n",
       "        [-1.29671125e-05,  2.57340958e-04,  2.36498963e-04, ...,\n",
       "          1.92664796e-03, -2.09584995e-03,  4.58992639e-04],\n",
       "        ...,\n",
       "        [ 1.04883697e-03,  3.02830501e-03,  1.27487758e-03, ...,\n",
       "          7.35315669e-04,  2.32505100e-03, -1.82905199e-03],\n",
       "        [ 8.64423928e-04,  3.23351892e-03,  1.86622282e-03, ...,\n",
       "          9.52039612e-04,  3.25944182e-03, -2.49252794e-03],\n",
       "        [ 6.93081995e-04,  3.38243064e-03,  2.17849016e-03, ...,\n",
       "          9.82029596e-04,  3.96994548e-03, -2.77469167e-03]],\n",
       "\n",
       "       ...,\n",
       "\n",
       "       [[ 7.48785096e-04, -8.19858396e-04, -4.57908085e-04, ...,\n",
       "          9.37801815e-05, -1.13919936e-03, -8.60390777e-04],\n",
       "        [ 1.54414051e-03, -1.18635362e-03, -9.59843164e-04, ...,\n",
       "          2.29048474e-05, -1.30517466e-03, -9.21786064e-04],\n",
       "        [ 9.47743887e-04, -1.92394608e-03, -8.47211864e-04, ...,\n",
       "          1.23745864e-04, -3.03366018e-04, -9.25093889e-04],\n",
       "        ...,\n",
       "        [ 3.94114031e-04,  2.76458589e-03,  2.08579632e-03, ...,\n",
       "          1.00822304e-03,  4.38487856e-03, -3.02453409e-03],\n",
       "        [ 3.20438121e-04,  3.13013047e-03,  2.24477262e-03, ...,\n",
       "          9.74873081e-04,  4.80762636e-03, -3.06786667e-03],\n",
       "        [ 2.55841675e-04,  3.36560514e-03,  2.30921805e-03, ...,\n",
       "          9.08535672e-04,  5.08486386e-03, -3.00175836e-03]],\n",
       "\n",
       "       [[ 7.48785096e-04, -8.19858396e-04, -4.57908085e-04, ...,\n",
       "          9.37801815e-05, -1.13919936e-03, -8.60390777e-04],\n",
       "        [ 6.70878682e-04, -1.34608790e-03, -1.38863805e-04, ...,\n",
       "          5.57574560e-04, -1.04294543e-03, -1.06219319e-03],\n",
       "        [ 1.07032072e-03, -7.73238367e-04, -1.59407058e-03, ...,\n",
       "          5.70455042e-04, -1.13305531e-03, -2.02512671e-03],\n",
       "        ...,\n",
       "        [ 3.49314389e-04,  3.16627580e-03,  2.36638892e-03, ...,\n",
       "          1.16547535e-03,  5.12465788e-03, -3.13187973e-03],\n",
       "        [ 2.94474477e-04,  3.37361731e-03,  2.43980018e-03, ...,\n",
       "          1.01633545e-03,  5.27297752e-03, -3.00490600e-03],\n",
       "        [ 2.39624918e-04,  3.50793335e-03,  2.44522258e-03, ...,\n",
       "          8.98126862e-04,  5.37190726e-03, -2.87652249e-03]],\n",
       "\n",
       "       [[ 7.48785096e-04, -8.19858396e-04, -4.57908085e-04, ...,\n",
       "          9.37801815e-05, -1.13919936e-03, -8.60390777e-04],\n",
       "        [ 1.08582422e-03, -1.17377436e-03, -6.74402050e-04, ...,\n",
       "         -6.19073573e-04, -7.10510649e-04,  3.51196039e-04],\n",
       "        [ 3.12670163e-04, -1.33870775e-03, -6.49002439e-04, ...,\n",
       "         -3.31306146e-05, -1.65626546e-03,  3.98468430e-04],\n",
       "        ...,\n",
       "        [ 5.61850757e-05,  3.65547719e-03,  2.29268149e-03, ...,\n",
       "          8.17235908e-04,  5.38601121e-03, -2.79110787e-03],\n",
       "        [ 6.43736857e-05,  3.69226956e-03,  2.31616362e-03, ...,\n",
       "          7.79044000e-04,  5.45477076e-03, -2.71314918e-03],\n",
       "        [ 6.72498791e-05,  3.71087599e-03,  2.32508010e-03, ...,\n",
       "          7.56540278e-04,  5.49937272e-03, -2.65545864e-03]]],\n",
       "      dtype=float32)>"
      ]
     },
     "execution_count": 21,
     "metadata": {},
     "output_type": "execute_result"
    }
   ],
   "source": [
    "# 데이터셋에서 데이터 한 배치만 불러오는 방법입니다.\n",
    "# 지금은 동작 원리에 너무 빠져들지 마세요~\n",
    "for src_sample, tgt_sample in dataset_train.take(1): \n",
    "#     print(src_sample, tgt_sample)\n",
    "    break\n",
    "\n",
    "# 한 배치만 불러온 데이터를 모델에 넣어봅니다\n",
    "model(src_sample)"
   ]
  },
  {
   "cell_type": "code",
   "execution_count": null,
   "id": "fffe6e7a",
   "metadata": {
    "colab": {
     "base_uri": "https://localhost:8080/"
    },
    "executionInfo": {
     "elapsed": 18,
     "status": "ok",
     "timestamp": 1665457280345,
     "user": {
      "displayName": "김태종",
      "userId": "09259876720802222860"
     },
     "user_tz": -540
    },
    "id": "fffe6e7a",
    "outputId": "4320eb4e-e25c-46d6-c08e-24fca8cf1b51"
   },
   "outputs": [
    {
     "name": "stdout",
     "output_type": "stream",
     "text": [
      "Model: \"text_generator_1\"\n",
      "_________________________________________________________________\n",
      " Layer (type)                Output Shape              Param #   \n",
      "=================================================================\n",
      " embedding_1 (Embedding)     multiple                  14098432  \n",
      "                                                                 \n",
      " gru (GRU)                   multiple                  15740928  \n",
      "                                                                 \n",
      " gru_1 (GRU)                 multiple                  25178112  \n",
      "                                                                 \n",
      " dense_1 (Dense)             multiple                  56421264  \n",
      "                                                                 \n",
      "=================================================================\n",
      "Total params: 111,438,736\n",
      "Trainable params: 111,438,736\n",
      "Non-trainable params: 0\n",
      "_________________________________________________________________\n"
     ]
    }
   ],
   "source": [
    "model.summary()"
   ]
  },
  {
   "cell_type": "code",
   "execution_count": null,
   "id": "5312ad1b",
   "metadata": {
    "colab": {
     "base_uri": "https://localhost:8080/"
    },
    "executionInfo": {
     "elapsed": 117286,
     "status": "ok",
     "timestamp": 1665457397620,
     "user": {
      "displayName": "김태종",
      "userId": "09259876720802222860"
     },
     "user_tz": -540
    },
    "id": "5312ad1b",
    "outputId": "206d681b-bb50-4f44-c8ed-f89ce9c00933"
   },
   "outputs": [
    {
     "name": "stdout",
     "output_type": "stream",
     "text": [
      "Epoch 1/6\n",
      "496/496 [==============================] - 22s 39ms/step - loss: 3.2045 - val_loss: 2.8036\n",
      "Epoch 2/6\n",
      "496/496 [==============================] - 19s 38ms/step - loss: 2.5954 - val_loss: 2.5040\n",
      "Epoch 3/6\n",
      "496/496 [==============================] - 19s 38ms/step - loss: 2.1775 - val_loss: 2.3370\n",
      "Epoch 4/6\n",
      "496/496 [==============================] - 19s 38ms/step - loss: 1.8285 - val_loss: 2.2496\n",
      "Epoch 5/6\n",
      "496/496 [==============================] - 19s 38ms/step - loss: 1.5641 - val_loss: 2.2060\n",
      "Epoch 6/6\n",
      "496/496 [==============================] - 19s 38ms/step - loss: 1.3668 - val_loss: 2.1972\n"
     ]
    }
   ],
   "source": [
    "optimizer = tf.keras.optimizers.Adam() # Adam은 현재 가장 많이 사용하는 옵티마이저이다. 자세한 내용은 차차 배운다.\n",
    "loss = tf.keras.losses.SparseCategoricalCrossentropy( # 훈련 데이터의 라벨이 정수의 형태로 제공될 때 사용하는 손실함수이다.\n",
    "    from_logits=True, # 기본값은 False이다. 모델에 의해 생성된 출력 값이 정규화되지 않았음을 손실 함수에 알려준다. 즉 softmax함수가 적용되지 않았다는걸 의미한다. \n",
    "    reduction='none'  # 기본값은 SUM이다. 각자 나오는 값의 반환 원할 때 None을 사용한다.\n",
    ")\n",
    "# 모델을 학습시키키 위한 학습과정을 설정하는 단계이다.\n",
    "model.compile(loss=loss, optimizer=optimizer) # 손실함수와 훈련과정을 설정했다.\n",
    "history = model.fit(dataset_train, epochs=6, validation_data = dataset_val) # 만들어둔 데이터셋으로 모델을 학습한다. 30번 학습을 반복하겠다는 의미다."
   ]
  },
  {
   "cell_type": "markdown",
   "id": "6114371b",
   "metadata": {
    "id": "6114371b"
   },
   "source": [
    "__GRU 학습 결과 시각화__"
   ]
  },
  {
   "cell_type": "code",
   "execution_count": null,
   "id": "c7c2913c",
   "metadata": {
    "id": "c7c2913c"
   },
   "outputs": [],
   "source": [
    "import matplotlib.pyplot as plt"
   ]
  },
  {
   "cell_type": "code",
   "execution_count": null,
   "id": "7121a7ef",
   "metadata": {
    "colab": {
     "base_uri": "https://localhost:8080/",
     "height": 295
    },
    "executionInfo": {
     "elapsed": 8,
     "status": "ok",
     "timestamp": 1665457397620,
     "user": {
      "displayName": "김태종",
      "userId": "09259876720802222860"
     },
     "user_tz": -540
    },
    "id": "7121a7ef",
    "outputId": "09221835-dae7-4479-b6cc-3b83722fb897"
   },
   "outputs": [
    {
     "data": {
      "image/png": "[encoded data removed]",
      "text/plain": [
       "<Figure size 432x288 with 1 Axes>"
      ]
     },
     "metadata": {},
     "output_type": "display_data"
    }
   ],
   "source": [
    "# 7 훈련 과정 시각화 (손실)\n",
    "plt.plot(history.history['loss'])\n",
    "plt.plot(history.history['val_loss'])\n",
    "plt.title('Model loss')\n",
    "plt.xlabel('Epoch')\n",
    "plt.ylabel('Loss')\n",
    "plt.legend(['Train', 'Validation'], loc='upper left')\n",
    "plt.show()"
   ]
  },
  {
   "cell_type": "markdown",
   "id": "481a8553",
   "metadata": {
    "id": "481a8553"
   },
   "source": [
    "### 모델 함수 만들기"
   ]
  },
  {
   "cell_type": "code",
   "execution_count": null,
   "id": "ff6ba60f",
   "metadata": {
    "id": "ff6ba60f"
   },
   "outputs": [],
   "source": [
    "#문장생성 함수 정의\n",
    "#모델에게 시작 문장을 전달하면 모델이 시작 문장을 바탕으로 작문을 진행\n",
    "def generate_text(model, tokenizer, init_sentence=\"<start>\", max_len=20): #시작 문자열을 init_sentence 로 받으며 디폴트값은 <start> 를 받는다\n",
    "    # 테스트를 위해서 입력받은 init_sentence도 텐서로 변환합니다\n",
    "    test_input = tokenizer.texts_to_sequences([init_sentence]) #텍스트 안의 단어들을 숫자의 시퀀스의 형태로 변환\n",
    "    test_tensor = tf.convert_to_tensor(test_input, dtype=tf.int64)\n",
    "    end_token = tokenizer.word_index[\"<end>\"]\n",
    "\n",
    "    # 단어 하나씩 예측해 문장을 만듭니다\n",
    "    #    1. 입력받은 문장의 텐서를 입력합니다\n",
    "    #    2. 예측된 값 중 가장 높은 확률인 word index를 뽑아냅니다\n",
    "    #    3. 2에서 예측된 word index를 문장 뒤에 붙입니다\n",
    "    #    4. 모델이 <end>를 예측했거나, max_len에 도달했다면 문장 생성을 마칩니다 (도달 하지 못하였으면 while 루프를 돌면서 다음 단어를 예측)\n",
    "    while True: #루프를 돌면서 init_sentence에 단어를 하나씩 생성성\n",
    "        # 1\n",
    "        predict = model(test_tensor) \n",
    "        # 2\n",
    "        predict_word = tf.argmax(tf.nn.softmax(predict, axis=-1), axis=-1)[:, -1] \n",
    "        # 3 \n",
    "        test_tensor = tf.concat([test_tensor, tf.expand_dims(predict_word, axis=0)], axis=-1)\n",
    "        # 4 \n",
    "        if predict_word.numpy()[0] == end_token: break\n",
    "        if test_tensor.shape[1] >= max_len: break\n",
    "\n",
    "    generated = \"\"\n",
    "    # tokenizer를 이용해 word index를 단어로 하나씩 변환합니다 \n",
    "    for word_index in test_tensor[0].numpy():\n",
    "        generated += tokenizer.index_word[word_index] + \" \"\n",
    "\n",
    "    return generated #최종적으로 모델이 생성한 문장을 반환"
   ]
  },
  {
   "cell_type": "code",
   "execution_count": null,
   "id": "446320a0",
   "metadata": {
    "colab": {
     "base_uri": "https://localhost:8080/"
    },
    "executionInfo": {
     "elapsed": 207068,
     "status": "ok",
     "timestamp": 1665457604681,
     "user": {
      "displayName": "김태종",
      "userId": "09259876720802222860"
     },
     "user_tz": -540
    },
    "id": "446320a0",
    "outputId": "5014c7c2-d080-4a57-e5ef-5ee2f213f1ab"
   },
   "outputs": [
    {
     "name": "stdout",
     "output_type": "stream",
     "text": [
      "시작 단어 : \n",
      "출력단어 i don't know why\n",
      "프로그램 종료\n"
     ]
    }
   ],
   "source": [
    "# 원하는 시작 단어를 입력하면 자동으로 문장을 만들어주는 모델 \n",
    "# 그냥 엔터를 치면 종료됨\n",
    "while True:\n",
    "    sentence = input(\"시작 단어 : \")\n",
    "    gentext = generate_text(model, tokenizer, init_sentence = \"<start> \"+ sentence, max_len=100)\n",
    "    print(\"출력단어\",gentext[8:-7])\n",
    "    \n",
    "    if sentence == \"\":\n",
    "        print(\"프로그램 종료\")\n",
    "        break"
   ]
  },
  {
   "cell_type": "code",
   "execution_count": null,
   "id": "95144b74",
   "metadata": {
    "colab": {
     "base_uri": "https://localhost:8080/"
    },
    "executionInfo": {
     "elapsed": 4027,
     "status": "ok",
     "timestamp": 1665457608623,
     "user": {
      "displayName": "김태종",
      "userId": "09259876720802222860"
     },
     "user_tz": -540
    },
    "id": "95144b74",
    "outputId": "75d41316-5786-4679-aece-ad4637753a1a"
   },
   "outputs": [
    {
     "name": "stdout",
     "output_type": "stream",
     "text": [
      "시작 단어 : \n",
      "i don't know why\n",
      "why you wanna get with me\n",
      "me and my homies , so drop that\n",
      "that you could even get a little state of control\n",
      "control of me\n",
      "me and my homies , so drop that\n",
      "that you could even get a little state of control\n",
      "control of me\n",
      "me and my homies , so drop that\n",
      "that you could even get a little state of control\n"
     ]
    }
   ],
   "source": [
    "# 꼬리를 무는 문장 만들기\n",
    "sentence = input(\"시작 단어 : \")\n",
    "for i in range(10):\n",
    "    gentext = generate_text(model, tokenizer, init_sentence = \"<start> \"+ sentence, max_len=50)\n",
    "    print(gentext[8:-7])\n",
    "    if sentence != gentext[8:-7].split()[-1]:\n",
    "        sentence = gentext[8:-7].split()[-1]\n",
    "#     else:\n",
    "#         sentence = gentext[8:-7].split()[-2]"
   ]
  },
  {
   "cell_type": "markdown",
   "id": "24f57f98",
   "metadata": {},
   "source": [
    "### 루브릭\n",
    "1. 데이터의 전처리 및 구성과정이 체계적으로 진행되었는가?\n",
    "    - 특수문자 제거, 토크나이저 생성, 패딩 처리의 작업들이 빠짐없이 진행되었는가?\n",
    "1. 가사 텍스트 생성 모델이 정상적으로 동작하는가?\n",
    "    - 텍스트 제너레이션 결과로 생성된 문장이 해석 가능한 문장인가?\n",
    "1. 텍스트 생성모델이 안정적으로 학습되었는가?\n",
    "    - 텍스트 생성모델의 validation loss가 2.2 이하로 낮아졌는가?"
   ]
  },
  {
   "cell_type": "markdown",
   "id": "c080ee2e",
   "metadata": {
    "id": "c080ee2e"
   },
   "source": [
    "## 회고\n",
    "1. 모델 학습시간이 오래 걸려서 이런저런 튜닝을 못해본것이 아쉬운 점이 었다. \n",
    "1. 텍스트 데이터를 전처리 하기 위한 방법들을 공부하게 되어서 앞으로 크롤링이나 그런 부분에서 다양하게 사용할 수 있을것 같다. \n",
    "1. 좀 더 긴 문장을 만드는 방법을 생각해보다가 끝말잇기 처럼 처음에 문장을 집어 넣으면 완성된 문장을 나오고 완성된 문장에서 마지막 단어를 다시 입력받아서 다음 문장을 다시 출력하는 형태의 코드를 만들어 봤다. 그런데 \\<unk> 많이 나오거나, 너무 짧은 문장이 완성되어서 다음문장이 출력이 되지 않는 문제가 있었다.\n",
    "1. NLP는 소비자들의 다양한 것들을 분석할 수 있을것 같아서 좀 더 공부를 해보고 싶다. \n",
    "1. 이번 프로젝트에서 LSTM과 GRU 모델을 둘 다 사용해 봤는데 확실히 GRU 모델이 성능이 더 좋았다.\n",
    "1. 또한 두 모델 모두 일정 epoch 이상 돌렸을 때, 오히려 loss가 높아지는 모습을 보였다. \n",
    "1. 또한 층을 많이 쌓는다고 무조건 좋은것도 아니었다. 오히려 과적합이 발생했다. "
   ]
  }
 ],
 "metadata": {
  "accelerator": "GPU",
  "colab": {
   "collapsed_sections": [
    "2c976e62"
   ],
   "machine_shape": "hm",
   "provenance": []
  },
  "gpuClass": "premium",
  "hide_input": false,
  "kernelspec": {
   "display_name": "Python 3 (ipykernel)",
   "language": "python",
   "name": "python3"
  },
  "language_info": {
   "codemirror_mode": {
    "name": "ipython",
    "version": 3
   },
   "file_extension": ".py",
   "mimetype": "text/x-python",
   "name": "python",
   "nbconvert_exporter": "python",
   "pygments_lexer": "ipython3",
   "version": "3.9.12"
  },
  "nbTranslate": {
   "displayLangs": [
    "*"
   ],
   "hotkey": "alt-t",
   "langInMainMenu": true,
   "sourceLang": "en",
   "targetLang": "fr",
   "useGoogleTranslate": true
  }
 },
 "nbformat": 4,
 "nbformat_minor": 5
}

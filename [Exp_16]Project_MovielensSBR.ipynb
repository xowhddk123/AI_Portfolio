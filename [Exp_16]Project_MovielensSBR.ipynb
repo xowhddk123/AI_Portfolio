{
 "cells": [
  {
   "cell_type": "markdown",
   "id": "4a548dd9",
   "metadata": {},
   "source": [
    "## 16-6. 프로젝트 - Movielens 영화 SBR\n",
    "\n",
    "이번에 우리는 Movielens 1M Dataset을 기반으로, Session based Recommendation 시스템을 제작해 보겠습니다.\n",
    "\n",
    "우선 주요 라이브러리 버전을 확인해 보죠."
   ]
  },
  {
   "cell_type": "code",
   "execution_count": 1,
   "id": "774f6a90",
   "metadata": {},
   "outputs": [
    {
     "name": "stdout",
     "output_type": "stream",
     "text": [
      "1.3.3\n",
      "2.6.0\n"
     ]
    }
   ],
   "source": [
    "import pandas as pd\n",
    "import tensorflow\n",
    "from pathlib import Path\n",
    "import os\n",
    "import numpy as np\n",
    "import seaborn as sns\n",
    "\n",
    "print(pd.__version__)\n",
    "print(tensorflow.__version__)"
   ]
  },
  {
   "cell_type": "markdown",
   "id": "cda32797",
   "metadata": {},
   "source": [
    "```\n",
    "1) 데이터 확인\n",
    "$ ls -l ~/data\n",
    "\n",
    "2) 프로젝트 폴더 생성\n",
    "$ mkdir -p ~/aiffel/yoochoose\n",
    "\n",
    "3) 프로젝트 폴더로 데이터 폴더 링크 연결\n",
    "$ ln -s ~/data/* ~/aiffel/yoochoose/data\n",
    "```"
   ]
  },
  {
   "cell_type": "code",
   "execution_count": 2,
   "id": "b963283e",
   "metadata": {},
   "outputs": [],
   "source": [
    "# ! ls -l ~/data\n",
    "# ! mkdir -p ~/aiffel/yoochoose\n",
    "# ! ln -s ~/data/* ~/aiffel/yoochoose/data"
   ]
  },
  {
   "cell_type": "code",
   "execution_count": 6,
   "id": "91acc2aa",
   "metadata": {},
   "outputs": [
    {
     "data": {
      "text/html": [
       "<div>\n",
       "<style scoped>\n",
       "    .dataframe tbody tr th:only-of-type {\n",
       "        vertical-align: middle;\n",
       "    }\n",
       "\n",
       "    .dataframe tbody tr th {\n",
       "        vertical-align: top;\n",
       "    }\n",
       "\n",
       "    .dataframe thead th {\n",
       "        text-align: right;\n",
       "    }\n",
       "</style>\n",
       "<table border=\"1\" class=\"dataframe\">\n",
       "  <thead>\n",
       "    <tr style=\"text-align: right;\">\n",
       "      <th></th>\n",
       "      <th>UserId</th>\n",
       "      <th>ItemId</th>\n",
       "      <th>Rating</th>\n",
       "      <th>Timestamp</th>\n",
       "    </tr>\n",
       "  </thead>\n",
       "  <tbody>\n",
       "    <tr>\n",
       "      <th>31</th>\n",
       "      <td>1</td>\n",
       "      <td>3186</td>\n",
       "      <td>4</td>\n",
       "      <td>978300019</td>\n",
       "    </tr>\n",
       "    <tr>\n",
       "      <th>22</th>\n",
       "      <td>1</td>\n",
       "      <td>1270</td>\n",
       "      <td>5</td>\n",
       "      <td>978300055</td>\n",
       "    </tr>\n",
       "    <tr>\n",
       "      <th>27</th>\n",
       "      <td>1</td>\n",
       "      <td>1721</td>\n",
       "      <td>4</td>\n",
       "      <td>978300055</td>\n",
       "    </tr>\n",
       "    <tr>\n",
       "      <th>37</th>\n",
       "      <td>1</td>\n",
       "      <td>1022</td>\n",
       "      <td>5</td>\n",
       "      <td>978300055</td>\n",
       "    </tr>\n",
       "    <tr>\n",
       "      <th>24</th>\n",
       "      <td>1</td>\n",
       "      <td>2340</td>\n",
       "      <td>3</td>\n",
       "      <td>978300103</td>\n",
       "    </tr>\n",
       "    <tr>\n",
       "      <th>...</th>\n",
       "      <td>...</td>\n",
       "      <td>...</td>\n",
       "      <td>...</td>\n",
       "      <td>...</td>\n",
       "    </tr>\n",
       "    <tr>\n",
       "      <th>1000019</th>\n",
       "      <td>6040</td>\n",
       "      <td>2917</td>\n",
       "      <td>4</td>\n",
       "      <td>997454429</td>\n",
       "    </tr>\n",
       "    <tr>\n",
       "      <th>999988</th>\n",
       "      <td>6040</td>\n",
       "      <td>1921</td>\n",
       "      <td>4</td>\n",
       "      <td>997454464</td>\n",
       "    </tr>\n",
       "    <tr>\n",
       "      <th>1000172</th>\n",
       "      <td>6040</td>\n",
       "      <td>1784</td>\n",
       "      <td>3</td>\n",
       "      <td>997454464</td>\n",
       "    </tr>\n",
       "    <tr>\n",
       "      <th>1000167</th>\n",
       "      <td>6040</td>\n",
       "      <td>161</td>\n",
       "      <td>3</td>\n",
       "      <td>997454486</td>\n",
       "    </tr>\n",
       "    <tr>\n",
       "      <th>1000042</th>\n",
       "      <td>6040</td>\n",
       "      <td>1221</td>\n",
       "      <td>4</td>\n",
       "      <td>998315055</td>\n",
       "    </tr>\n",
       "  </tbody>\n",
       "</table>\n",
       "<p>1000209 rows × 4 columns</p>\n",
       "</div>"
      ],
      "text/plain": [
       "         UserId  ItemId  Rating  Timestamp\n",
       "31            1    3186       4  978300019\n",
       "22            1    1270       5  978300055\n",
       "27            1    1721       4  978300055\n",
       "37            1    1022       5  978300055\n",
       "24            1    2340       3  978300103\n",
       "...         ...     ...     ...        ...\n",
       "1000019    6040    2917       4  997454429\n",
       "999988     6040    1921       4  997454464\n",
       "1000172    6040    1784       3  997454464\n",
       "1000167    6040     161       3  997454486\n",
       "1000042    6040    1221       4  998315055\n",
       "\n",
       "[1000209 rows x 4 columns]"
      ]
     },
     "execution_count": 6,
     "metadata": {},
     "output_type": "execute_result"
    }
   ],
   "source": [
    "data_path = Path(os.getenv('HOME')+'/aiffel/yoochoose/data/') \n",
    "train_path = data_path / 'ratings.dat'\n",
    "\n",
    "def load_data(data_path: Path, nrows=None):\n",
    "    data = pd.read_csv(data_path, sep='::', header=None, usecols=[0, 1, 2, 3], dtype={0: np.int32, 1: np.int32, 2: np.int32}, nrows=nrows)\n",
    "    data.columns = ['UserId', 'ItemId', 'Rating', 'Timestamp']\n",
    "    return data\n",
    "\n",
    "data = load_data(train_path, None)\n",
    "data.sort_values(['UserId', 'Timestamp'], inplace=True)  # data를 id와 시간 순서로 정렬해줍니다.\n",
    "data"
   ]
  },
  {
   "cell_type": "code",
   "execution_count": 7,
   "id": "e1ab6d7e",
   "metadata": {},
   "outputs": [
    {
     "data": {
      "text/plain": [
       "(6040, 3706)"
      ]
     },
     "execution_count": 7,
     "metadata": {},
     "output_type": "execute_result"
    }
   ],
   "source": [
    "# 전체 userid수와 아이템수\n",
    "data[\"UserId\"].nunique(), data[\"ItemId\"].nunique()"
   ]
  },
  {
   "cell_type": "markdown",
   "id": "999127a4",
   "metadata": {},
   "source": [
    "- 여기서 이전 실습 내역과 가장 크게 다른 부분은 바로 SessionID 대신 UserID 항목이 들어갔다는 점입니다. 이 데이터셋은 명확한 1회 세션의 SessionID를 포함하지 않고 있습니다. 그래서 이번에는 UserID가 SessionID 역할을 해야 합니다.\n",
    "\n",
    "- Rating 정보가 포함되어 있습니다. 이전 실습 내역에서는 이런 항목이 포함되어 있지 않았으므로, 무시하고 제외할 수 있습니다. 하지만, 직전에 봤던 영화가 맘에 들었는지가 비슷한 영화를 더 고르게 하는 것과 상관이 있을 수도 있습니다. 아울러, Rating이 낮은 데이터를 어떻게 처리할지도 고민해야 합니다.\n",
    "\n",
    "- Time 항목에는 UTC time 가 포함되어, 1970년 1월 1일부터 경과된 초 단위 시간이 기재되어 있습니다.\n",
    "\n",
    "위와 같은 정보를 바탕으로 오늘의 실습과정과 유사한 프로젝트 과정을 진행해 보겠습니다."
   ]
  },
  {
   "cell_type": "code",
   "execution_count": 8,
   "id": "e558021a",
   "metadata": {
    "scrolled": false
   },
   "outputs": [
    {
     "data": {
      "text/plain": [
       "31        2000-12-31 22:00:19\n",
       "22        2000-12-31 22:00:55\n",
       "27        2000-12-31 22:00:55\n",
       "37        2000-12-31 22:00:55\n",
       "24        2000-12-31 22:01:43\n",
       "                  ...        \n",
       "1000019   2001-08-10 14:40:29\n",
       "999988    2001-08-10 14:41:04\n",
       "1000172   2001-08-10 14:41:04\n",
       "1000167   2001-08-10 14:41:26\n",
       "1000042   2001-08-20 13:44:15\n",
       "Name: Time, Length: 1000209, dtype: datetime64[ns]"
      ]
     },
     "execution_count": 8,
     "metadata": {},
     "output_type": "execute_result"
    }
   ],
   "source": [
    "# 시간변환\n",
    "data[\"Time\"] = pd.to_datetime(data[\"Timestamp\"], unit = \"s\")\n",
    "data[\"Time\"]"
   ]
  },
  {
   "cell_type": "markdown",
   "id": "e056f58a",
   "metadata": {},
   "source": [
    "### Step 1. 데이터의 전처리\n",
    "\n",
    "---------------------------------\n",
    "\n",
    "위와 같이 간단히 구성해 본 데이터셋을 꼼꼼히 살펴보면서 항목별 기본 분석, session length, session time, cleaning 등의 작업을 진행합니다.\n",
    "특히, 이 데이터셋에서는 Session이 아닌 UserID 단위로 데이터가 생성되어 있으므로, 이를 Session 단위로 어떻게 해석할지에 주의합니다."
   ]
  },
  {
   "cell_type": "markdown",
   "id": "e9e6c2e5",
   "metadata": {},
   "source": [
    "__Session 구분__\n",
    "\n",
    "\n",
    "유저의 취향이 변화될 수 있으므로 그떄 그때에 맞춰서 적절한 것을 추천할 필요가 있다. \n",
    "\n",
    "그런데 과거의 모든 히스토리를 반영하면 지금의 취향이 왜곡 될 수 있다. 그러므로 Session 구분이 필요하다. "
   ]
  },
  {
   "cell_type": "code",
   "execution_count": 30,
   "id": "bf588a5c",
   "metadata": {},
   "outputs": [
    {
     "data": {
      "text/html": [
       "<div>\n",
       "<style scoped>\n",
       "    .dataframe tbody tr th:only-of-type {\n",
       "        vertical-align: middle;\n",
       "    }\n",
       "\n",
       "    .dataframe tbody tr th {\n",
       "        vertical-align: top;\n",
       "    }\n",
       "\n",
       "    .dataframe thead th {\n",
       "        text-align: right;\n",
       "    }\n",
       "</style>\n",
       "<table border=\"1\" class=\"dataframe\">\n",
       "  <thead>\n",
       "    <tr style=\"text-align: right;\">\n",
       "      <th></th>\n",
       "      <th>min</th>\n",
       "      <th>median</th>\n",
       "      <th>max</th>\n",
       "      <th>median-min</th>\n",
       "      <th>max-median</th>\n",
       "    </tr>\n",
       "    <tr>\n",
       "      <th>UserId</th>\n",
       "      <th></th>\n",
       "      <th></th>\n",
       "      <th></th>\n",
       "      <th></th>\n",
       "      <th></th>\n",
       "    </tr>\n",
       "  </thead>\n",
       "  <tbody>\n",
       "    <tr>\n",
       "      <th>1</th>\n",
       "      <td>2000-12-31 22:00:19</td>\n",
       "      <td>2000-12-31 22:33:59</td>\n",
       "      <td>2001-01-06 23:39:11</td>\n",
       "      <td>0 days 00:33:40</td>\n",
       "      <td>6 days 01:38:52</td>\n",
       "    </tr>\n",
       "    <tr>\n",
       "      <th>2</th>\n",
       "      <td>2000-12-31 21:28:44</td>\n",
       "      <td>2000-12-31 21:48:17</td>\n",
       "      <td>2000-12-31 22:02:54</td>\n",
       "      <td>0 days 00:19:33</td>\n",
       "      <td>0 days 00:34:10</td>\n",
       "    </tr>\n",
       "    <tr>\n",
       "      <th>3</th>\n",
       "      <td>2000-12-31 21:10:18</td>\n",
       "      <td>2000-12-31 21:22:37</td>\n",
       "      <td>2000-12-31 21:35:04</td>\n",
       "      <td>0 days 00:12:19</td>\n",
       "      <td>0 days 00:24:46</td>\n",
       "    </tr>\n",
       "    <tr>\n",
       "      <th>4</th>\n",
       "      <td>2000-12-31 20:18:44</td>\n",
       "      <td>2000-12-31 20:23:50</td>\n",
       "      <td>2000-12-31 20:24:42</td>\n",
       "      <td>0 days 00:05:06</td>\n",
       "      <td>0 days 00:05:58</td>\n",
       "    </tr>\n",
       "    <tr>\n",
       "      <th>5</th>\n",
       "      <td>2000-12-31 05:37:52</td>\n",
       "      <td>2000-12-31 06:40:08</td>\n",
       "      <td>2000-12-31 07:09:45</td>\n",
       "      <td>0 days 01:02:16</td>\n",
       "      <td>0 days 01:31:53</td>\n",
       "    </tr>\n",
       "    <tr>\n",
       "      <th>...</th>\n",
       "      <td>...</td>\n",
       "      <td>...</td>\n",
       "      <td>...</td>\n",
       "      <td>...</td>\n",
       "      <td>...</td>\n",
       "    </tr>\n",
       "    <tr>\n",
       "      <th>6036</th>\n",
       "      <td>2000-04-26 00:35:49</td>\n",
       "      <td>2000-04-26 02:39:40</td>\n",
       "      <td>2000-04-26 13:19:56</td>\n",
       "      <td>0 days 02:03:51</td>\n",
       "      <td>0 days 12:44:07</td>\n",
       "    </tr>\n",
       "    <tr>\n",
       "      <th>6037</th>\n",
       "      <td>2000-04-26 00:29:57</td>\n",
       "      <td>2000-04-26 03:11:40</td>\n",
       "      <td>2000-04-27 02:17:20</td>\n",
       "      <td>0 days 02:41:43</td>\n",
       "      <td>1 days 01:47:23</td>\n",
       "    </tr>\n",
       "    <tr>\n",
       "      <th>6038</th>\n",
       "      <td>2000-04-25 23:53:47</td>\n",
       "      <td>2000-04-26 00:06:44</td>\n",
       "      <td>2000-04-26 02:46:44</td>\n",
       "      <td>0 days 00:12:57</td>\n",
       "      <td>0 days 02:52:57</td>\n",
       "    </tr>\n",
       "    <tr>\n",
       "      <th>6039</th>\n",
       "      <td>2000-04-25 23:25:58</td>\n",
       "      <td>2000-04-25 23:36:51</td>\n",
       "      <td>2000-04-26 14:07:09</td>\n",
       "      <td>0 days 00:10:53</td>\n",
       "      <td>0 days 14:41:11</td>\n",
       "    </tr>\n",
       "    <tr>\n",
       "      <th>6040</th>\n",
       "      <td>2000-04-25 23:05:32</td>\n",
       "      <td>2000-04-26 02:33:58</td>\n",
       "      <td>2001-08-20 13:44:15</td>\n",
       "      <td>0 days 03:28:26</td>\n",
       "      <td>481 days 14:38:43</td>\n",
       "    </tr>\n",
       "  </tbody>\n",
       "</table>\n",
       "<p>6040 rows × 5 columns</p>\n",
       "</div>"
      ],
      "text/plain": [
       "                       min              median                 max  \\\n",
       "UserId                                                               \n",
       "1      2000-12-31 22:00:19 2000-12-31 22:33:59 2001-01-06 23:39:11   \n",
       "2      2000-12-31 21:28:44 2000-12-31 21:48:17 2000-12-31 22:02:54   \n",
       "3      2000-12-31 21:10:18 2000-12-31 21:22:37 2000-12-31 21:35:04   \n",
       "4      2000-12-31 20:18:44 2000-12-31 20:23:50 2000-12-31 20:24:42   \n",
       "5      2000-12-31 05:37:52 2000-12-31 06:40:08 2000-12-31 07:09:45   \n",
       "...                    ...                 ...                 ...   \n",
       "6036   2000-04-26 00:35:49 2000-04-26 02:39:40 2000-04-26 13:19:56   \n",
       "6037   2000-04-26 00:29:57 2000-04-26 03:11:40 2000-04-27 02:17:20   \n",
       "6038   2000-04-25 23:53:47 2000-04-26 00:06:44 2000-04-26 02:46:44   \n",
       "6039   2000-04-25 23:25:58 2000-04-25 23:36:51 2000-04-26 14:07:09   \n",
       "6040   2000-04-25 23:05:32 2000-04-26 02:33:58 2001-08-20 13:44:15   \n",
       "\n",
       "            median-min        max-median  \n",
       "UserId                                    \n",
       "1      0 days 00:33:40   6 days 01:38:52  \n",
       "2      0 days 00:19:33   0 days 00:34:10  \n",
       "3      0 days 00:12:19   0 days 00:24:46  \n",
       "4      0 days 00:05:06   0 days 00:05:58  \n",
       "5      0 days 01:02:16   0 days 01:31:53  \n",
       "...                ...               ...  \n",
       "6036   0 days 02:03:51   0 days 12:44:07  \n",
       "6037   0 days 02:41:43   1 days 01:47:23  \n",
       "6038   0 days 00:12:57   0 days 02:52:57  \n",
       "6039   0 days 00:10:53   0 days 14:41:11  \n",
       "6040   0 days 03:28:26 481 days 14:38:43  \n",
       "\n",
       "[6040 rows x 5 columns]"
      ]
     },
     "execution_count": 30,
     "metadata": {},
     "output_type": "execute_result"
    }
   ],
   "source": [
    "import datetime as dt\n",
    "# data[\"timediff\"] = data.diff(periods=1)[\"Time\"]\n",
    "temp = data.groupby([\"UserId\"])[\"Time\"].agg([\"min\", \"median\", \"max\"])\n",
    "temp[\"median-min\"] = temp[\"median\"] - temp[\"min\"]\n",
    "temp[\"max-median\"] = temp[\"max\"] - temp[\"min\"]\n",
    "temp"
   ]
  },
  {
   "cell_type": "code",
   "execution_count": 31,
   "id": "3897057e",
   "metadata": {},
   "outputs": [
    {
     "data": {
      "text/plain": [
       "<AxesSubplot:xlabel='median-min', ylabel='max-median'>"
      ]
     },
     "execution_count": 31,
     "metadata": {},
     "output_type": "execute_result"
    },
    {
     "data": {
      "image/png": "[encoded data removed]",
      "text/plain": [
       "<Figure size 432x288 with 1 Axes>"
      ]
     },
     "metadata": {
      "needs_background": "light"
     },
     "output_type": "display_data"
    }
   ],
   "source": [
    "sns.scatterplot(data = temp, x = \"median-min\",y = \"max-median\")"
   ]
  },
  {
   "cell_type": "markdown",
   "id": "592ae7d0",
   "metadata": {},
   "source": [
    "> 중앙값과 최소값 차이가 0인경우가 많고 중간값 이후에 마지막 평가가까지 기간은 다양하다. \n",
    "즉 처음에 하루 평가를 몰아서 하고 한동안 안 하다가 하게되는 경우가 많은 것으로 보인다. "
   ]
  },
  {
   "cell_type": "code",
   "execution_count": 34,
   "id": "6641147e",
   "metadata": {
    "scrolled": false
   },
   "outputs": [
    {
     "data": {
      "text/html": [
       "<div>\n",
       "<style scoped>\n",
       "    .dataframe tbody tr th:only-of-type {\n",
       "        vertical-align: middle;\n",
       "    }\n",
       "\n",
       "    .dataframe tbody tr th {\n",
       "        vertical-align: top;\n",
       "    }\n",
       "\n",
       "    .dataframe thead th {\n",
       "        text-align: right;\n",
       "    }\n",
       "</style>\n",
       "<table border=\"1\" class=\"dataframe\">\n",
       "  <thead>\n",
       "    <tr style=\"text-align: right;\">\n",
       "      <th></th>\n",
       "      <th>UserId</th>\n",
       "      <th>ItemId</th>\n",
       "      <th>Rating</th>\n",
       "      <th>Timestamp</th>\n",
       "      <th>Time</th>\n",
       "      <th>timediff</th>\n",
       "      <th>iddiff</th>\n",
       "      <th>SessionId</th>\n",
       "    </tr>\n",
       "  </thead>\n",
       "  <tbody>\n",
       "    <tr>\n",
       "      <th>31</th>\n",
       "      <td>1</td>\n",
       "      <td>3186</td>\n",
       "      <td>4</td>\n",
       "      <td>978300019</td>\n",
       "      <td>2000-12-31 22:00:19</td>\n",
       "      <td>NaT</td>\n",
       "      <td>NaN</td>\n",
       "      <td>1</td>\n",
       "    </tr>\n",
       "    <tr>\n",
       "      <th>22</th>\n",
       "      <td>1</td>\n",
       "      <td>1270</td>\n",
       "      <td>5</td>\n",
       "      <td>978300055</td>\n",
       "      <td>2000-12-31 22:00:55</td>\n",
       "      <td>0 days 00:00:36</td>\n",
       "      <td>0.0</td>\n",
       "      <td>1</td>\n",
       "    </tr>\n",
       "    <tr>\n",
       "      <th>27</th>\n",
       "      <td>1</td>\n",
       "      <td>1721</td>\n",
       "      <td>4</td>\n",
       "      <td>978300055</td>\n",
       "      <td>2000-12-31 22:00:55</td>\n",
       "      <td>0 days 00:00:00</td>\n",
       "      <td>0.0</td>\n",
       "      <td>1</td>\n",
       "    </tr>\n",
       "    <tr>\n",
       "      <th>37</th>\n",
       "      <td>1</td>\n",
       "      <td>1022</td>\n",
       "      <td>5</td>\n",
       "      <td>978300055</td>\n",
       "      <td>2000-12-31 22:00:55</td>\n",
       "      <td>0 days 00:00:00</td>\n",
       "      <td>0.0</td>\n",
       "      <td>1</td>\n",
       "    </tr>\n",
       "    <tr>\n",
       "      <th>24</th>\n",
       "      <td>1</td>\n",
       "      <td>2340</td>\n",
       "      <td>3</td>\n",
       "      <td>978300103</td>\n",
       "      <td>2000-12-31 22:01:43</td>\n",
       "      <td>0 days 00:00:48</td>\n",
       "      <td>0.0</td>\n",
       "      <td>1</td>\n",
       "    </tr>\n",
       "    <tr>\n",
       "      <th>...</th>\n",
       "      <td>...</td>\n",
       "      <td>...</td>\n",
       "      <td>...</td>\n",
       "      <td>...</td>\n",
       "      <td>...</td>\n",
       "      <td>...</td>\n",
       "      <td>...</td>\n",
       "      <td>...</td>\n",
       "    </tr>\n",
       "    <tr>\n",
       "      <th>1000019</th>\n",
       "      <td>6040</td>\n",
       "      <td>2917</td>\n",
       "      <td>4</td>\n",
       "      <td>997454429</td>\n",
       "      <td>2001-08-10 14:40:29</td>\n",
       "      <td>0 days 00:00:31</td>\n",
       "      <td>0.0</td>\n",
       "      <td>20715</td>\n",
       "    </tr>\n",
       "    <tr>\n",
       "      <th>999988</th>\n",
       "      <td>6040</td>\n",
       "      <td>1921</td>\n",
       "      <td>4</td>\n",
       "      <td>997454464</td>\n",
       "      <td>2001-08-10 14:41:04</td>\n",
       "      <td>0 days 00:00:35</td>\n",
       "      <td>0.0</td>\n",
       "      <td>20715</td>\n",
       "    </tr>\n",
       "    <tr>\n",
       "      <th>1000172</th>\n",
       "      <td>6040</td>\n",
       "      <td>1784</td>\n",
       "      <td>3</td>\n",
       "      <td>997454464</td>\n",
       "      <td>2001-08-10 14:41:04</td>\n",
       "      <td>0 days 00:00:00</td>\n",
       "      <td>0.0</td>\n",
       "      <td>20715</td>\n",
       "    </tr>\n",
       "    <tr>\n",
       "      <th>1000167</th>\n",
       "      <td>6040</td>\n",
       "      <td>161</td>\n",
       "      <td>3</td>\n",
       "      <td>997454486</td>\n",
       "      <td>2001-08-10 14:41:26</td>\n",
       "      <td>0 days 00:00:22</td>\n",
       "      <td>0.0</td>\n",
       "      <td>20715</td>\n",
       "    </tr>\n",
       "    <tr>\n",
       "      <th>1000042</th>\n",
       "      <td>6040</td>\n",
       "      <td>1221</td>\n",
       "      <td>4</td>\n",
       "      <td>998315055</td>\n",
       "      <td>2001-08-20 13:44:15</td>\n",
       "      <td>9 days 23:02:49</td>\n",
       "      <td>0.0</td>\n",
       "      <td>20716</td>\n",
       "    </tr>\n",
       "  </tbody>\n",
       "</table>\n",
       "<p>1000209 rows × 8 columns</p>\n",
       "</div>"
      ],
      "text/plain": [
       "         UserId  ItemId  Rating  Timestamp                Time  \\\n",
       "31            1    3186       4  978300019 2000-12-31 22:00:19   \n",
       "22            1    1270       5  978300055 2000-12-31 22:00:55   \n",
       "27            1    1721       4  978300055 2000-12-31 22:00:55   \n",
       "37            1    1022       5  978300055 2000-12-31 22:00:55   \n",
       "24            1    2340       3  978300103 2000-12-31 22:01:43   \n",
       "...         ...     ...     ...        ...                 ...   \n",
       "1000019    6040    2917       4  997454429 2001-08-10 14:40:29   \n",
       "999988     6040    1921       4  997454464 2001-08-10 14:41:04   \n",
       "1000172    6040    1784       3  997454464 2001-08-10 14:41:04   \n",
       "1000167    6040     161       3  997454486 2001-08-10 14:41:26   \n",
       "1000042    6040    1221       4  998315055 2001-08-20 13:44:15   \n",
       "\n",
       "               timediff  iddiff  SessionId  \n",
       "31                  NaT     NaN          1  \n",
       "22      0 days 00:00:36     0.0          1  \n",
       "27      0 days 00:00:00     0.0          1  \n",
       "37      0 days 00:00:00     0.0          1  \n",
       "24      0 days 00:00:48     0.0          1  \n",
       "...                 ...     ...        ...  \n",
       "1000019 0 days 00:00:31     0.0      20715  \n",
       "999988  0 days 00:00:35     0.0      20715  \n",
       "1000172 0 days 00:00:00     0.0      20715  \n",
       "1000167 0 days 00:00:22     0.0      20715  \n",
       "1000042 9 days 23:02:49     0.0      20716  \n",
       "\n",
       "[1000209 rows x 8 columns]"
      ]
     },
     "execution_count": 34,
     "metadata": {},
     "output_type": "execute_result"
    }
   ],
   "source": [
    "import datetime as dt\n",
    "data[\"iddiff\"] = data.diff(periods=1)[\"UserId\"]\n",
    "data[\"timediff\"] = data.diff(periods=1)[\"Time\"]\n",
    "session = [1]\n",
    "s = 1\n",
    "for i, j in zip(data[\"iddiff\"][1:], data[\"timediff\"][1:]):\n",
    "    if (i == 0)&(j < dt.timedelta(1)):  # 1일 단위로 자름\n",
    "        session.append(s)\n",
    "    else :\n",
    "        s +=1\n",
    "        session.append(s)\n",
    "        continue\n",
    "data[\"SessionId\"] = session\n",
    "data"
   ]
  },
  {
   "cell_type": "markdown",
   "id": "99c0ee38",
   "metadata": {},
   "source": [
    "__Session Length__  \n",
    "너무 많은 평가를 매긴 경우 이상치일 수 있다. "
   ]
  },
  {
   "cell_type": "code",
   "execution_count": 35,
   "id": "ba0976d1",
   "metadata": {},
   "outputs": [
    {
     "data": {
      "text/plain": [
       "SessionId\n",
       "1         40\n",
       "2         13\n",
       "3        129\n",
       "4         51\n",
       "5         21\n",
       "        ... \n",
       "20712      7\n",
       "20713     14\n",
       "20714      1\n",
       "20715     21\n",
       "20716      1\n",
       "Length: 20716, dtype: int64"
      ]
     },
     "execution_count": 35,
     "metadata": {},
     "output_type": "execute_result"
    }
   ],
   "source": [
    "# UserId Lenght\n",
    "session_length = data.groupby([\"SessionId\"]).size()  # 유저 아이디 숫자, 즉 각 유저아이디별로 활동한 사건 수\n",
    "session_length"
   ]
  },
  {
   "cell_type": "code",
   "execution_count": 36,
   "id": "72405387",
   "metadata": {},
   "outputs": [
    {
     "name": "stdout",
     "output_type": "stream",
     "text": [
      "최소 값 :  1\n",
      "최대 값 :  1849\n",
      "평균 값 :  48.281955976057155\n",
      "중앙 값 :  7.0\n",
      "누적백분율 99.9% 값 :  903.4150000000664\n"
     ]
    },
    {
     "data": {
      "text/plain": [
       "<AxesSubplot:>"
      ]
     },
     "execution_count": 36,
     "metadata": {},
     "output_type": "execute_result"
    },
    {
     "data": {
      "image/png": "[encoded data removed]",
      "text/plain": [
       "<Figure size 432x288 with 1 Axes>"
      ]
     },
     "metadata": {
      "needs_background": "light"
     },
     "output_type": "display_data"
    }
   ],
   "source": [
    "# 기본적인 통계값 확인\n",
    "print(\"최소 값 : \",session_length.min())\n",
    "print(\"최대 값 : \",session_length.max())\n",
    "print(\"평균 값 : \",session_length.mean())\n",
    "print(\"중앙 값 : \",session_length.median())\n",
    "print(\"누적백분율 99.9% 값 : \",session_length.quantile(0.999))\n",
    "\n",
    "session_length.plot(kind = \"box\")"
   ]
  },
  {
   "cell_type": "markdown",
   "id": "5d655b9a",
   "metadata": {},
   "source": [
    "평균도 165.59이고 상위 90% 를 뽑아도 400밖에 안된다. "
   ]
  },
  {
   "cell_type": "code",
   "execution_count": 38,
   "id": "a10545fa",
   "metadata": {},
   "outputs": [
    {
     "data": {
      "text/plain": [
       "1       5203\n",
       "2       2232\n",
       "3       1130\n",
       "4        694\n",
       "5        554\n",
       "        ... \n",
       "1180       1\n",
       "1216       1\n",
       "1262       1\n",
       "1442       1\n",
       "1849       1\n",
       "Length: 636, dtype: int64"
      ]
     },
     "execution_count": 38,
     "metadata": {},
     "output_type": "execute_result"
    }
   ],
   "source": [
    "session_length.groupby(session_length).size()"
   ]
  },
  {
   "cell_type": "code",
   "execution_count": 39,
   "id": "7347733f",
   "metadata": {},
   "outputs": [
    {
     "data": {
      "text/plain": [
       "1      0.251159\n",
       "2      0.358901\n",
       "3      0.413449\n",
       "4      0.446949\n",
       "5      0.473692\n",
       "         ...   \n",
       "870    0.998793\n",
       "875    0.998841\n",
       "883    0.998890\n",
       "888    0.998938\n",
       "898    0.998986\n",
       "Length: 615, dtype: float64"
      ]
     },
     "execution_count": 39,
     "metadata": {},
     "output_type": "execute_result"
    }
   ],
   "source": [
    "length_count = session_length.groupby(session_length).size()  # 유저의 활동수를 기준으로 묶는다.\n",
    "length_percent_cumsum = length_count.cumsum() / length_count.sum()  # 각 활동이 얼마나 많은 활동이었는지 누적 분포로 확인한다. \n",
    "length_percent_cumsum_999 = length_percent_cumsum[length_percent_cumsum < 0.999]  # 클릭수가 너무 많은 상위 90% 이상은 제거한다.\n",
    "length_percent_cumsum_999"
   ]
  },
  {
   "cell_type": "code",
   "execution_count": 40,
   "id": "d32aa4f9",
   "metadata": {},
   "outputs": [
    {
     "data": {
      "image/png": "[encoded data removed]",
      "text/plain": [
       "<Figure size 1152x720 with 1 Axes>"
      ]
     },
     "metadata": {
      "needs_background": "light"
     },
     "output_type": "display_data"
    }
   ],
   "source": [
    "import matplotlib.pyplot as plt\n",
    "\n",
    "plt.figure(figsize=(16, 10))\n",
    "plt.bar(x=length_percent_cumsum_999.index,\n",
    "        height=length_percent_cumsum_999, color='red')\n",
    "plt.xticks(length_percent_cumsum_999.index)\n",
    "plt.yticks(np.arange(0, 1.01, 0.05))\n",
    "plt.title('Cumsum Percentage Until 0.999', size=20)\n",
    "plt.xticks(rotation = 90)\n",
    "plt.show()"
   ]
  },
  {
   "cell_type": "markdown",
   "id": "7f98400c",
   "metadata": {},
   "source": [
    "__Session Time__  \n",
    "\n",
    "최신 트렌드를 반영하기 위해 최근 1년간 평가한 session을 활용"
   ]
  },
  {
   "cell_type": "code",
   "execution_count": 41,
   "id": "b7d0f0dd",
   "metadata": {},
   "outputs": [
    {
     "name": "stdout",
     "output_type": "stream",
     "text": [
      "2000-04-25 23:05:32\n",
      "2003-02-28 17:49:50\n"
     ]
    }
   ],
   "source": [
    "# 가장 오래된 노드와 가장 최신 노드\n",
    "oldest,latest = data[\"Time\"].min(), data[\"Time\"].max()\n",
    "print(oldest)\n",
    "print(latest)"
   ]
  },
  {
   "cell_type": "code",
   "execution_count": 42,
   "id": "6bc480ea",
   "metadata": {},
   "outputs": [],
   "source": [
    "# month_ago = latest - dt.timedelta(730)\n",
    "# data_recent = data[data[\"Time\"] > month_ago]\n",
    "# data_recent"
   ]
  },
  {
   "cell_type": "markdown",
   "id": "e4d941ce",
   "metadata": {},
   "source": [
    "__Data Cleaning__"
   ]
  },
  {
   "cell_type": "code",
   "execution_count": 43,
   "id": "686fb09f",
   "metadata": {},
   "outputs": [
    {
     "data": {
      "text/plain": [
       "(1000209, 8)"
      ]
     },
     "execution_count": 43,
     "metadata": {},
     "output_type": "execute_result"
    }
   ],
   "source": [
    "data.shape"
   ]
  },
  {
   "cell_type": "code",
   "execution_count": 44,
   "id": "c3c57da2",
   "metadata": {},
   "outputs": [
    {
     "data": {
      "text/html": [
       "<div>\n",
       "<style scoped>\n",
       "    .dataframe tbody tr th:only-of-type {\n",
       "        vertical-align: middle;\n",
       "    }\n",
       "\n",
       "    .dataframe tbody tr th {\n",
       "        vertical-align: top;\n",
       "    }\n",
       "\n",
       "    .dataframe thead th {\n",
       "        text-align: right;\n",
       "    }\n",
       "</style>\n",
       "<table border=\"1\" class=\"dataframe\">\n",
       "  <thead>\n",
       "    <tr style=\"text-align: right;\">\n",
       "      <th></th>\n",
       "      <th>UserId</th>\n",
       "      <th>ItemId</th>\n",
       "      <th>Rating</th>\n",
       "      <th>Timestamp</th>\n",
       "      <th>Time</th>\n",
       "      <th>timediff</th>\n",
       "      <th>iddiff</th>\n",
       "      <th>SessionId</th>\n",
       "    </tr>\n",
       "  </thead>\n",
       "  <tbody>\n",
       "    <tr>\n",
       "      <th>31</th>\n",
       "      <td>1</td>\n",
       "      <td>3186</td>\n",
       "      <td>4</td>\n",
       "      <td>978300019</td>\n",
       "      <td>2000-12-31 22:00:19</td>\n",
       "      <td>NaT</td>\n",
       "      <td>NaN</td>\n",
       "      <td>1</td>\n",
       "    </tr>\n",
       "    <tr>\n",
       "      <th>22</th>\n",
       "      <td>1</td>\n",
       "      <td>1270</td>\n",
       "      <td>5</td>\n",
       "      <td>978300055</td>\n",
       "      <td>2000-12-31 22:00:55</td>\n",
       "      <td>0 days 00:00:36</td>\n",
       "      <td>0.0</td>\n",
       "      <td>1</td>\n",
       "    </tr>\n",
       "    <tr>\n",
       "      <th>27</th>\n",
       "      <td>1</td>\n",
       "      <td>1721</td>\n",
       "      <td>4</td>\n",
       "      <td>978300055</td>\n",
       "      <td>2000-12-31 22:00:55</td>\n",
       "      <td>0 days 00:00:00</td>\n",
       "      <td>0.0</td>\n",
       "      <td>1</td>\n",
       "    </tr>\n",
       "    <tr>\n",
       "      <th>37</th>\n",
       "      <td>1</td>\n",
       "      <td>1022</td>\n",
       "      <td>5</td>\n",
       "      <td>978300055</td>\n",
       "      <td>2000-12-31 22:00:55</td>\n",
       "      <td>0 days 00:00:00</td>\n",
       "      <td>0.0</td>\n",
       "      <td>1</td>\n",
       "    </tr>\n",
       "    <tr>\n",
       "      <th>24</th>\n",
       "      <td>1</td>\n",
       "      <td>2340</td>\n",
       "      <td>3</td>\n",
       "      <td>978300103</td>\n",
       "      <td>2000-12-31 22:01:43</td>\n",
       "      <td>0 days 00:00:48</td>\n",
       "      <td>0.0</td>\n",
       "      <td>1</td>\n",
       "    </tr>\n",
       "    <tr>\n",
       "      <th>...</th>\n",
       "      <td>...</td>\n",
       "      <td>...</td>\n",
       "      <td>...</td>\n",
       "      <td>...</td>\n",
       "      <td>...</td>\n",
       "      <td>...</td>\n",
       "      <td>...</td>\n",
       "      <td>...</td>\n",
       "    </tr>\n",
       "    <tr>\n",
       "      <th>1000019</th>\n",
       "      <td>6040</td>\n",
       "      <td>2917</td>\n",
       "      <td>4</td>\n",
       "      <td>997454429</td>\n",
       "      <td>2001-08-10 14:40:29</td>\n",
       "      <td>0 days 00:00:31</td>\n",
       "      <td>0.0</td>\n",
       "      <td>20715</td>\n",
       "    </tr>\n",
       "    <tr>\n",
       "      <th>999988</th>\n",
       "      <td>6040</td>\n",
       "      <td>1921</td>\n",
       "      <td>4</td>\n",
       "      <td>997454464</td>\n",
       "      <td>2001-08-10 14:41:04</td>\n",
       "      <td>0 days 00:00:35</td>\n",
       "      <td>0.0</td>\n",
       "      <td>20715</td>\n",
       "    </tr>\n",
       "    <tr>\n",
       "      <th>1000172</th>\n",
       "      <td>6040</td>\n",
       "      <td>1784</td>\n",
       "      <td>3</td>\n",
       "      <td>997454464</td>\n",
       "      <td>2001-08-10 14:41:04</td>\n",
       "      <td>0 days 00:00:00</td>\n",
       "      <td>0.0</td>\n",
       "      <td>20715</td>\n",
       "    </tr>\n",
       "    <tr>\n",
       "      <th>1000167</th>\n",
       "      <td>6040</td>\n",
       "      <td>161</td>\n",
       "      <td>3</td>\n",
       "      <td>997454486</td>\n",
       "      <td>2001-08-10 14:41:26</td>\n",
       "      <td>0 days 00:00:22</td>\n",
       "      <td>0.0</td>\n",
       "      <td>20715</td>\n",
       "    </tr>\n",
       "    <tr>\n",
       "      <th>1000042</th>\n",
       "      <td>6040</td>\n",
       "      <td>1221</td>\n",
       "      <td>4</td>\n",
       "      <td>998315055</td>\n",
       "      <td>2001-08-20 13:44:15</td>\n",
       "      <td>9 days 23:02:49</td>\n",
       "      <td>0.0</td>\n",
       "      <td>20716</td>\n",
       "    </tr>\n",
       "  </tbody>\n",
       "</table>\n",
       "<p>836478 rows × 8 columns</p>\n",
       "</div>"
      ],
      "text/plain": [
       "         UserId  ItemId  Rating  Timestamp                Time  \\\n",
       "31            1    3186       4  978300019 2000-12-31 22:00:19   \n",
       "22            1    1270       5  978300055 2000-12-31 22:00:55   \n",
       "27            1    1721       4  978300055 2000-12-31 22:00:55   \n",
       "37            1    1022       5  978300055 2000-12-31 22:00:55   \n",
       "24            1    2340       3  978300103 2000-12-31 22:01:43   \n",
       "...         ...     ...     ...        ...                 ...   \n",
       "1000019    6040    2917       4  997454429 2001-08-10 14:40:29   \n",
       "999988     6040    1921       4  997454464 2001-08-10 14:41:04   \n",
       "1000172    6040    1784       3  997454464 2001-08-10 14:41:04   \n",
       "1000167    6040     161       3  997454486 2001-08-10 14:41:26   \n",
       "1000042    6040    1221       4  998315055 2001-08-20 13:44:15   \n",
       "\n",
       "               timediff  iddiff  SessionId  \n",
       "31                  NaT     NaN          1  \n",
       "22      0 days 00:00:36     0.0          1  \n",
       "27      0 days 00:00:00     0.0          1  \n",
       "37      0 days 00:00:00     0.0          1  \n",
       "24      0 days 00:00:48     0.0          1  \n",
       "...                 ...     ...        ...  \n",
       "1000019 0 days 00:00:31     0.0      20715  \n",
       "999988  0 days 00:00:35     0.0      20715  \n",
       "1000172 0 days 00:00:00     0.0      20715  \n",
       "1000167 0 days 00:00:22     0.0      20715  \n",
       "1000042 9 days 23:02:49     0.0      20716  \n",
       "\n",
       "[836478 rows x 8 columns]"
      ]
     },
     "execution_count": 44,
     "metadata": {},
     "output_type": "execute_result"
    }
   ],
   "source": [
    "# Rating 이 3 미만인 행은 삭제\n",
    "data = data[data[\"Rating\"] >= 3]\n",
    "data"
   ]
  },
  {
   "cell_type": "code",
   "execution_count": 45,
   "id": "b7649650",
   "metadata": {},
   "outputs": [],
   "source": [
    "def cleanse_recursive(data : pd.DataFrame, shortest, least_eval) -> pd.DataFrame :\n",
    "    while True : \n",
    "        before_len = len(data)\n",
    "        data = cleanse_short_session(data, shortest)\n",
    "        data = cleanse_unpopular_item(data, least_eval)\n",
    "        after_len = len(data)\n",
    "        if before_len == after_len:\n",
    "            break\n",
    "    return data\n",
    "        \n",
    "        \n",
    "def cleanse_short_session(data : pd.DataFrame, shortest) : \n",
    "    session_len = data.groupby(\"SessionId\").size()\n",
    "    session_use = session_len[session_len >= shortest].index  # 가장 짧은 세션 이상의 session의 index 저장\n",
    "    data = data[data[\"SessionId\"].isin(session_use)]\n",
    "    return data\n",
    "\n",
    "def cleanse_unpopular_item(data : pd.DataFrame, least_eval) : \n",
    "    item_popular = data.groupby([\"ItemId\"]).size()\n",
    "    item_use = item_popular[item_popular >= least_eval].index\n",
    "    data = data[data[\"ItemId\"].isin(item_use)]\n",
    "    return data"
   ]
  },
  {
   "cell_type": "code",
   "execution_count": 46,
   "id": "268e338b",
   "metadata": {},
   "outputs": [
    {
     "data": {
      "text/plain": [
       "1"
      ]
     },
     "execution_count": 46,
     "metadata": {},
     "output_type": "execute_result"
    }
   ],
   "source": [
    "# itemid 출현 빈토 최소값\n",
    "data.groupby([\"ItemId\"]).size().min()"
   ]
  },
  {
   "cell_type": "code",
   "execution_count": 47,
   "id": "0d156f29",
   "metadata": {},
   "outputs": [
    {
     "data": {
      "text/html": [
       "<div>\n",
       "<style scoped>\n",
       "    .dataframe tbody tr th:only-of-type {\n",
       "        vertical-align: middle;\n",
       "    }\n",
       "\n",
       "    .dataframe tbody tr th {\n",
       "        vertical-align: top;\n",
       "    }\n",
       "\n",
       "    .dataframe thead th {\n",
       "        text-align: right;\n",
       "    }\n",
       "</style>\n",
       "<table border=\"1\" class=\"dataframe\">\n",
       "  <thead>\n",
       "    <tr style=\"text-align: right;\">\n",
       "      <th></th>\n",
       "      <th>UserId</th>\n",
       "      <th>ItemId</th>\n",
       "      <th>Rating</th>\n",
       "      <th>Timestamp</th>\n",
       "      <th>Time</th>\n",
       "      <th>timediff</th>\n",
       "      <th>iddiff</th>\n",
       "      <th>SessionId</th>\n",
       "    </tr>\n",
       "  </thead>\n",
       "  <tbody>\n",
       "    <tr>\n",
       "      <th>31</th>\n",
       "      <td>1</td>\n",
       "      <td>3186</td>\n",
       "      <td>4</td>\n",
       "      <td>978300019</td>\n",
       "      <td>2000-12-31 22:00:19</td>\n",
       "      <td>NaT</td>\n",
       "      <td>NaN</td>\n",
       "      <td>1</td>\n",
       "    </tr>\n",
       "    <tr>\n",
       "      <th>22</th>\n",
       "      <td>1</td>\n",
       "      <td>1270</td>\n",
       "      <td>5</td>\n",
       "      <td>978300055</td>\n",
       "      <td>2000-12-31 22:00:55</td>\n",
       "      <td>0 days 00:00:36</td>\n",
       "      <td>0.0</td>\n",
       "      <td>1</td>\n",
       "    </tr>\n",
       "    <tr>\n",
       "      <th>27</th>\n",
       "      <td>1</td>\n",
       "      <td>1721</td>\n",
       "      <td>4</td>\n",
       "      <td>978300055</td>\n",
       "      <td>2000-12-31 22:00:55</td>\n",
       "      <td>0 days 00:00:00</td>\n",
       "      <td>0.0</td>\n",
       "      <td>1</td>\n",
       "    </tr>\n",
       "    <tr>\n",
       "      <th>37</th>\n",
       "      <td>1</td>\n",
       "      <td>1022</td>\n",
       "      <td>5</td>\n",
       "      <td>978300055</td>\n",
       "      <td>2000-12-31 22:00:55</td>\n",
       "      <td>0 days 00:00:00</td>\n",
       "      <td>0.0</td>\n",
       "      <td>1</td>\n",
       "    </tr>\n",
       "    <tr>\n",
       "      <th>24</th>\n",
       "      <td>1</td>\n",
       "      <td>2340</td>\n",
       "      <td>3</td>\n",
       "      <td>978300103</td>\n",
       "      <td>2000-12-31 22:01:43</td>\n",
       "      <td>0 days 00:00:48</td>\n",
       "      <td>0.0</td>\n",
       "      <td>1</td>\n",
       "    </tr>\n",
       "    <tr>\n",
       "      <th>...</th>\n",
       "      <td>...</td>\n",
       "      <td>...</td>\n",
       "      <td>...</td>\n",
       "      <td>...</td>\n",
       "      <td>...</td>\n",
       "      <td>...</td>\n",
       "      <td>...</td>\n",
       "      <td>...</td>\n",
       "    </tr>\n",
       "    <tr>\n",
       "      <th>999923</th>\n",
       "      <td>6040</td>\n",
       "      <td>232</td>\n",
       "      <td>5</td>\n",
       "      <td>997454398</td>\n",
       "      <td>2001-08-10 14:39:58</td>\n",
       "      <td>0 days 00:00:31</td>\n",
       "      <td>0.0</td>\n",
       "      <td>20715</td>\n",
       "    </tr>\n",
       "    <tr>\n",
       "      <th>1000019</th>\n",
       "      <td>6040</td>\n",
       "      <td>2917</td>\n",
       "      <td>4</td>\n",
       "      <td>997454429</td>\n",
       "      <td>2001-08-10 14:40:29</td>\n",
       "      <td>0 days 00:00:31</td>\n",
       "      <td>0.0</td>\n",
       "      <td>20715</td>\n",
       "    </tr>\n",
       "    <tr>\n",
       "      <th>999988</th>\n",
       "      <td>6040</td>\n",
       "      <td>1921</td>\n",
       "      <td>4</td>\n",
       "      <td>997454464</td>\n",
       "      <td>2001-08-10 14:41:04</td>\n",
       "      <td>0 days 00:00:35</td>\n",
       "      <td>0.0</td>\n",
       "      <td>20715</td>\n",
       "    </tr>\n",
       "    <tr>\n",
       "      <th>1000172</th>\n",
       "      <td>6040</td>\n",
       "      <td>1784</td>\n",
       "      <td>3</td>\n",
       "      <td>997454464</td>\n",
       "      <td>2001-08-10 14:41:04</td>\n",
       "      <td>0 days 00:00:00</td>\n",
       "      <td>0.0</td>\n",
       "      <td>20715</td>\n",
       "    </tr>\n",
       "    <tr>\n",
       "      <th>1000167</th>\n",
       "      <td>6040</td>\n",
       "      <td>161</td>\n",
       "      <td>3</td>\n",
       "      <td>997454486</td>\n",
       "      <td>2001-08-10 14:41:26</td>\n",
       "      <td>0 days 00:00:22</td>\n",
       "      <td>0.0</td>\n",
       "      <td>20715</td>\n",
       "    </tr>\n",
       "  </tbody>\n",
       "</table>\n",
       "<p>830656 rows × 8 columns</p>\n",
       "</div>"
      ],
      "text/plain": [
       "         UserId  ItemId  Rating  Timestamp                Time  \\\n",
       "31            1    3186       4  978300019 2000-12-31 22:00:19   \n",
       "22            1    1270       5  978300055 2000-12-31 22:00:55   \n",
       "27            1    1721       4  978300055 2000-12-31 22:00:55   \n",
       "37            1    1022       5  978300055 2000-12-31 22:00:55   \n",
       "24            1    2340       3  978300103 2000-12-31 22:01:43   \n",
       "...         ...     ...     ...        ...                 ...   \n",
       "999923     6040     232       5  997454398 2001-08-10 14:39:58   \n",
       "1000019    6040    2917       4  997454429 2001-08-10 14:40:29   \n",
       "999988     6040    1921       4  997454464 2001-08-10 14:41:04   \n",
       "1000172    6040    1784       3  997454464 2001-08-10 14:41:04   \n",
       "1000167    6040     161       3  997454486 2001-08-10 14:41:26   \n",
       "\n",
       "               timediff  iddiff  SessionId  \n",
       "31                  NaT     NaN          1  \n",
       "22      0 days 00:00:36     0.0          1  \n",
       "27      0 days 00:00:00     0.0          1  \n",
       "37      0 days 00:00:00     0.0          1  \n",
       "24      0 days 00:00:48     0.0          1  \n",
       "...                 ...     ...        ...  \n",
       "999923  0 days 00:00:31     0.0      20715  \n",
       "1000019 0 days 00:00:31     0.0      20715  \n",
       "999988  0 days 00:00:35     0.0      20715  \n",
       "1000172 0 days 00:00:00     0.0      20715  \n",
       "1000167 0 days 00:00:22     0.0      20715  \n",
       "\n",
       "[830656 rows x 8 columns]"
      ]
     },
     "execution_count": 47,
     "metadata": {},
     "output_type": "execute_result"
    }
   ],
   "source": [
    "# 평가 수가 2개 이하인 세션은 삭제, 평가 횟수가 5회 미만인 영화도 삭제\n",
    "data = cleanse_recursive(data, shortest = 2, least_eval = 5)\n",
    "data"
   ]
  },
  {
   "cell_type": "markdown",
   "id": "b6ec86e5",
   "metadata": {},
   "source": [
    "__Train / Valid / Test split__"
   ]
  },
  {
   "cell_type": "code",
   "execution_count": 48,
   "id": "24c3cd19",
   "metadata": {},
   "outputs": [],
   "source": [
    "def split_by_date(data : pd.DataFrame, n_days: int):\n",
    "    final_time = data[\"Time\"].max()\n",
    "    session_last_time = data.groupby([\"SessionId\"])[\"Time\"].max()\n",
    "    session_in_train = session_last_time[session_last_time < final_time - dt.timedelta(n_days)].index\n",
    "    session_in_test = session_last_time[session_last_time >= final_time - dt.timedelta(n_days)].index\n",
    "    \n",
    "    before_date = data[data[\"SessionId\"].isin(session_in_train)]\n",
    "    after_date = data[data['SessionId'].isin(session_in_test)]\n",
    "    after_date = after_date[after_date['ItemId'].isin(before_date['ItemId'])]\n",
    "    return before_date, after_date    "
   ]
  },
  {
   "cell_type": "code",
   "execution_count": 49,
   "id": "4942f8cd",
   "metadata": {},
   "outputs": [
    {
     "data": {
      "text/plain": [
       "datetime.timedelta(days=600)"
      ]
     },
     "execution_count": 49,
     "metadata": {},
     "output_type": "execute_result"
    }
   ],
   "source": [
    "dt.timedelta(600)"
   ]
  },
  {
   "cell_type": "code",
   "execution_count": 50,
   "id": "b089f5e8",
   "metadata": {},
   "outputs": [],
   "source": [
    "data.sort_values(by = \"Time\", ascending = True, inplace = True)"
   ]
  },
  {
   "cell_type": "code",
   "execution_count": 51,
   "id": "be608b5d",
   "metadata": {},
   "outputs": [],
   "source": [
    "data[\"date\"] = data[\"Time\"].dt.date"
   ]
  },
  {
   "cell_type": "code",
   "execution_count": 52,
   "id": "d50baa81",
   "metadata": {},
   "outputs": [],
   "source": [
    "train, test = split_by_date(data, n_days = 300)\n",
    "train, val = split_by_date(train, n_days = 300)"
   ]
  },
  {
   "cell_type": "code",
   "execution_count": 53,
   "id": "9c0efc64",
   "metadata": {},
   "outputs": [
    {
     "data": {
      "text/plain": [
       "((794782, 9), (23822, 9), (12047, 9))"
      ]
     },
     "execution_count": 53,
     "metadata": {},
     "output_type": "execute_result"
    }
   ],
   "source": [
    "train.shape, val.shape, test.shape"
   ]
  },
  {
   "cell_type": "code",
   "execution_count": 54,
   "id": "0cb0d485",
   "metadata": {},
   "outputs": [],
   "source": [
    "# data에 대한 정보를 살펴봅니다.\n",
    "def stats_info(data: pd.DataFrame, status: str):\n",
    "    print(f'* {status} Set Stats Info\\n'\n",
    "          f'\\t Events: {len(data)}\\n'\n",
    "          f'\\t Sessions: {data[\"SessionId\"].nunique()}\\n'\n",
    "          f'\\t Items: {data[\"ItemId\"].nunique()}\\n'\n",
    "          f'\\t First Time : {data[\"Time\"].min()}\\n'\n",
    "          f'\\t Last Time : {data[\"Time\"].max()}\\n')"
   ]
  },
  {
   "cell_type": "code",
   "execution_count": 55,
   "id": "f8de6b2f",
   "metadata": {},
   "outputs": [
    {
     "name": "stdout",
     "output_type": "stream",
     "text": [
      "* train Set Stats Info\n",
      "\t Events: 794782\n",
      "\t Sessions: 11943\n",
      "\t Items: 3302\n",
      "\t First Time : 2000-04-25 23:05:32\n",
      "\t Last Time : 2001-07-08 01:54:08\n",
      "\n",
      "* valid Set Stats Info\n",
      "\t Events: 23822\n",
      "\t Sessions: 1750\n",
      "\t Items: 2763\n",
      "\t First Time : 2001-07-07 02:49:17\n",
      "\t Last Time : 2002-05-04 02:01:59\n",
      "\n",
      "* test Set Stats Info\n",
      "\t Events: 12047\n",
      "\t Sessions: 1059\n",
      "\t Items: 2370\n",
      "\t First Time : 2002-05-04 09:26:12\n",
      "\t Last Time : 2003-02-28 17:49:50\n",
      "\n"
     ]
    }
   ],
   "source": [
    "stats_info(train, 'train')\n",
    "stats_info(val, 'valid')\n",
    "stats_info(test, 'test')"
   ]
  },
  {
   "cell_type": "code",
   "execution_count": 56,
   "id": "95be86e6",
   "metadata": {},
   "outputs": [],
   "source": [
    "id2idx = {item_id : index for index, item_id in enumerate(train['ItemId'].unique())}\n",
    "\n",
    "def indexing(df, id2idx):\n",
    "    df['item_idx'] = df['ItemId'].map(lambda x: id2idx.get(x, -1))  # id2idx에 없는 아이템은 모르는 값(-1) 처리 해줍니다.\n",
    "    return df\n",
    "\n",
    "train = indexing(train, id2idx)\n",
    "val = indexing(val, id2idx)\n",
    "test = indexing(test, id2idx)"
   ]
  },
  {
   "cell_type": "code",
   "execution_count": 57,
   "id": "d118699e",
   "metadata": {},
   "outputs": [],
   "source": [
    "save_path = data_path / 'processed'  # Path(os.getenv('HOME')+'/aiffel/yoochoose/data/') \n",
    "save_path.mkdir(parents=True, exist_ok=True)\n",
    "\n",
    "train.to_pickle(save_path / 'train.pkl')\n",
    "val.to_pickle(save_path / 'valid.pkl')\n",
    "test.to_pickle(save_path / 'test.pkl')"
   ]
  },
  {
   "cell_type": "markdown",
   "id": "82186a18",
   "metadata": {},
   "source": [
    "### Step 2. 미니 배치의 구성\n",
    "\n",
    "--------------------------------------\n",
    "\n",
    "실습 코드 내역을 참고하여 데이터셋과 미니 배치를 구성해 봅시다. Session-Parallel Mini-Batch의 개념에 따라, 학습 속도의 저하가 최소화될 수 있도록 구성합니다.\n",
    "단, 위 Step 1에서 Session 단위를 어떻게 정의했느냐에 따라서 Session-Parallel Mini-Batch이 굳이 필요하지 않을 수도 있습니다."
   ]
  },
  {
   "cell_type": "code",
   "execution_count": 58,
   "id": "caac9062",
   "metadata": {},
   "outputs": [],
   "source": [
    "class SessionDataset:\n",
    "\n",
    "    def __init__(self, data):\n",
    "        self.df = data\n",
    "        self.click_offsets = self.get_click_offsets()\n",
    "        self.session_idx = np.arange(self.df['SessionId'].nunique())  # indexing to SessionId\n",
    "        # 유니크 아이디 개수만큼 배열 생성\n",
    "            \n",
    "    def get_click_offsets(self):\n",
    "        \"\"\"\n",
    "        세션에 수 누적값 구하기\n",
    "        \"\"\"\n",
    "        offsets = np.zeros(self.df['SessionId'].nunique() + 1, dtype=np.int32)\n",
    "        offsets[1:] = self.df.groupby('SessionId').size().cumsum()  # 이게 무슨말일까?\n",
    "        return offsets"
   ]
  },
  {
   "cell_type": "code",
   "execution_count": 59,
   "id": "7ff97536",
   "metadata": {},
   "outputs": [
    {
     "data": {
      "text/html": [
       "<div>\n",
       "<style scoped>\n",
       "    .dataframe tbody tr th:only-of-type {\n",
       "        vertical-align: middle;\n",
       "    }\n",
       "\n",
       "    .dataframe tbody tr th {\n",
       "        vertical-align: top;\n",
       "    }\n",
       "\n",
       "    .dataframe thead th {\n",
       "        text-align: right;\n",
       "    }\n",
       "</style>\n",
       "<table border=\"1\" class=\"dataframe\">\n",
       "  <thead>\n",
       "    <tr style=\"text-align: right;\">\n",
       "      <th></th>\n",
       "      <th>UserId</th>\n",
       "      <th>ItemId</th>\n",
       "      <th>Rating</th>\n",
       "      <th>Timestamp</th>\n",
       "      <th>Time</th>\n",
       "      <th>timediff</th>\n",
       "      <th>iddiff</th>\n",
       "      <th>SessionId</th>\n",
       "      <th>date</th>\n",
       "      <th>item_idx</th>\n",
       "    </tr>\n",
       "  </thead>\n",
       "  <tbody>\n",
       "    <tr>\n",
       "      <th>1000138</th>\n",
       "      <td>6040</td>\n",
       "      <td>858</td>\n",
       "      <td>4</td>\n",
       "      <td>956703932</td>\n",
       "      <td>2000-04-25 23:05:32</td>\n",
       "      <td>-1 days +08:58:23</td>\n",
       "      <td>1.0</td>\n",
       "      <td>20709</td>\n",
       "      <td>2000-04-25</td>\n",
       "      <td>0</td>\n",
       "    </tr>\n",
       "    <tr>\n",
       "      <th>1000153</th>\n",
       "      <td>6040</td>\n",
       "      <td>2384</td>\n",
       "      <td>4</td>\n",
       "      <td>956703954</td>\n",
       "      <td>2000-04-25 23:05:54</td>\n",
       "      <td>0 days 00:00:00</td>\n",
       "      <td>0.0</td>\n",
       "      <td>20709</td>\n",
       "      <td>2000-04-25</td>\n",
       "      <td>1</td>\n",
       "    </tr>\n",
       "    <tr>\n",
       "      <th>999873</th>\n",
       "      <td>6040</td>\n",
       "      <td>593</td>\n",
       "      <td>5</td>\n",
       "      <td>956703954</td>\n",
       "      <td>2000-04-25 23:05:54</td>\n",
       "      <td>0 days 00:00:22</td>\n",
       "      <td>0.0</td>\n",
       "      <td>20709</td>\n",
       "      <td>2000-04-25</td>\n",
       "      <td>2</td>\n",
       "    </tr>\n",
       "    <tr>\n",
       "      <th>1000007</th>\n",
       "      <td>6040</td>\n",
       "      <td>1961</td>\n",
       "      <td>4</td>\n",
       "      <td>956703977</td>\n",
       "      <td>2000-04-25 23:06:17</td>\n",
       "      <td>0 days 00:00:23</td>\n",
       "      <td>0.0</td>\n",
       "      <td>20709</td>\n",
       "      <td>2000-04-25</td>\n",
       "      <td>3</td>\n",
       "    </tr>\n",
       "    <tr>\n",
       "      <th>1000192</th>\n",
       "      <td>6040</td>\n",
       "      <td>2019</td>\n",
       "      <td>5</td>\n",
       "      <td>956703977</td>\n",
       "      <td>2000-04-25 23:06:17</td>\n",
       "      <td>0 days 00:00:00</td>\n",
       "      <td>0.0</td>\n",
       "      <td>20709</td>\n",
       "      <td>2000-04-25</td>\n",
       "      <td>4</td>\n",
       "    </tr>\n",
       "    <tr>\n",
       "      <th>999877</th>\n",
       "      <td>6040</td>\n",
       "      <td>1419</td>\n",
       "      <td>3</td>\n",
       "      <td>956704056</td>\n",
       "      <td>2000-04-25 23:07:36</td>\n",
       "      <td>0 days 00:00:00</td>\n",
       "      <td>0.0</td>\n",
       "      <td>20709</td>\n",
       "      <td>2000-04-25</td>\n",
       "      <td>5</td>\n",
       "    </tr>\n",
       "    <tr>\n",
       "      <th>999920</th>\n",
       "      <td>6040</td>\n",
       "      <td>213</td>\n",
       "      <td>5</td>\n",
       "      <td>956704056</td>\n",
       "      <td>2000-04-25 23:07:36</td>\n",
       "      <td>0 days 00:00:00</td>\n",
       "      <td>0.0</td>\n",
       "      <td>20709</td>\n",
       "      <td>2000-04-25</td>\n",
       "      <td>6</td>\n",
       "    </tr>\n",
       "    <tr>\n",
       "      <th>999967</th>\n",
       "      <td>6040</td>\n",
       "      <td>3111</td>\n",
       "      <td>5</td>\n",
       "      <td>956704056</td>\n",
       "      <td>2000-04-25 23:07:36</td>\n",
       "      <td>0 days 00:00:00</td>\n",
       "      <td>0.0</td>\n",
       "      <td>20709</td>\n",
       "      <td>2000-04-25</td>\n",
       "      <td>7</td>\n",
       "    </tr>\n",
       "    <tr>\n",
       "      <th>999980</th>\n",
       "      <td>6040</td>\n",
       "      <td>3505</td>\n",
       "      <td>4</td>\n",
       "      <td>956704056</td>\n",
       "      <td>2000-04-25 23:07:36</td>\n",
       "      <td>0 days 00:00:00</td>\n",
       "      <td>0.0</td>\n",
       "      <td>20709</td>\n",
       "      <td>2000-04-25</td>\n",
       "      <td>8</td>\n",
       "    </tr>\n",
       "    <tr>\n",
       "      <th>999868</th>\n",
       "      <td>6040</td>\n",
       "      <td>573</td>\n",
       "      <td>4</td>\n",
       "      <td>956704056</td>\n",
       "      <td>2000-04-25 23:07:36</td>\n",
       "      <td>0 days 00:01:19</td>\n",
       "      <td>0.0</td>\n",
       "      <td>20709</td>\n",
       "      <td>2000-04-25</td>\n",
       "      <td>9</td>\n",
       "    </tr>\n",
       "  </tbody>\n",
       "</table>\n",
       "</div>"
      ],
      "text/plain": [
       "         UserId  ItemId  Rating  Timestamp                Time  \\\n",
       "1000138    6040     858       4  956703932 2000-04-25 23:05:32   \n",
       "1000153    6040    2384       4  956703954 2000-04-25 23:05:54   \n",
       "999873     6040     593       5  956703954 2000-04-25 23:05:54   \n",
       "1000007    6040    1961       4  956703977 2000-04-25 23:06:17   \n",
       "1000192    6040    2019       5  956703977 2000-04-25 23:06:17   \n",
       "999877     6040    1419       3  956704056 2000-04-25 23:07:36   \n",
       "999920     6040     213       5  956704056 2000-04-25 23:07:36   \n",
       "999967     6040    3111       5  956704056 2000-04-25 23:07:36   \n",
       "999980     6040    3505       4  956704056 2000-04-25 23:07:36   \n",
       "999868     6040     573       4  956704056 2000-04-25 23:07:36   \n",
       "\n",
       "                 timediff  iddiff  SessionId        date  item_idx  \n",
       "1000138 -1 days +08:58:23     1.0      20709  2000-04-25         0  \n",
       "1000153   0 days 00:00:00     0.0      20709  2000-04-25         1  \n",
       "999873    0 days 00:00:22     0.0      20709  2000-04-25         2  \n",
       "1000007   0 days 00:00:23     0.0      20709  2000-04-25         3  \n",
       "1000192   0 days 00:00:00     0.0      20709  2000-04-25         4  \n",
       "999877    0 days 00:00:00     0.0      20709  2000-04-25         5  \n",
       "999920    0 days 00:00:00     0.0      20709  2000-04-25         6  \n",
       "999967    0 days 00:00:00     0.0      20709  2000-04-25         7  \n",
       "999980    0 days 00:00:00     0.0      20709  2000-04-25         8  \n",
       "999868    0 days 00:01:19     0.0      20709  2000-04-25         9  "
      ]
     },
     "execution_count": 59,
     "metadata": {},
     "output_type": "execute_result"
    }
   ],
   "source": [
    "train_dataset = SessionDataset(train)\n",
    "train_dataset.df.head(10)"
   ]
  },
  {
   "cell_type": "code",
   "execution_count": 60,
   "id": "734e7e9b",
   "metadata": {},
   "outputs": [
    {
     "data": {
      "text/plain": [
       "array([    0,     1,     2, ..., 11940, 11941, 11942])"
      ]
     },
     "execution_count": 60,
     "metadata": {},
     "output_type": "execute_result"
    }
   ],
   "source": [
    "# sessionId to idx\n",
    "train_dataset.session_idx"
   ]
  },
  {
   "cell_type": "code",
   "execution_count": 61,
   "id": "591ca5fb",
   "metadata": {},
   "outputs": [
    {
     "data": {
      "text/plain": [
       "SessionId\n",
       "1         40\n",
       "2         13\n",
       "3        116\n",
       "4         46\n",
       "5         19\n",
       "        ... \n",
       "20709    133\n",
       "20710     66\n",
       "20711     34\n",
       "20712      7\n",
       "20713     13\n",
       "Length: 11943, dtype: int64"
      ]
     },
     "execution_count": 61,
     "metadata": {},
     "output_type": "execute_result"
    }
   ],
   "source": [
    "# 이게 무슨 의미일까?\n",
    "# train_dataset.click_offsets\n",
    "train_dataset.df.groupby(\"SessionId\").size()"
   ]
  },
  {
   "cell_type": "code",
   "execution_count": 62,
   "id": "b6e6edfc",
   "metadata": {},
   "outputs": [
    {
     "data": {
      "text/plain": [
       "SessionId\n",
       "2            53\n",
       "3           169\n",
       "4           215\n",
       "5           234\n",
       "6           377\n",
       "          ...  \n",
       "20709    794662\n",
       "20710    794728\n",
       "20711    794762\n",
       "20712    794769\n",
       "20713    794782\n",
       "Length: 11942, dtype: int64"
      ]
     },
     "execution_count": 62,
     "metadata": {},
     "output_type": "execute_result"
    }
   ],
   "source": [
    "# 1번 session에 2번 session을 더해서 점점 누적\n",
    "# 그래서 그게 무슨 의미가 있을까?\n",
    "train_dataset.df.groupby(\"SessionId\").size().cumsum()[1:]  # 심지어 2번 인덱스 부터 시작"
   ]
  },
  {
   "cell_type": "code",
   "execution_count": 63,
   "id": "e4dae76f",
   "metadata": {},
   "outputs": [
    {
     "data": {
      "text/plain": [
       "array([     0,     40,     53, ..., 794762, 794769, 794782], dtype=int32)"
      ]
     },
     "execution_count": 63,
     "metadata": {},
     "output_type": "execute_result"
    }
   ],
   "source": [
    "# 0 부터 시작하는 sessioid 발생건수의 누적합 배열이 생성된다.\n",
    "train_dataset.click_offsets"
   ]
  },
  {
   "cell_type": "markdown",
   "id": "d131a6ef",
   "metadata": {},
   "source": [
    "__SessionDataLoader__"
   ]
  },
  {
   "cell_type": "code",
   "execution_count": 64,
   "id": "6c351467",
   "metadata": {},
   "outputs": [],
   "source": [
    "class SessionDataLoader:\n",
    "    \"\"\"Credit to yhs-968/pyGRU4REC.\"\"\"\n",
    "\n",
    "    def __init__(self, dataset: SessionDataset, batch_size=50):\n",
    "        self.dataset = dataset\n",
    "        self.batch_size = batch_size\n",
    "\n",
    "    def __iter__(self):\n",
    "        \"\"\" Returns the iterator for producing session-parallel training mini-batches.\n",
    "        Yields:\n",
    "            input (B,):  Item indices that will be encoded as one-hot vectors later.\n",
    "            target (B,): a Variable that stores the target item indices\n",
    "            masks: Numpy array indicating the positions of the sessions to be terminated\n",
    "        \"\"\"\n",
    "\n",
    "        start, end, mask, last_session, finished = self.initialize()  # initialize 메소드에서 확인해주세요.\n",
    "        \"\"\"\n",
    "        start : Index Where Session Start\n",
    "        end : Index Where Session End\n",
    "        mask : indicator for the sessions to be terminated\n",
    "        \"\"\"\n",
    "\n",
    "        while not finished:\n",
    "            min_len = (end - start).min() - 1  # Shortest Length Among Sessions\n",
    "            for i in range(min_len):\n",
    "                # Build inputs & targets\n",
    "                inp = self.dataset.df['item_idx'].values[start + i]\n",
    "                target = self.dataset.df['item_idx'].values[start + i + 1]\n",
    "                yield inp, target, mask\n",
    "\n",
    "            start, end, mask, last_session, finished = self.update_status(start, end, min_len, last_session, finished)\n",
    "\n",
    "    def initialize(self):\n",
    "        first_iters = np.arange(self.batch_size)    # 첫 배치에 사용할 세션 Index를 가져옵니다.\n",
    "        last_session = self.batch_size - 1    # 마지막으로 다루고 있는 세션 Index를 저장해둡니다.\n",
    "        start = self.dataset.click_offsets[self.dataset.session_idx[first_iters]]       # data 상에서 session이 시작된 위치를 가져옵니다.\n",
    "        end = self.dataset.click_offsets[self.dataset.session_idx[first_iters] + 1]  # session이 끝난 위치 바로 다음 위치를 가져옵니다.\n",
    "        mask = np.array([])   # session의 모든 아이템을 다 돌은 경우 mask에 추가해줄 것입니다.\n",
    "        finished = False         # data를 전부 돌았는지 기록하기 위한 변수입니다.\n",
    "        return start, end, mask, last_session, finished\n",
    "\n",
    "    def update_status(self, start: np.ndarray, end: np.ndarray, min_len: int, last_session: int, finished: bool):  \n",
    "        # 다음 배치 데이터를 생성하기 위해 상태를 update합니다.\n",
    "        \n",
    "        start += min_len   # __iter__에서 min_len 만큼 for문을 돌았으므로 start를 min_len 만큼 더해줍니다.\n",
    "        mask = np.arange(self.batch_size)[(end - start) == 1]  \n",
    "        # end는 다음 세션이 시작되는 위치인데 start와 한 칸 차이난다는 것은 session이 끝났다는 뜻입니다. mask에 기록해줍니다.\n",
    "\n",
    "        for i, idx in enumerate(mask, start=1):  # mask에 추가된 세션 개수만큼 새로운 세션을 돌것입니다.\n",
    "            new_session = last_session + i  \n",
    "            if new_session > self.dataset.session_idx[-1]:  # 만약 새로운 세션이 마지막 세션 index보다 크다면 모든 학습데이터를 돈 것입니다.\n",
    "                finished = True\n",
    "                break\n",
    "            # update the next starting/ending point\n",
    "            start[idx] = self.dataset.click_offsets[self.dataset.session_idx[new_session]]     # 종료된 세션 대신 새로운 세션의 시작점을 기록합니다.\n",
    "            end[idx] = self.dataset.click_offsets[self.dataset.session_idx[new_session] + 1]\n",
    "\n",
    "        last_session += len(mask)  # 마지막 세션의 위치를 기록해둡니다.\n",
    "        return start, end, mask, last_session, finished"
   ]
  },
  {
   "cell_type": "code",
   "execution_count": 65,
   "id": "2ac7064e",
   "metadata": {},
   "outputs": [
    {
     "data": {
      "text/html": [
       "<div>\n",
       "<style scoped>\n",
       "    .dataframe tbody tr th:only-of-type {\n",
       "        vertical-align: middle;\n",
       "    }\n",
       "\n",
       "    .dataframe tbody tr th {\n",
       "        vertical-align: top;\n",
       "    }\n",
       "\n",
       "    .dataframe thead th {\n",
       "        text-align: right;\n",
       "    }\n",
       "</style>\n",
       "<table border=\"1\" class=\"dataframe\">\n",
       "  <thead>\n",
       "    <tr style=\"text-align: right;\">\n",
       "      <th></th>\n",
       "      <th>UserId</th>\n",
       "      <th>ItemId</th>\n",
       "      <th>Rating</th>\n",
       "      <th>Timestamp</th>\n",
       "      <th>Time</th>\n",
       "      <th>timediff</th>\n",
       "      <th>iddiff</th>\n",
       "      <th>SessionId</th>\n",
       "      <th>date</th>\n",
       "      <th>item_idx</th>\n",
       "    </tr>\n",
       "  </thead>\n",
       "  <tbody>\n",
       "    <tr>\n",
       "      <th>1000138</th>\n",
       "      <td>6040</td>\n",
       "      <td>858</td>\n",
       "      <td>4</td>\n",
       "      <td>956703932</td>\n",
       "      <td>2000-04-25 23:05:32</td>\n",
       "      <td>-1 days +08:58:23</td>\n",
       "      <td>1.0</td>\n",
       "      <td>20709</td>\n",
       "      <td>2000-04-25</td>\n",
       "      <td>0</td>\n",
       "    </tr>\n",
       "    <tr>\n",
       "      <th>1000153</th>\n",
       "      <td>6040</td>\n",
       "      <td>2384</td>\n",
       "      <td>4</td>\n",
       "      <td>956703954</td>\n",
       "      <td>2000-04-25 23:05:54</td>\n",
       "      <td>0 days 00:00:00</td>\n",
       "      <td>0.0</td>\n",
       "      <td>20709</td>\n",
       "      <td>2000-04-25</td>\n",
       "      <td>1</td>\n",
       "    </tr>\n",
       "    <tr>\n",
       "      <th>999873</th>\n",
       "      <td>6040</td>\n",
       "      <td>593</td>\n",
       "      <td>5</td>\n",
       "      <td>956703954</td>\n",
       "      <td>2000-04-25 23:05:54</td>\n",
       "      <td>0 days 00:00:22</td>\n",
       "      <td>0.0</td>\n",
       "      <td>20709</td>\n",
       "      <td>2000-04-25</td>\n",
       "      <td>2</td>\n",
       "    </tr>\n",
       "    <tr>\n",
       "      <th>1000007</th>\n",
       "      <td>6040</td>\n",
       "      <td>1961</td>\n",
       "      <td>4</td>\n",
       "      <td>956703977</td>\n",
       "      <td>2000-04-25 23:06:17</td>\n",
       "      <td>0 days 00:00:23</td>\n",
       "      <td>0.0</td>\n",
       "      <td>20709</td>\n",
       "      <td>2000-04-25</td>\n",
       "      <td>3</td>\n",
       "    </tr>\n",
       "    <tr>\n",
       "      <th>1000192</th>\n",
       "      <td>6040</td>\n",
       "      <td>2019</td>\n",
       "      <td>5</td>\n",
       "      <td>956703977</td>\n",
       "      <td>2000-04-25 23:06:17</td>\n",
       "      <td>0 days 00:00:00</td>\n",
       "      <td>0.0</td>\n",
       "      <td>20709</td>\n",
       "      <td>2000-04-25</td>\n",
       "      <td>4</td>\n",
       "    </tr>\n",
       "    <tr>\n",
       "      <th>999877</th>\n",
       "      <td>6040</td>\n",
       "      <td>1419</td>\n",
       "      <td>3</td>\n",
       "      <td>956704056</td>\n",
       "      <td>2000-04-25 23:07:36</td>\n",
       "      <td>0 days 00:00:00</td>\n",
       "      <td>0.0</td>\n",
       "      <td>20709</td>\n",
       "      <td>2000-04-25</td>\n",
       "      <td>5</td>\n",
       "    </tr>\n",
       "    <tr>\n",
       "      <th>999920</th>\n",
       "      <td>6040</td>\n",
       "      <td>213</td>\n",
       "      <td>5</td>\n",
       "      <td>956704056</td>\n",
       "      <td>2000-04-25 23:07:36</td>\n",
       "      <td>0 days 00:00:00</td>\n",
       "      <td>0.0</td>\n",
       "      <td>20709</td>\n",
       "      <td>2000-04-25</td>\n",
       "      <td>6</td>\n",
       "    </tr>\n",
       "    <tr>\n",
       "      <th>999967</th>\n",
       "      <td>6040</td>\n",
       "      <td>3111</td>\n",
       "      <td>5</td>\n",
       "      <td>956704056</td>\n",
       "      <td>2000-04-25 23:07:36</td>\n",
       "      <td>0 days 00:00:00</td>\n",
       "      <td>0.0</td>\n",
       "      <td>20709</td>\n",
       "      <td>2000-04-25</td>\n",
       "      <td>7</td>\n",
       "    </tr>\n",
       "    <tr>\n",
       "      <th>999980</th>\n",
       "      <td>6040</td>\n",
       "      <td>3505</td>\n",
       "      <td>4</td>\n",
       "      <td>956704056</td>\n",
       "      <td>2000-04-25 23:07:36</td>\n",
       "      <td>0 days 00:00:00</td>\n",
       "      <td>0.0</td>\n",
       "      <td>20709</td>\n",
       "      <td>2000-04-25</td>\n",
       "      <td>8</td>\n",
       "    </tr>\n",
       "    <tr>\n",
       "      <th>999868</th>\n",
       "      <td>6040</td>\n",
       "      <td>573</td>\n",
       "      <td>4</td>\n",
       "      <td>956704056</td>\n",
       "      <td>2000-04-25 23:07:36</td>\n",
       "      <td>0 days 00:01:19</td>\n",
       "      <td>0.0</td>\n",
       "      <td>20709</td>\n",
       "      <td>2000-04-25</td>\n",
       "      <td>9</td>\n",
       "    </tr>\n",
       "    <tr>\n",
       "      <th>999888</th>\n",
       "      <td>6040</td>\n",
       "      <td>919</td>\n",
       "      <td>5</td>\n",
       "      <td>956704191</td>\n",
       "      <td>2000-04-25 23:09:51</td>\n",
       "      <td>0 days 00:00:00</td>\n",
       "      <td>0.0</td>\n",
       "      <td>20709</td>\n",
       "      <td>2000-04-25</td>\n",
       "      <td>10</td>\n",
       "    </tr>\n",
       "    <tr>\n",
       "      <th>999971</th>\n",
       "      <td>6040</td>\n",
       "      <td>2503</td>\n",
       "      <td>5</td>\n",
       "      <td>956704191</td>\n",
       "      <td>2000-04-25 23:09:51</td>\n",
       "      <td>0 days 00:00:00</td>\n",
       "      <td>0.0</td>\n",
       "      <td>20709</td>\n",
       "      <td>2000-04-25</td>\n",
       "      <td>11</td>\n",
       "    </tr>\n",
       "    <tr>\n",
       "      <th>999884</th>\n",
       "      <td>6040</td>\n",
       "      <td>912</td>\n",
       "      <td>5</td>\n",
       "      <td>956704191</td>\n",
       "      <td>2000-04-25 23:09:51</td>\n",
       "      <td>0 days 00:01:50</td>\n",
       "      <td>0.0</td>\n",
       "      <td>20709</td>\n",
       "      <td>2000-04-25</td>\n",
       "      <td>12</td>\n",
       "    </tr>\n",
       "    <tr>\n",
       "      <th>1000186</th>\n",
       "      <td>6040</td>\n",
       "      <td>527</td>\n",
       "      <td>5</td>\n",
       "      <td>956704219</td>\n",
       "      <td>2000-04-25 23:10:19</td>\n",
       "      <td>0 days 00:00:28</td>\n",
       "      <td>0.0</td>\n",
       "      <td>20709</td>\n",
       "      <td>2000-04-25</td>\n",
       "      <td>13</td>\n",
       "    </tr>\n",
       "    <tr>\n",
       "      <th>999953</th>\n",
       "      <td>6040</td>\n",
       "      <td>649</td>\n",
       "      <td>5</td>\n",
       "      <td>956704257</td>\n",
       "      <td>2000-04-25 23:10:57</td>\n",
       "      <td>0 days 00:00:38</td>\n",
       "      <td>0.0</td>\n",
       "      <td>20709</td>\n",
       "      <td>2000-04-25</td>\n",
       "      <td>14</td>\n",
       "    </tr>\n",
       "  </tbody>\n",
       "</table>\n",
       "</div>"
      ],
      "text/plain": [
       "         UserId  ItemId  Rating  Timestamp                Time  \\\n",
       "1000138    6040     858       4  956703932 2000-04-25 23:05:32   \n",
       "1000153    6040    2384       4  956703954 2000-04-25 23:05:54   \n",
       "999873     6040     593       5  956703954 2000-04-25 23:05:54   \n",
       "1000007    6040    1961       4  956703977 2000-04-25 23:06:17   \n",
       "1000192    6040    2019       5  956703977 2000-04-25 23:06:17   \n",
       "999877     6040    1419       3  956704056 2000-04-25 23:07:36   \n",
       "999920     6040     213       5  956704056 2000-04-25 23:07:36   \n",
       "999967     6040    3111       5  956704056 2000-04-25 23:07:36   \n",
       "999980     6040    3505       4  956704056 2000-04-25 23:07:36   \n",
       "999868     6040     573       4  956704056 2000-04-25 23:07:36   \n",
       "999888     6040     919       5  956704191 2000-04-25 23:09:51   \n",
       "999971     6040    2503       5  956704191 2000-04-25 23:09:51   \n",
       "999884     6040     912       5  956704191 2000-04-25 23:09:51   \n",
       "1000186    6040     527       5  956704219 2000-04-25 23:10:19   \n",
       "999953     6040     649       5  956704257 2000-04-25 23:10:57   \n",
       "\n",
       "                 timediff  iddiff  SessionId        date  item_idx  \n",
       "1000138 -1 days +08:58:23     1.0      20709  2000-04-25         0  \n",
       "1000153   0 days 00:00:00     0.0      20709  2000-04-25         1  \n",
       "999873    0 days 00:00:22     0.0      20709  2000-04-25         2  \n",
       "1000007   0 days 00:00:23     0.0      20709  2000-04-25         3  \n",
       "1000192   0 days 00:00:00     0.0      20709  2000-04-25         4  \n",
       "999877    0 days 00:00:00     0.0      20709  2000-04-25         5  \n",
       "999920    0 days 00:00:00     0.0      20709  2000-04-25         6  \n",
       "999967    0 days 00:00:00     0.0      20709  2000-04-25         7  \n",
       "999980    0 days 00:00:00     0.0      20709  2000-04-25         8  \n",
       "999868    0 days 00:01:19     0.0      20709  2000-04-25         9  \n",
       "999888    0 days 00:00:00     0.0      20709  2000-04-25        10  \n",
       "999971    0 days 00:00:00     0.0      20709  2000-04-25        11  \n",
       "999884    0 days 00:01:50     0.0      20709  2000-04-25        12  \n",
       "1000186   0 days 00:00:28     0.0      20709  2000-04-25        13  \n",
       "999953    0 days 00:00:38     0.0      20709  2000-04-25        14  "
      ]
     },
     "execution_count": 65,
     "metadata": {},
     "output_type": "execute_result"
    }
   ],
   "source": [
    "train_data_loader = SessionDataLoader(train_dataset, batch_size=4)\n",
    "train_dataset.df.head(15)"
   ]
  },
  {
   "cell_type": "code",
   "execution_count": 66,
   "id": "d58c90a2",
   "metadata": {},
   "outputs": [],
   "source": [
    "iter_ex = iter(train_data_loader)"
   ]
  },
  {
   "cell_type": "code",
   "execution_count": 67,
   "id": "8676aadc",
   "metadata": {},
   "outputs": [
    {
     "name": "stdout",
     "output_type": "stream",
     "text": [
      "Model Input Item Idx are : [ 0 40 53  4]\n",
      "Label Item Idx are :       [ 1 41 54 16]\n",
      "Previous Masked Input Idx are []\n"
     ]
    }
   ],
   "source": [
    "inputs, labels, mask =  next(iter_ex)\n",
    "print(f'Model Input Item Idx are : {inputs}')\n",
    "print(f'Label Item Idx are : {\"\":5} {labels}')\n",
    "print(f'Previous Masked Input Idx are {mask}')"
   ]
  },
  {
   "cell_type": "markdown",
   "id": "77094ad9",
   "metadata": {},
   "source": [
    "### Step 3. 모델 구성\n",
    "\n",
    "------------------------------------\n",
    "\n",
    "이 부분도 실습 코드 내역을 참고하여 다양하게 모델 구조를 시도해 볼 수 있습니다."
   ]
  },
  {
   "cell_type": "markdown",
   "id": "55a08e68",
   "metadata": {},
   "source": [
    "__Evaluation Metric__"
   ]
  },
  {
   "cell_type": "code",
   "execution_count": 68,
   "id": "1cd6c1c6",
   "metadata": {},
   "outputs": [],
   "source": [
    "def mrr_k(pred, truth: int, k: int):\n",
    "    indexing = np.where(pred[:k] == truth)[0]\n",
    "    if len(indexing) > 0:\n",
    "        return 1 / (indexing[0] + 1)\n",
    "    else:\n",
    "        return 0\n",
    "\n",
    "\n",
    "def recall_k(pred, truth: int, k: int) -> int:\n",
    "    answer = truth in pred[:k]\n",
    "    return int(answer)"
   ]
  },
  {
   "cell_type": "markdown",
   "id": "1e6bfdbc",
   "metadata": {},
   "source": [
    "__Model Architecture__"
   ]
  },
  {
   "cell_type": "code",
   "execution_count": 69,
   "id": "7f6b7192",
   "metadata": {},
   "outputs": [],
   "source": [
    "import numpy as np\n",
    "import tensorflow as tf\n",
    "from tensorflow.keras.layers import Input, Dense, Dropout, GRU\n",
    "from tensorflow.keras.losses import categorical_crossentropy\n",
    "from tensorflow.keras.models import Model\n",
    "from tensorflow.keras.optimizers import Adam\n",
    "from tensorflow.keras.utils import to_categorical\n",
    "from tqdm import tqdm"
   ]
  },
  {
   "cell_type": "code",
   "execution_count": 70,
   "id": "4ccbd488",
   "metadata": {},
   "outputs": [],
   "source": [
    "def create_model(args):\n",
    "    inputs = Input(batch_shape=(args.batch_size, 1, args.num_items))\n",
    "    gru, _ = GRU(args.hsz, stateful=True, return_state=True, name='GRU')(inputs)\n",
    "    dropout = Dropout(args.drop_rate)(gru)\n",
    "    predictions = Dense(args.num_items, activation='softmax')(dropout)\n",
    "    model = Model(inputs=inputs, outputs=[predictions])\n",
    "    model.compile(loss=categorical_crossentropy, optimizer=Adam(args.lr), metrics=['accuracy'])\n",
    "    model.summary()\n",
    "    return model"
   ]
  },
  {
   "cell_type": "code",
   "execution_count": 71,
   "id": "4ba927f4",
   "metadata": {},
   "outputs": [],
   "source": [
    "# 모델에 사용할 hyper-parameter를 class형식으로 관리하겠습니다.\n",
    "\n",
    "class Args:\n",
    "    def __init__(self, tr, val, test, batch_size, hsz, drop_rate, lr, epochs, k):\n",
    "        self.tr = tr\n",
    "        self.val = val\n",
    "        self.test = test\n",
    "        self.num_items = tr['ItemId'].nunique()\n",
    "        self.num_sessions = tr['SessionId'].nunique()\n",
    "        self.batch_size = batch_size\n",
    "        self.hsz = hsz\n",
    "        self.drop_rate = drop_rate\n",
    "        self.lr = lr\n",
    "        self.epochs = epochs\n",
    "        self.k = k\n",
    "\n",
    "args = Args(train, val, test, batch_size=256, hsz=50, drop_rate=0.1, lr=0.001, epochs=10, k=20)"
   ]
  },
  {
   "cell_type": "code",
   "execution_count": 215,
   "id": "00d5352d",
   "metadata": {},
   "outputs": [
    {
     "name": "stdout",
     "output_type": "stream",
     "text": [
      "Model: \"model_7\"\n",
      "_________________________________________________________________\n",
      "Layer (type)                 Output Shape              Param #   \n",
      "=================================================================\n",
      "input_8 (InputLayer)         [(256, 1, 3263)]          0         \n",
      "_________________________________________________________________\n",
      "GRU (GRU)                    [(256, 50), (256, 50)]    497250    \n",
      "_________________________________________________________________\n",
      "dropout_7 (Dropout)          (256, 50)                 0         \n",
      "_________________________________________________________________\n",
      "dense_7 (Dense)              (256, 3263)               166413    \n",
      "=================================================================\n",
      "Total params: 663,663\n",
      "Trainable params: 663,663\n",
      "Non-trainable params: 0\n",
      "_________________________________________________________________\n"
     ]
    }
   ],
   "source": [
    "model = create_model(args)"
   ]
  },
  {
   "cell_type": "markdown",
   "id": "afa08ddd",
   "metadata": {},
   "source": [
    "### Step 4. 모델 학습\n",
    "\n",
    "-----------------------------\n",
    "\n",
    "다양한 하이퍼파라미터를 변경해 보며 검증해 보도록 합니다. 실습 코드에 언급되었던 Recall, MRR 등의 개념들도 함께 관리될 수 있도록 합니다."
   ]
  },
  {
   "cell_type": "code",
   "execution_count": 90,
   "id": "cdcd9657",
   "metadata": {},
   "outputs": [],
   "source": [
    "# train 셋으로 학습하면서 valid 셋으로 검증합니다.\n",
    "def train_model(model, args):\n",
    "    train_dataset = SessionDataset(args.tr)\n",
    "    train_loader = SessionDataLoader(train_dataset, batch_size=args.batch_size)\n",
    "\n",
    "    for epoch in range(1, args.epochs + 1):\n",
    "        total_step = len(args.tr) - args.tr['SessionId'].nunique()\n",
    "        tr_loader = tqdm(train_loader, total=total_step // args.batch_size, desc='Train', mininterval=1)\n",
    "        for feat, target, mask in tr_loader:\n",
    "            reset_hidden_states(model, mask)  # 종료된 session은 hidden_state를 초기화합니다. 아래 메서드에서 확인해주세요.\n",
    "\n",
    "            input_ohe = to_categorical(feat, num_classes=args.num_items)\n",
    "            input_ohe = np.expand_dims(input_ohe, axis=1)\n",
    "            target_ohe = to_categorical(target, num_classes=args.num_items)\n",
    "\n",
    "            result = model.train_on_batch(input_ohe, target_ohe)\n",
    "            tr_loader.set_postfix(train_loss=result[0], accuracy = result[1])\n",
    "\n",
    "        val_recall, val_mrr = get_metrics(args.val, model, args, args.k)  # valid set에 대해 검증합니다.\n",
    "\n",
    "        print(f\"\\t - Recall@{args.k} epoch {epoch}: {val_recall:3f}\")\n",
    "        print(f\"\\t - MRR@{args.k}    epoch {epoch}: {val_mrr:3f}\\n\")\n",
    "\n",
    "\n",
    "def reset_hidden_states(model, mask):\n",
    "    gru_layer = model.get_layer(name='GRU')  # model에서 gru layer를 가져옵니다.\n",
    "    hidden_states = gru_layer.states[0].numpy()  # gru_layer의 parameter를 가져옵니다.\n",
    "    for elt in mask:  # mask된 인덱스 즉, 종료된 세션의 인덱스를 돌면서\n",
    "        hidden_states[elt, :] = 0  # parameter를 초기화 합니다.\n",
    "    gru_layer.reset_states(states=hidden_states)\n",
    "\n",
    "\n",
    "def get_metrics(data, model, args, k: int):  # valid셋과 test셋을 평가하는 코드입니다. \n",
    "                                             # train과 거의 같지만 mrr, recall을 구하는 라인이 있습니다.\n",
    "    dataset = SessionDataset(data)\n",
    "    loader = SessionDataLoader(dataset, batch_size=args.batch_size)\n",
    "    recall_list, mrr_list = [], []\n",
    "\n",
    "    total_step = len(data) - data['SessionId'].nunique()\n",
    "    for inputs, label, mask in tqdm(loader, total=total_step // args.batch_size, desc='Evaluation', mininterval=1):\n",
    "        reset_hidden_states(model, mask)\n",
    "        input_ohe = to_categorical(inputs, num_classes=args.num_items)\n",
    "        input_ohe = np.expand_dims(input_ohe, axis=1)\n",
    "\n",
    "        pred = model.predict(input_ohe, batch_size=args.batch_size)\n",
    "        pred_arg = tf.argsort(pred, direction='DESCENDING')  # softmax 값이 큰 순서대로 sorting 합니다.\n",
    "\n",
    "        length = len(inputs)\n",
    "        recall_list.extend([recall_k(pred_arg[i], label[i], k) for i in range(length)])\n",
    "        mrr_list.extend([mrr_k(pred_arg[i], label[i], k) for i in range(length)])\n",
    "\n",
    "    recall, mrr = np.mean(recall_list), np.mean(mrr_list)\n",
    "    return recall, mrr"
   ]
  },
  {
   "cell_type": "markdown",
   "id": "42a0f68b",
   "metadata": {},
   "source": [
    "__model_1__  \n",
    "\n",
    "train, val, test, batch_size=256, hsz=50, drop_rate=0.1, lr=0.001, epochs=10, k=20"
   ]
  },
  {
   "cell_type": "code",
   "execution_count": 217,
   "id": "64339f90",
   "metadata": {},
   "outputs": [
    {
     "name": "stderr",
     "output_type": "stream",
     "text": [
      "Train:  99%|█████████▊| 2290/2320 [00:47<00:00, 47.84it/s, accuracy=0.00781, train_loss=7.29]\n",
      "Evaluation:  42%|████▏     | 13/31 [00:14<00:20,  1.14s/it]\n"
     ]
    },
    {
     "name": "stdout",
     "output_type": "stream",
     "text": [
      "\t - Recall@20 epoch 1: 0.071214\n",
      "\t - MRR@20    epoch 1: 0.015798\n",
      "\n"
     ]
    },
    {
     "name": "stderr",
     "output_type": "stream",
     "text": [
      "Train:  99%|█████████▊| 2290/2320 [00:44<00:00, 51.85it/s, accuracy=0.0117, train_loss=6.99] \n",
      "Evaluation:  42%|████▏     | 13/31 [00:14<00:19,  1.11s/it]\n"
     ]
    },
    {
     "name": "stdout",
     "output_type": "stream",
     "text": [
      "\t - Recall@20 epoch 2: 0.106671\n",
      "\t - MRR@20    epoch 2: 0.026983\n",
      "\n"
     ]
    },
    {
     "name": "stderr",
     "output_type": "stream",
     "text": [
      "Train:  99%|█████████▊| 2290/2320 [00:43<00:00, 52.28it/s, accuracy=0.0117, train_loss=6.89] \n",
      "Evaluation:  42%|████▏     | 13/31 [00:14<00:19,  1.08s/it]\n"
     ]
    },
    {
     "name": "stdout",
     "output_type": "stream",
     "text": [
      "\t - Recall@20 epoch 3: 0.127103\n",
      "\t - MRR@20    epoch 3: 0.030240\n",
      "\n"
     ]
    },
    {
     "name": "stderr",
     "output_type": "stream",
     "text": [
      "Train:  99%|█████████▊| 2290/2320 [00:44<00:00, 51.70it/s, accuracy=0.0117, train_loss=6.88] \n",
      "Evaluation:  42%|████▏     | 13/31 [00:13<00:19,  1.07s/it]\n"
     ]
    },
    {
     "name": "stdout",
     "output_type": "stream",
     "text": [
      "\t - Recall@20 epoch 4: 0.130108\n",
      "\t - MRR@20    epoch 4: 0.032752\n",
      "\n"
     ]
    },
    {
     "name": "stderr",
     "output_type": "stream",
     "text": [
      "Train:  99%|█████████▊| 2290/2320 [00:44<00:00, 51.92it/s, accuracy=0.00391, train_loss=6.83]\n",
      "Evaluation:  42%|████▏     | 13/31 [00:13<00:19,  1.08s/it]\n"
     ]
    },
    {
     "name": "stdout",
     "output_type": "stream",
     "text": [
      "\t - Recall@20 epoch 5: 0.131010\n",
      "\t - MRR@20    epoch 5: 0.033433\n",
      "\n"
     ]
    },
    {
     "name": "stderr",
     "output_type": "stream",
     "text": [
      "Train:  99%|█████████▊| 2290/2320 [00:44<00:00, 51.88it/s, accuracy=0.00781, train_loss=6.83]\n",
      "Evaluation:  42%|████▏     | 13/31 [00:13<00:19,  1.08s/it]\n"
     ]
    },
    {
     "name": "stdout",
     "output_type": "stream",
     "text": [
      "\t - Recall@20 epoch 6: 0.136719\n",
      "\t - MRR@20    epoch 6: 0.033576\n",
      "\n"
     ]
    },
    {
     "name": "stderr",
     "output_type": "stream",
     "text": [
      "Train:  99%|█████████▊| 2290/2320 [00:45<00:00, 50.74it/s, accuracy=0.00391, train_loss=6.8] \n",
      "Evaluation:  42%|████▏     | 13/31 [00:13<00:19,  1.07s/it]\n"
     ]
    },
    {
     "name": "stdout",
     "output_type": "stream",
     "text": [
      "\t - Recall@20 epoch 7: 0.139423\n",
      "\t - MRR@20    epoch 7: 0.034279\n",
      "\n"
     ]
    },
    {
     "name": "stderr",
     "output_type": "stream",
     "text": [
      "Train:  99%|█████████▊| 2290/2320 [00:44<00:00, 50.98it/s, accuracy=0.00391, train_loss=6.77]\n",
      "Evaluation:  42%|████▏     | 13/31 [00:13<00:19,  1.08s/it]\n"
     ]
    },
    {
     "name": "stdout",
     "output_type": "stream",
     "text": [
      "\t - Recall@20 epoch 8: 0.138221\n",
      "\t - MRR@20    epoch 8: 0.034064\n",
      "\n"
     ]
    },
    {
     "name": "stderr",
     "output_type": "stream",
     "text": [
      "Train:  99%|█████████▊| 2290/2320 [00:44<00:00, 52.00it/s, accuracy=0.00391, train_loss=6.7] \n",
      "Evaluation:  42%|████▏     | 13/31 [00:13<00:19,  1.08s/it]\n"
     ]
    },
    {
     "name": "stdout",
     "output_type": "stream",
     "text": [
      "\t - Recall@20 epoch 9: 0.139423\n",
      "\t - MRR@20    epoch 9: 0.034712\n",
      "\n"
     ]
    },
    {
     "name": "stderr",
     "output_type": "stream",
     "text": [
      "Train:  99%|█████████▊| 2290/2320 [00:44<00:00, 51.92it/s, accuracy=0.0156, train_loss=6.68] \n",
      "Evaluation:  42%|████▏     | 13/31 [00:13<00:19,  1.08s/it]"
     ]
    },
    {
     "name": "stdout",
     "output_type": "stream",
     "text": [
      "\t - Recall@20 epoch 10: 0.140024\n",
      "\t - MRR@20    epoch 10: 0.035436\n",
      "\n"
     ]
    },
    {
     "name": "stderr",
     "output_type": "stream",
     "text": [
      "\n"
     ]
    }
   ],
   "source": [
    "# 학습 시간이 다소 오래 소요됩니다. 아래 주석을 풀지 마세요.\n",
    "train_model(model, args)"
   ]
  },
  {
   "cell_type": "markdown",
   "id": "f6e6bfc3",
   "metadata": {},
   "source": [
    "> val 인덱싱에서 문제가 있었는데 날짜를 늘리니까 갑자기 됐다.\n",
    "아무래도 길이가 너무 짧아서 문제가 있었던거 같다. "
   ]
  },
  {
   "cell_type": "markdown",
   "id": "fc5fa1d5",
   "metadata": {},
   "source": [
    "### Step 5. 모델 테스트\n",
    "\n",
    "-------------------------\n",
    "\n",
    "미리 구성한 테스트셋을 바탕으로 Recall, MRR 을 확인해 봅니다."
   ]
  },
  {
   "cell_type": "code",
   "execution_count": 74,
   "id": "2b0c50ed",
   "metadata": {
    "scrolled": true
   },
   "outputs": [],
   "source": [
    "def test_model(model, args, test):\n",
    "    test_recall, test_mrr = get_metrics(test, model, args, 20)\n",
    "    print(f\"\\t - Recall@{args.k}: {test_recall:3f}\")\n",
    "    print(f\"\\t - MRR@{args.k}: {test_mrr:3f}\\n\")\n",
    "\n",
    "# test_model(model, args, test)"
   ]
  },
  {
   "cell_type": "markdown",
   "id": "786c7d05",
   "metadata": {},
   "source": [
    "### Step 6. 하이퍼 파라미터 수정"
   ]
  },
  {
   "cell_type": "markdown",
   "id": "2497da9e",
   "metadata": {},
   "source": [
    "__model_2__\n",
    "\n",
    "train, val, test, batch_size=256, hsz=100, drop_rate=0.1, lr=0.001, epochs=10, k=20"
   ]
  },
  {
   "cell_type": "code",
   "execution_count": 226,
   "id": "5609681e",
   "metadata": {},
   "outputs": [
    {
     "name": "stdout",
     "output_type": "stream",
     "text": [
      "Model: \"model_12\"\n",
      "_________________________________________________________________\n",
      "Layer (type)                 Output Shape              Param #   \n",
      "=================================================================\n",
      "input_13 (InputLayer)        [(256, 1, 3263)]          0         \n",
      "_________________________________________________________________\n",
      "GRU (GRU)                    [(256, 100), (256, 100)]  1009500   \n",
      "_________________________________________________________________\n",
      "dropout_12 (Dropout)         (256, 100)                0         \n",
      "_________________________________________________________________\n",
      "dense_12 (Dense)             (256, 3263)               329563    \n",
      "=================================================================\n",
      "Total params: 1,339,063\n",
      "Trainable params: 1,339,063\n",
      "Non-trainable params: 0\n",
      "_________________________________________________________________\n"
     ]
    },
    {
     "name": "stderr",
     "output_type": "stream",
     "text": [
      "Train:  99%|█████████▊| 2290/2320 [00:49<00:00, 46.29it/s, accuracy=0.00391, train_loss=7.05]\n",
      "Evaluation:  42%|████▏     | 13/31 [00:14<00:20,  1.15s/it]\n"
     ]
    },
    {
     "name": "stdout",
     "output_type": "stream",
     "text": [
      "\t - Recall@20 epoch 1: 0.098257\n",
      "\t - MRR@20    epoch 1: 0.023587\n",
      "\n"
     ]
    },
    {
     "name": "stderr",
     "output_type": "stream",
     "text": [
      "Train:  99%|█████████▊| 2290/2320 [00:48<00:00, 47.66it/s, accuracy=0.0156, train_loss=6.86] \n",
      "Evaluation:  42%|████▏     | 13/31 [00:14<00:19,  1.11s/it]\n"
     ]
    },
    {
     "name": "stdout",
     "output_type": "stream",
     "text": [
      "\t - Recall@20 epoch 2: 0.129808\n",
      "\t - MRR@20    epoch 2: 0.031707\n",
      "\n"
     ]
    },
    {
     "name": "stderr",
     "output_type": "stream",
     "text": [
      "Train:  99%|█████████▊| 2290/2320 [00:47<00:00, 47.72it/s, accuracy=0.00781, train_loss=6.79]\n",
      "Evaluation:  42%|████▏     | 13/31 [00:14<00:19,  1.09s/it]\n"
     ]
    },
    {
     "name": "stdout",
     "output_type": "stream",
     "text": [
      "\t - Recall@20 epoch 3: 0.135517\n",
      "\t - MRR@20    epoch 3: 0.033720\n",
      "\n"
     ]
    },
    {
     "name": "stderr",
     "output_type": "stream",
     "text": [
      "Train:  99%|█████████▊| 2290/2320 [00:47<00:00, 47.94it/s, accuracy=0.00391, train_loss=6.7] \n",
      "Evaluation:  42%|████▏     | 13/31 [00:14<00:19,  1.09s/it]\n"
     ]
    },
    {
     "name": "stdout",
     "output_type": "stream",
     "text": [
      "\t - Recall@20 epoch 4: 0.137921\n",
      "\t - MRR@20    epoch 4: 0.035972\n",
      "\n"
     ]
    },
    {
     "name": "stderr",
     "output_type": "stream",
     "text": [
      "Train:  99%|█████████▊| 2290/2320 [00:47<00:00, 47.76it/s, accuracy=0.00781, train_loss=6.68]\n",
      "Evaluation:  42%|████▏     | 13/31 [00:14<00:19,  1.10s/it]\n"
     ]
    },
    {
     "name": "stdout",
     "output_type": "stream",
     "text": [
      "\t - Recall@20 epoch 5: 0.139123\n",
      "\t - MRR@20    epoch 5: 0.036790\n",
      "\n"
     ]
    },
    {
     "name": "stderr",
     "output_type": "stream",
     "text": [
      "Train:  99%|█████████▊| 2290/2320 [00:47<00:00, 47.86it/s, accuracy=0.0156, train_loss=6.64] \n",
      "Evaluation:  42%|████▏     | 13/31 [00:14<00:20,  1.12s/it]\n"
     ]
    },
    {
     "name": "stdout",
     "output_type": "stream",
     "text": [
      "\t - Recall@20 epoch 6: 0.140024\n",
      "\t - MRR@20    epoch 6: 0.038483\n",
      "\n"
     ]
    },
    {
     "name": "stderr",
     "output_type": "stream",
     "text": [
      "Train:  99%|█████████▊| 2290/2320 [00:47<00:00, 48.62it/s, accuracy=0.00781, train_loss=6.59]\n",
      "Evaluation:  42%|████▏     | 13/31 [00:14<00:19,  1.10s/it]\n"
     ]
    },
    {
     "name": "stdout",
     "output_type": "stream",
     "text": [
      "\t - Recall@20 epoch 7: 0.140325\n",
      "\t - MRR@20    epoch 7: 0.039432\n",
      "\n"
     ]
    },
    {
     "name": "stderr",
     "output_type": "stream",
     "text": [
      "Train:  99%|█████████▊| 2290/2320 [00:47<00:00, 47.92it/s, accuracy=0.0156, train_loss=6.51] \n",
      "Evaluation:  42%|████▏     | 13/31 [00:13<00:19,  1.08s/it]\n"
     ]
    },
    {
     "name": "stdout",
     "output_type": "stream",
     "text": [
      "\t - Recall@20 epoch 8: 0.137921\n",
      "\t - MRR@20    epoch 8: 0.039832\n",
      "\n"
     ]
    },
    {
     "name": "stderr",
     "output_type": "stream",
     "text": [
      "Train:  99%|█████████▊| 2290/2320 [00:47<00:00, 47.82it/s, accuracy=0.0234, train_loss=6.46] \n",
      "Evaluation:  42%|████▏     | 13/31 [00:14<00:19,  1.08s/it]\n"
     ]
    },
    {
     "name": "stdout",
     "output_type": "stream",
     "text": [
      "\t - Recall@20 epoch 9: 0.139123\n",
      "\t - MRR@20    epoch 9: 0.040212\n",
      "\n"
     ]
    },
    {
     "name": "stderr",
     "output_type": "stream",
     "text": [
      "Train:  99%|█████████▊| 2290/2320 [00:47<00:00, 48.37it/s, accuracy=0.0273, train_loss=6.45]\n",
      "Evaluation:  42%|████▏     | 13/31 [00:14<00:19,  1.09s/it]"
     ]
    },
    {
     "name": "stdout",
     "output_type": "stream",
     "text": [
      "\t - Recall@20 epoch 10: 0.134615\n",
      "\t - MRR@20    epoch 10: 0.040840\n",
      "\n"
     ]
    },
    {
     "name": "stderr",
     "output_type": "stream",
     "text": [
      "\n"
     ]
    }
   ],
   "source": [
    "args = Args(train, val, test, batch_size=256, hsz=100, drop_rate=0.1, lr=0.001, epochs=10, k=20)\n",
    "model_2 = create_model(args)\n",
    "train_model(model_2, args)"
   ]
  },
  {
   "cell_type": "code",
   "execution_count": 227,
   "id": "518798d2",
   "metadata": {},
   "outputs": [
    {
     "name": "stderr",
     "output_type": "stream",
     "text": [
      "Evaluation:  26%|██▌       | 6/23 [00:06<00:18,  1.09s/it]"
     ]
    },
    {
     "name": "stdout",
     "output_type": "stream",
     "text": [
      "\t - Recall@20: 0.151042\n",
      "\t - MRR@20: 0.042958\n",
      "\n"
     ]
    },
    {
     "name": "stderr",
     "output_type": "stream",
     "text": [
      "\n"
     ]
    }
   ],
   "source": [
    "test_model(model_2, args, test)"
   ]
  },
  {
   "cell_type": "markdown",
   "id": "73b30e4f",
   "metadata": {},
   "source": [
    "__model_3__  |\n",
    " batch_size = 32, session구분 1일,k = 20"
   ]
  },
  {
   "cell_type": "code",
   "execution_count": 72,
   "id": "1c5261d8",
   "metadata": {},
   "outputs": [],
   "source": [
    "def create_model(args):\n",
    "    inputs = Input(batch_shape=(args.batch_size, 1, args.num_items))\n",
    "    gru, _ = GRU(args.hsz, stateful=True, return_state=True, name='GRU')(inputs)\n",
    "    dropout = Dropout(args.drop_rate)(gru)\n",
    "    predictions = Dense(args.num_items, activation='softmax')(dropout)\n",
    "    model = Model(inputs=inputs, outputs=[predictions])\n",
    "    model.compile(loss=categorical_crossentropy, optimizer=Adam(args.lr), metrics=['accuracy'])\n",
    "    model.summary()\n",
    "    return model"
   ]
  },
  {
   "cell_type": "code",
   "execution_count": 75,
   "id": "73366f2c",
   "metadata": {
    "scrolled": false
   },
   "outputs": [
    {
     "name": "stdout",
     "output_type": "stream",
     "text": [
      "Model: \"model_1\"\n",
      "_________________________________________________________________\n",
      "Layer (type)                 Output Shape              Param #   \n",
      "=================================================================\n",
      "input_2 (InputLayer)         [(32, 1, 3302)]           0         \n",
      "_________________________________________________________________\n",
      "GRU (GRU)                    [(32, 100), (32, 100)]    1021200   \n",
      "_________________________________________________________________\n",
      "dropout_1 (Dropout)          (32, 100)                 0         \n",
      "_________________________________________________________________\n",
      "dense_1 (Dense)              (32, 3302)                333502    \n",
      "=================================================================\n",
      "Total params: 1,354,702\n",
      "Trainable params: 1,354,702\n",
      "Non-trainable params: 0\n",
      "_________________________________________________________________\n"
     ]
    },
    {
     "ename": "NameError",
     "evalue": "name 'train_model' is not defined",
     "output_type": "error",
     "traceback": [
      "\u001b[0;31m---------------------------------------------------------------------------\u001b[0m",
      "\u001b[0;31mNameError\u001b[0m                                 Traceback (most recent call last)",
      "\u001b[0;32m/tmp/ipykernel_31/2054400654.py\u001b[0m in \u001b[0;36m<module>\u001b[0;34m\u001b[0m\n\u001b[1;32m      1\u001b[0m \u001b[0margs\u001b[0m \u001b[0;34m=\u001b[0m \u001b[0mArgs\u001b[0m\u001b[0;34m(\u001b[0m\u001b[0mtrain\u001b[0m\u001b[0;34m,\u001b[0m \u001b[0mval\u001b[0m\u001b[0;34m,\u001b[0m \u001b[0mtest\u001b[0m\u001b[0;34m,\u001b[0m \u001b[0mbatch_size\u001b[0m\u001b[0;34m=\u001b[0m\u001b[0;36m32\u001b[0m\u001b[0;34m,\u001b[0m \u001b[0mhsz\u001b[0m\u001b[0;34m=\u001b[0m\u001b[0;36m100\u001b[0m\u001b[0;34m,\u001b[0m \u001b[0mdrop_rate\u001b[0m\u001b[0;34m=\u001b[0m\u001b[0;36m0.1\u001b[0m\u001b[0;34m,\u001b[0m \u001b[0mlr\u001b[0m\u001b[0;34m=\u001b[0m\u001b[0;36m0.001\u001b[0m\u001b[0;34m,\u001b[0m \u001b[0mepochs\u001b[0m\u001b[0;34m=\u001b[0m\u001b[0;36m10\u001b[0m\u001b[0;34m,\u001b[0m \u001b[0mk\u001b[0m\u001b[0;34m=\u001b[0m\u001b[0;36m20\u001b[0m\u001b[0;34m)\u001b[0m\u001b[0;34m\u001b[0m\u001b[0;34m\u001b[0m\u001b[0m\n\u001b[1;32m      2\u001b[0m \u001b[0mmodel_3\u001b[0m \u001b[0;34m=\u001b[0m \u001b[0mcreate_model\u001b[0m\u001b[0;34m(\u001b[0m\u001b[0margs\u001b[0m\u001b[0;34m)\u001b[0m\u001b[0;34m\u001b[0m\u001b[0;34m\u001b[0m\u001b[0m\n\u001b[0;32m----> 3\u001b[0;31m \u001b[0mtrain_model\u001b[0m\u001b[0;34m(\u001b[0m\u001b[0mmodel_3\u001b[0m\u001b[0;34m,\u001b[0m \u001b[0margs\u001b[0m\u001b[0;34m)\u001b[0m\u001b[0;34m\u001b[0m\u001b[0;34m\u001b[0m\u001b[0m\n\u001b[0m",
      "\u001b[0;31mNameError\u001b[0m: name 'train_model' is not defined"
     ]
    }
   ],
   "source": [
    "args = Args(train, val, test, batch_size=32, hsz=100, drop_rate=0.1, lr=0.001, epochs=10, k=20)\n",
    "model_3 = create_model(args)\n",
    "train_model(model_3, args)"
   ]
  },
  {
   "cell_type": "code",
   "execution_count": null,
   "id": "8d89a9d0",
   "metadata": {},
   "outputs": [],
   "source": [
    "test_model(model_3, args, test)"
   ]
  },
  {
   "cell_type": "code",
   "execution_count": null,
   "id": "f47c0595",
   "metadata": {},
   "outputs": [],
   "source": []
  }
 ],
 "metadata": {
  "kernelspec": {
   "display_name": "Python 3 (ipykernel)",
   "language": "python",
   "name": "python3"
  },
  "language_info": {
   "codemirror_mode": {
    "name": "ipython",
    "version": 3
   },
   "file_extension": ".py",
   "mimetype": "text/x-python",
   "name": "python",
   "nbconvert_exporter": "python",
   "pygments_lexer": "ipython3",
   "version": "3.9.7"
  }
 },
 "nbformat": 4,
 "nbformat_minor": 5
}
